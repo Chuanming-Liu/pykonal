{
 "cells": [
  {
   "cell_type": "code",
   "execution_count": null,
   "metadata": {},
   "outputs": [],
   "source": [
    "#%matplotlib ipympl\n",
    "\n",
    "from mpl_toolkits.mplot3d import axes3d\n",
    "import matplotlib.pyplot as plt\n",
    "import numpy as np\n",
    "import pandas as pd\n",
    "import pykonal\n",
    "import seispy"
   ]
  },
  {
   "cell_type": "markdown",
   "metadata": {},
   "source": [
    "### Reformat the velocity model and save as NumPy .npz file for fast I/O\n",
    "\n",
    "This only needs to be done once, but I am leaving it here for you to look at in case you want to reformat a different data set."
   ]
  },
  {
   "cell_type": "code",
   "execution_count": null,
   "metadata": {},
   "outputs": [],
   "source": [
    "import glob\n",
    "\n",
    "with open(os.path.join(GOOGLE_DRIVE, 'malcolm.white@usc.edu', 'data', 'velocity', 'Golos_et_al', 'lon.txt')) as inf:\n",
    "    phi = np.array([float(v) for v in inf.read().split('\\n')[:-1]])\n",
    "    \n",
    "with open(os.path.join(GOOGLE_DRIVE, 'malcolm.white@usc.edu', 'data', 'velocity', 'Golos_et_al', 'lat.txt')) as inf:\n",
    "    lamda = np.array([float(v) for v in inf.read().split('\\n')[:-1]])\n",
    "    \n",
    "velocity = {}\n",
    "for file in sorted(glob.glob(os.path.join(GOOGLE_DRIVE, 'malcolm.white@usc.edu', 'data', 'velocity', 'Golos_et_al', 'Vs*.txt'))):\n",
    "    depth = float(os.path.splitext(os.path.basename(file))[0][2:])\n",
    "    with open(file) as inf:\n",
    "        velocity[depth] = np.array([float(v) for v in inf.read().split('\\n')[:-1]])\n",
    "        \n",
    "df0 = pd.DataFrame()\n",
    "for depth in velocity:\n",
    "    df          =  pd.DataFrame(velocity[depth], columns=('Vs',))\n",
    "    df['theta'] = np.pi/2 - lamda\n",
    "    df['phi']   = phi\n",
    "    df['rho']   = 6371 - depth\n",
    "    df0         = df0.append(df, ignore_index=True)\n",
    "df0 = df0.sort_values(['rho', 'theta', 'phi'])\n",
    "\n",
    "nrho, ntheta, nphi = len(df0['rho'].unique()), len(df0['theta'].unique()), len(df0['phi'].unique())\n",
    "drho               = np.mean(np.diff(df0['rho'].unique()))\n",
    "dtheta             = np.mean(np.diff(df0['theta'].unique()))\n",
    "dphi               = np.mean(np.diff(df0['phi'].unique()))\n",
    "rho0               = df0['rho'].min()\n",
    "theta0             = df0['theta'].min()\n",
    "phi0               = df0['phi'].min()\n",
    "vs = df0['Vs'].values.reshape((nrho, ntheta, nphi))\n",
    "\n",
    "np.savez_compressed(\n",
    "    os.path.join(GOOGLE_DRIVE, 'malcolm.white@usc.edu', 'data', 'velocity', 'Golos_et_al', 'Vs.npz'),\n",
    "    Vs=vs,\n",
    "    min_coords=np.array([rho0, theta0, phi0]),\n",
    "    node_intervals=np.array([drho, dtheta, dphi]),\n",
    "    npts=np.array([nrho, ntheta, nphi])\n",
    ")"
   ]
  },
  {
   "cell_type": "markdown",
   "metadata": {},
   "source": [
    "# Example 1\n",
    "-----\n",
    "### 1.1 Set up and run a simple 3D example\n",
    "This takes ~1.5-2 minutes on my desktop."
   ]
  },
  {
   "cell_type": "code",
   "execution_count": null,
   "metadata": {},
   "outputs": [],
   "source": [
    "# This is the index of the grid node that I am treating as the source.\n",
    "# Sources that do not fall exactly on a grid node take a little more set up;\n",
    "# more to come on that later.\n",
    "src_idx                        = (100, 63, 124)\n",
    "\n",
    "# Load the velocity model from the NumPy .npz file\n",
    "npz = np.load(\n",
    "    os.path.join(GOOGLE_DRIVE, 'malcolm.white@usc.edu', 'data', 'velocity', 'Golos_et_al', 'Vs.npz'),\n",
    ")\n",
    "\n",
    "# Instantiate an pykonal.EikonalSolver object.\n",
    "far_field                      = pykonal.EikonalSolver(coord_sys='spherical')\n",
    "# Define the velocity model.\n",
    "far_field.vgrid.min_coords     = npz['min_coords']\n",
    "far_field.vgrid.node_intervals = npz['node_intervals']\n",
    "far_field.vgrid.npts           = npz['npts']\n",
    "far_field.vv                   = npz['Vs']\n",
    "\n",
    "# Set the travel time to zero at the source node\n",
    "far_field.uu[src_idx]     = 0\n",
    "# And update the appropriate state variables.\n",
    "far_field.is_far[src_idx] = False\n",
    "far_field.close.push(*src_idx)\n",
    "\n",
    "# Solve the Eikonal equation.\n",
    "%time far_field.solve()"
   ]
  },
  {
   "cell_type": "markdown",
   "metadata": {},
   "source": [
    "## 1.2 Plot the resulting travel-time field\n",
    "### 1.2.1 Convert spherical coordinates to cartesian for plotting"
   ]
  },
  {
   "cell_type": "code",
   "execution_count": null,
   "metadata": {},
   "outputs": [],
   "source": [
    "pgrid = far_field.pgrid[...]\n",
    "vgrid = far_field.vgrid[...]\n",
    "uu = far_field.uu\n",
    "vv = far_field.vv\n",
    "xxp  = pgrid[...,0] * np.sin(pgrid[...,1]) * np.cos(pgrid[...,2])\n",
    "yyp  = pgrid[...,0] * np.sin(pgrid[...,1]) * np.sin(pgrid[...,2])\n",
    "zzp  = pgrid[...,0] * np.cos(pgrid[...,1])\n",
    "xxv  = vgrid[...,0] * np.sin(vgrid[...,1]) * np.cos(vgrid[...,2])\n",
    "yyv  = vgrid[...,0] * np.sin(vgrid[...,1]) * np.sin(vgrid[...,2])\n",
    "zzv  = vgrid[...,0] * np.cos(vgrid[...,1])"
   ]
  },
  {
   "cell_type": "markdown",
   "metadata": {},
   "source": [
    "### 1.2.2 Plot the travel time field for constant $\\phi = \\phi_0$"
   ]
  },
  {
   "cell_type": "code",
   "execution_count": null,
   "metadata": {},
   "outputs": [],
   "source": [
    "# Choose the index of phi to plot\n",
    "ip = 0\n",
    "\n",
    "# Plot the velocity model in the first subplot.\n",
    "fig = plt.figure()\n",
    "ax1 = fig.add_subplot(1, 2, 1, aspect=1)\n",
    "qmesh = ax1.pcolormesh(\n",
    "    xxv[:,:,ip],\n",
    "    zzv[:,:,ip],\n",
    "    vv[:,:,ip],\n",
    "    cmap=plt.get_cmap('jet'),\n",
    "    shading='gouraud'\n",
    ")\n",
    "cbar = fig.colorbar(qmesh, ax=ax1, orientation='horizontal')\n",
    "cbar.set_label('Velocity [km/s]')\n",
    "ax1.scatter(\n",
    "    xxv[src_idx],\n",
    "    zzv[src_idx],\n",
    "    s=250,\n",
    "    marker='*',\n",
    "    edgecolor='k',\n",
    "    facecolor='w',\n",
    "    linewidth=1\n",
    ")\n",
    "\n",
    "# Plot the travel-time field in the second subplot.\n",
    "ax2 = fig.add_subplot(1, 2, 2, aspect=1)\n",
    "qmesh = ax2.pcolormesh(\n",
    "    xxp[:,:,ip],\n",
    "    zzp[:,:,ip],\n",
    "    uu[:,:,ip],\n",
    "    cmap=plt.get_cmap('jet_r'),\n",
    "    shading='gouraud',\n",
    "    vmax=2e3\n",
    ")\n",
    "ax2.yaxis.tick_right()\n",
    "cbar = fig.colorbar(qmesh, ax=ax2, orientation='horizontal')\n",
    "cbar.set_label('Travel time [s]')\n",
    "ax2.scatter(\n",
    "    xxp[src_idx],\n",
    "    zzp[src_idx],\n",
    "    s=250,\n",
    "    marker='*',\n",
    "    edgecolor='k',\n",
    "    facecolor='w',\n",
    "    linewidth=1\n",
    ")"
   ]
  },
  {
   "cell_type": "markdown",
   "metadata": {},
   "source": [
    "### 1.2.3 Plot the travel-time field for constant $\\theta = \\theta_0$"
   ]
  },
  {
   "cell_type": "code",
   "execution_count": null,
   "metadata": {},
   "outputs": [],
   "source": [
    "it = src_idx[1]\n",
    "\n",
    "fig = plt.figure()\n",
    "ax1 = fig.add_subplot(1, 2, 1, aspect=1)\n",
    "qmesh = ax1.pcolormesh(\n",
    "    xxv[:,it,:],\n",
    "    yyv[:,it,:],\n",
    "    vv[:,it,:],\n",
    "    cmap=plt.get_cmap('jet'),\n",
    "    shading='gouraud'\n",
    ")\n",
    "cbar = fig.colorbar(qmesh, ax=ax1, orientation='horizontal')\n",
    "cbar.set_label('Velocity [km/s]')\n",
    "ax1.scatter(\n",
    "    xxv[src_idx],\n",
    "    yyv[src_idx],\n",
    "    s=250,\n",
    "    marker='*',\n",
    "    edgecolor='k',\n",
    "    facecolor='w',\n",
    "    linewidth=1\n",
    ")\n",
    "ax2 = fig.add_subplot(1, 2, 2, aspect=1)\n",
    "qmesh = ax2.pcolormesh(\n",
    "    xxp[:,it,:],\n",
    "    yyp[:,it,:],\n",
    "    uu[:,it,:],\n",
    "    cmap=plt.get_cmap('jet_r'),\n",
    "    shading='gouraud',\n",
    "    vmax=2e3\n",
    ")\n",
    "ax2.yaxis.tick_right()\n",
    "cbar = fig.colorbar(qmesh, ax=ax2, orientation='horizontal')\n",
    "cbar.set_label('Travel time [s]')\n",
    "ax2.scatter(\n",
    "    xxp[src_idx],\n",
    "    yyp[src_idx],\n",
    "    s=250,\n",
    "    marker='*',\n",
    "    edgecolor='k',\n",
    "    facecolor='w',\n",
    "    linewidth=1\n",
    ")"
   ]
  },
  {
   "cell_type": "markdown",
   "metadata": {},
   "source": [
    "# Example 2\n",
    "-----\n",
    "\n",
    "This example uses a refined grid in the source region to improve accuracy.\n",
    "\n",
    "## 2.1. Set up and run a more involved example\n",
    "### 2.1.1 Define the source location"
   ]
  },
  {
   "cell_type": "code",
   "execution_count": null,
   "metadata": {},
   "outputs": [],
   "source": [
    "# Specify the source coordinates\n",
    "lat0, lon0, depth0 = 0, 90, 410\n",
    "\n",
    "# Convert the source coordinates to spherical coordinates\n",
    "rho0   = 6371. - depth0\n",
    "theta0 = np.pi/2 - np.radians(lat0)\n",
    "phi0   = np.radians(lon0)"
   ]
  },
  {
   "cell_type": "markdown",
   "metadata": {},
   "source": [
    "### 2.1.2 Set up the far-field grid, but don't solve yet"
   ]
  },
  {
   "cell_type": "code",
   "execution_count": null,
   "metadata": {},
   "outputs": [],
   "source": [
    "# Full 3D\n",
    "npz = np.load(\n",
    "    os.path.join(GOOGLE_DRIVE, 'malcolm.white@usc.edu', 'data', 'velocity', 'Golos_et_al', 'Vs.npz'),\n",
    ")\n",
    "far_field                      = pykonal.EikonalSolver(coord_sys='spherical')\n",
    "far_field.vgrid.min_coords     = npz['min_coords']\n",
    "far_field.vgrid.node_intervals = npz['node_intervals']\n",
    "far_field.vgrid.npts           = npz['npts']\n",
    "far_field.vv                   = npz['Vs']"
   ]
  },
  {
   "cell_type": "markdown",
   "metadata": {},
   "source": [
    "### 2.1.3 Set up a refined grid in the near-field region\n",
    "This grid is centered on the source"
   ]
  },
  {
   "cell_type": "code",
   "execution_count": null,
   "metadata": {},
   "outputs": [],
   "source": [
    "near_field                      = pykonal.EikonalSolver(coord_sys='spherical')\n",
    "near_field.vgrid.min_coords     = npz['node_intervals'][0] / 5, 0, 0\n",
    "near_field.vgrid.node_intervals = npz['node_intervals'][0] / 5, np.pi/40, np.pi/40\n",
    "near_field.vgrid.npts           = 50, 41, 80\n",
    "\n",
    "near_field.transfer_velocity_from(far_field, (-rho0, theta0, phi0))\n",
    "\n",
    "vvi = pykonal.LinearInterpolator3D(near_field.vgrid, near_field.vv)\n",
    "\n",
    "for it in range(near_field.pgrid.npts[1]):\n",
    "    for ip in range(near_field.pgrid.npts[2]):\n",
    "        idx = (0, it, ip)\n",
    "        near_field.uu[idx]     = near_field.pgrid[idx + (0,)] / vvi(near_field.pgrid[idx])\n",
    "        near_field.is_far[idx] = False\n",
    "        near_field.close.push(*idx)\n",
    "        \n",
    "%time near_field.solve()"
   ]
  },
  {
   "cell_type": "code",
   "execution_count": null,
   "metadata": {},
   "outputs": [],
   "source": [
    "far_field.transfer_travel_times_from(near_field, (-rho0, theta0, phi0), set_alive=True)"
   ]
  },
  {
   "cell_type": "code",
   "execution_count": null,
   "metadata": {},
   "outputs": [],
   "source": [
    "%time far_field.solve()"
   ]
  },
  {
   "cell_type": "markdown",
   "metadata": {},
   "source": [
    "## 1.2 Plot the resulting travel-time field\n",
    "### 1.2.1 Convert spherical coordinates to cartesian for plotting"
   ]
  },
  {
   "cell_type": "code",
   "execution_count": null,
   "metadata": {},
   "outputs": [],
   "source": [
    "pgrid = far_field.pgrid[...]\n",
    "vgrid = far_field.vgrid[...]\n",
    "uu = far_field.uu\n",
    "vv = far_field.vv\n",
    "if far_field.pgrid.is_periodic[2]:\n",
    "    pgrid = np.append(pgrid, pgrid[:,:,0].reshape(*pgrid.shape[:2], 1, 3), axis=2)\n",
    "    vgrid = np.append(vgrid, vgrid[:,:,0].reshape(*vgrid.shape[:2], 1, 3), axis=2)\n",
    "    uu   = np.append(uu, uu[...,0].reshape(*uu.shape[:2], 1), axis=2)\n",
    "    vv   = np.append(vv, vv[...,0].reshape(*vv.shape[:2], 1), axis=2)\n",
    "xxp  = pgrid[...,0] * np.sin(pgrid[...,1]) * np.cos(pgrid[...,2])\n",
    "yyp  = pgrid[...,0] * np.sin(pgrid[...,1]) * np.sin(pgrid[...,2])\n",
    "zzp  = pgrid[...,0] * np.cos(pgrid[...,1])\n",
    "xxv  = vgrid[...,0] * np.sin(vgrid[...,1]) * np.cos(vgrid[...,2])\n",
    "yyv  = vgrid[...,0] * np.sin(vgrid[...,1]) * np.sin(vgrid[...,2])\n",
    "zzv  = vgrid[...,0] * np.cos(vgrid[...,1])\n"
   ]
  },
  {
   "cell_type": "markdown",
   "metadata": {},
   "source": [
    "### 1.2.3 Plot the travel-time field for constant $\\theta = \\theta_0$"
   ]
  },
  {
   "cell_type": "code",
   "execution_count": null,
   "metadata": {},
   "outputs": [],
   "source": [
    "it = 128\n",
    "\n",
    "fig = plt.figure(figsize=(12, 12))\n",
    "ax1 = fig.add_subplot(1, 2, 1, aspect=1)\n",
    "qmesh = ax1.pcolormesh(\n",
    "    xxv[:,it,:],\n",
    "    yyv[:,it,:],\n",
    "    vv[:,it,:],\n",
    "    cmap=plt.get_cmap('jet'),\n",
    "    shading='gouraud'\n",
    ")\n",
    "cbar = fig.colorbar(qmesh, ax=ax1, orientation='horizontal')\n",
    "cbar.set_label('Velocity [km/s]')\n",
    "ax1.scatter(\n",
    "    rho0 * np.sin(theta0) * np.cos(phi0),\n",
    "    rho0 * np.sin(theta0) * np.sin(phi0),\n",
    "    s=250,\n",
    "    marker='*',\n",
    "    edgecolor='k',\n",
    "    facecolor='w',\n",
    "    linewidth=1\n",
    ")\n",
    "ax2 = fig.add_subplot(1, 2, 2, aspect=1)\n",
    "qmesh = ax2.pcolormesh(\n",
    "    xxp[:,it,:],\n",
    "    yyp[:,it,:],\n",
    "    uu[:,it,:],\n",
    "    cmap=plt.get_cmap('jet_r'),\n",
    "    shading='gouraud',\n",
    "    vmax=uu[:-1,it,:].max()\n",
    ")\n",
    "ax2.yaxis.tick_right()\n",
    "cbar = fig.colorbar(qmesh, ax=ax2, orientation='horizontal')\n",
    "cbar.set_label('Travel time [s]')\n",
    "ax2.scatter(\n",
    "    rho0 * np.sin(theta0) * np.cos(phi0),\n",
    "    rho0 * np.sin(theta0) * np.sin(phi0),\n",
    "    s=250,\n",
    "    marker='*',\n",
    "    edgecolor='k',\n",
    "    facecolor='w',\n",
    "    linewidth=1\n",
    ")"
   ]
  },
  {
   "cell_type": "code",
   "execution_count": null,
   "metadata": {},
   "outputs": [],
   "source": [
    "uui = lambda lat, lon, depth: pykonal.LinearInterpolator3D(far_field.pgrid, far_field.uu)(geo2sph(lat, lon, depth))"
   ]
  },
  {
   "cell_type": "code",
   "execution_count": null,
   "metadata": {},
   "outputs": [],
   "source": [
    "def geo2sph(lat, lon, depth):\n",
    "    return(\n",
    "        6371 - depth,\n",
    "        np.pi/2 - np.radians(lat),\n",
    "        np.radians(lon)\n",
    "    )"
   ]
  }
 ],
 "metadata": {
  "kernelspec": {
   "display_name": "Python [conda env:py37]",
   "language": "python",
   "name": "conda-env-py37-py"
  },
  "language_info": {
   "codemirror_mode": {
    "name": "ipython",
    "version": 3
   },
   "file_extension": ".py",
   "mimetype": "text/x-python",
   "name": "python",
   "nbconvert_exporter": "python",
   "pygments_lexer": "ipython3",
   "version": "3.7.3"
  }
 },
 "nbformat": 4,
 "nbformat_minor": 2
}
