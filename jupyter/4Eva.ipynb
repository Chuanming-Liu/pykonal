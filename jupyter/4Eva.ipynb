{
 "cells": [
  {
   "cell_type": "code",
   "execution_count": 66,
   "metadata": {},
   "outputs": [],
   "source": [
    "%matplotlib ipympl\n",
    "\n",
    "from mpl_toolkits.mplot3d import Axes3D\n",
    "import itk\n",
    "import itkwidgets\n",
    "import pykonal\n",
    "import seispy"
   ]
  },
  {
   "cell_type": "code",
   "execution_count": 2,
   "metadata": {},
   "outputs": [],
   "source": [
    "ak135 = pd.read_csv(\n",
    "    os.path.join(HOME, 'src/pykonal/pykonal/data/AK135F_AVG.csv'),\n",
    "    header=None,\n",
    "    names=('depth', 'density', 'vp', 'vs', 'Q_kappa', 'Q_mu')\n",
    ")\n",
    "ak135['radius'] = 6371 - ak135['depth']\n",
    "ak135 = ak135.sort_values('radius')\n",
    "\n",
    "iasp91 = pd.read_csv(\n",
    "    os.path.join(HOME, 'src/pykonal/pykonal/data/IASP91.csv'),\n",
    "    header=None,\n",
    "    names=('depth', 'radius', 'vp', 'vs')\n",
    ")\n",
    "\n",
    "mit2008 = pd.read_csv(\n",
    "    os.path.join(HOME, 'src/pykonal/pykonal/data/mitp2008.xzv'),\n",
    "    header=None,\n",
    "    names=('degrees', 'radius', 'dv'),\n",
    "    delim_whitespace=True\n",
    ")\n",
    "mit2008['radians'] = np.pi - np.radians(mit2008['degrees'] + 16.5)\n",
    "mit2008 = mit2008.groupby(['radians', 'radius']).mean().reset_index()"
   ]
  },
  {
   "cell_type": "code",
   "execution_count": null,
   "metadata": {},
   "outputs": [],
   "source": [
    "src_idx                        = (600, 0, 0)\n",
    "far_field                      = pykonal.EikonalSolver(coord_sys='spherical')\n",
    "far_field.vgrid.min_coords     = 10, np.pi/2, np.pi/2\n",
    "far_field.vgrid.node_intervals = 10, 1, np.pi/20\n",
    "far_field.vgrid.npts           = 638, 1, 40\n",
    "far_field.vv                   = np.ones(far_field.vgrid.npts)\n",
    "\n",
    "for ir in range(far_field.vgrid.npts[0]):\n",
    "    far_field.vv[ir] = np.interp(far_field.vgrid[ir,0,0,0], ak135['radius'], ak135['vp'])\n",
    "\n",
    "far_field.uu[src_idx]     = 0\n",
    "far_field.is_far[src_idx] = False\n",
    "far_field.close.push(*src_idx)\n",
    "%time far_field.solve()\n",
    "\n",
    "\n",
    "pgrid = far_field.pgrid[...]\n",
    "vgrid = far_field.vgrid[...]\n",
    "uu = far_field.uu\n",
    "pgrid = np.append(pgrid, pgrid[:,:,0].reshape(*pgrid.shape[:2], 1, 3), axis=2)\n",
    "vgrid = np.append(vgrid, vgrid[:,:,0].reshape(*vgrid.shape[:2], 1, 3), axis=2)\n",
    "uu   = np.append(far_field.uu, far_field.uu[...,0].reshape(*far_field.uu.shape[:2], 1), axis=2)\n",
    "vv   = np.append(far_field.vv, far_field.vv[...,0].reshape(*far_field.vv.shape[:2], 1), axis=2)\n",
    "xxp  = pgrid[...,0] * np.sin(pgrid[...,1]) * np.cos(pgrid[...,2])\n",
    "yyp  = pgrid[...,0] * np.sin(pgrid[...,1]) * np.sin(pgrid[...,2])\n",
    "xxv  = vgrid[...,0] * np.sin(vgrid[...,1]) * np.cos(vgrid[...,2])\n",
    "yyv  = vgrid[...,0] * np.sin(vgrid[...,1]) * np.sin(vgrid[...,2])\n",
    "\n",
    "\n",
    "plt.close('all')\n",
    "fig = plt.figure()\n",
    "ax1 = fig.add_subplot(1, 2, 1, aspect=1)\n",
    "qmesh = ax1.pcolormesh(\n",
    "    xxv[:,0,:],\n",
    "    yyv[:,0,:],\n",
    "    vv[:,0,:],\n",
    "    cmap=plt.get_cmap('hot'),\n",
    "    shading='gouraud'\n",
    ")\n",
    "cbar = fig.colorbar(qmesh, ax=ax1, orientation='horizontal')\n",
    "cbar.set_label('Velocity [km/s]')\n",
    "ax1.scatter(\n",
    "    xxv[src_idx],\n",
    "    yyv[src_idx],\n",
    "    s=250,\n",
    "    marker='*',\n",
    "    edgecolor='k',\n",
    "    facecolor='w',\n",
    "    linewidth=1\n",
    ")\n",
    "ax2 = fig.add_subplot(1, 2, 2, aspect=1)\n",
    "qmesh = ax2.pcolormesh(\n",
    "    xxp[:,0,:],\n",
    "    yyp[:,0,:],\n",
    "    uu[:,0,:],\n",
    "    cmap=plt.get_cmap('hot_r'),\n",
    "    shading='gouraud',\n",
    ")\n",
    "ax2.yaxis.tick_right()\n",
    "cbar = fig.colorbar(qmesh, ax=ax2, orientation='horizontal')\n",
    "cbar.set_label('Travel time [s]')\n",
    "ax2.scatter(\n",
    "    xxp[src_idx],\n",
    "    yyp[src_idx],\n",
    "    s=250,\n",
    "    marker='*',\n",
    "    edgecolor='k',\n",
    "    facecolor='w',\n",
    "    linewidth=1\n",
    ")"
   ]
  },
  {
   "cell_type": "code",
   "execution_count": null,
   "metadata": {},
   "outputs": [],
   "source": [
    "plt.savefig('../figures/global_slice.png', bbox_inches='tight')\n",
    "plt.savefig('../figures/global_slice.pdf', bbox_inches='tight')"
   ]
  },
  {
   "cell_type": "code",
   "execution_count": null,
   "metadata": {},
   "outputs": [],
   "source": []
  },
  {
   "cell_type": "code",
   "execution_count": 3,
   "metadata": {},
   "outputs": [],
   "source": [
    "lon_min, lon_max, n_lon = -125, -70, 111\n",
    "lat_min, lat_max, n_lat = 25, 49, 49\n",
    "z_min, z_max, n_z       = 0, 440, 45\n",
    "\n",
    "\n",
    "rho_min, rho_max, n_rho       = 6371. - z_max, 6371. - z_min, n_z\n",
    "theta_min, theta_max, n_theta = np.pi/2 - np.radians(lat_max), np.pi/2 - np.radians(lat_min), n_lat\n",
    "phi_min, phi_max, n_phi       = np.radians(lon_min), np.radians(lon_max), n_lon\n",
    "\n",
    "d_rho   = (rho_max - rho_min)     / (n_rho - 1)\n",
    "d_theta = (theta_max - theta_min) / (n_theta - 1)\n",
    "d_phi   = (phi_max - phi_min)     / (n_phi - 1)"
   ]
  },
  {
   "cell_type": "code",
   "execution_count": 74,
   "metadata": {},
   "outputs": [
    {
     "name": "stdout",
     "output_type": "stream",
     "text": [
      "CPU times: user 1min 3s, sys: 41.6 ms, total: 1min 3s\n",
      "Wall time: 1min 3s\n"
     ]
    },
    {
     "data": {
      "application/vnd.jupyter.widget-view+json": {
       "model_id": "",
       "version_major": 2,
       "version_minor": 0
      },
      "text/plain": [
       "FigureCanvasNbAgg()"
      ]
     },
     "metadata": {},
     "output_type": "display_data"
    },
    {
     "data": {
      "text/plain": [
       "<matplotlib.collections.PathCollection at 0x7f867c931400>"
      ]
     },
     "execution_count": 74,
     "metadata": {},
     "output_type": "execute_result"
    }
   ],
   "source": [
    "ir, it, ip                     = slice(n_rho), 9, slice(n_phi)\n",
    "src_idx                        = (n_rho-2, 9, 20)\n",
    "far_field                      = pykonal.EikonalSolver(coord_sys='spherical')\n",
    "far_field.vgrid.min_coords     = rho_min, theta_min, theta_max\n",
    "far_field.vgrid.node_intervals = d_rho, d_theta, d_phi\n",
    "far_field.vgrid.npts           = n_rho, n_theta, n_phi\n",
    "far_field.vv                   = np.ones(far_field.vgrid.npts)\n",
    "\n",
    "for _ir in range(far_field.vgrid.npts[0]):\n",
    "    far_field.vv[_ir] = np.interp(far_field.vgrid[_ir,0,0,0], ak135['radius'], ak135['vp'])\n",
    "\n",
    "far_field.uu[src_idx]     = 0\n",
    "far_field.is_far[src_idx] = False\n",
    "far_field.close.push(*src_idx)\n",
    "%time far_field.solve()\n",
    "\n",
    "\n",
    "pgrid = far_field.pgrid[...]\n",
    "vgrid = far_field.vgrid[...]\n",
    "uu   = far_field.uu\n",
    "vv   = far_field.vv\n",
    "xxp  = pgrid[...,0] * np.sin(pgrid[...,1]) * np.cos(pgrid[...,2])\n",
    "yyp  = pgrid[...,0] * np.sin(pgrid[...,1]) * np.sin(pgrid[...,2])\n",
    "zzp  = pgrid[...,0] * np.cos(pgrid[...,1])\n",
    "xxv  = vgrid[...,0] * np.sin(vgrid[...,1]) * np.cos(vgrid[...,2])\n",
    "yyv  = vgrid[...,0] * np.sin(vgrid[...,1]) * np.sin(vgrid[...,2])\n",
    "zzv  = vgrid[...,0] * np.cos(vgrid[...,1])\n",
    "\n",
    "plt.close('all')\n",
    "fig = plt.figure(figsize=(9, 9))\n",
    "ax1 = fig.add_subplot(2, 1, 1, aspect=1)\n",
    "qmesh = ax1.pcolormesh(\n",
    "    xxv[ir, it, ip],\n",
    "    yyv[ir, it, ip],\n",
    "    vv[ir, it, ip],\n",
    "    cmap=plt.get_cmap('hot'),\n",
    "    shading='gouraud'\n",
    ")\n",
    "cbar = fig.colorbar(qmesh, ax=ax1, orientation='horizontal')\n",
    "cbar.set_label('Velocity [km/s]')\n",
    "ax1.scatter(\n",
    "    xxv[src_idx],\n",
    "    yyv[src_idx],\n",
    "    s=250,\n",
    "    marker='*',\n",
    "    edgecolor='k',\n",
    "    facecolor='w',\n",
    "    linewidth=1\n",
    ")\n",
    "ax2 = fig.add_subplot(2, 1, 2, aspect=1)\n",
    "qmesh = ax2.pcolormesh(\n",
    "    xxp[ir, it, ip],\n",
    "    yyp[ir, it, ip],\n",
    "    uu[ir, it, ip],\n",
    "    cmap=plt.get_cmap('hot_r'),\n",
    "    shading='gouraud',\n",
    ")\n",
    "ax2.yaxis.tick_right()\n",
    "cbar = fig.colorbar(qmesh, ax=ax2, orientation='horizontal')\n",
    "cbar.set_label('Travel time [s]')\n",
    "ax2.scatter(\n",
    "    xxp[src_idx],\n",
    "    yyp[src_idx],\n",
    "    s=250,\n",
    "    marker='*',\n",
    "    edgecolor='k',\n",
    "    facecolor='w',\n",
    "    linewidth=1\n",
    ")"
   ]
  },
  {
   "cell_type": "code",
   "execution_count": 80,
   "metadata": {},
   "outputs": [
    {
     "data": {
      "application/vnd.jupyter.widget-view+json": {
       "model_id": "377b18925aaa4ca88f9da4b64d53a043",
       "version_major": 2,
       "version_minor": 0
      },
      "text/plain": [
       "FigureCanvasNbAgg()"
      ]
     },
     "metadata": {},
     "output_type": "display_data"
    }
   ],
   "source": [
    "pgrid = seispy.coords.as_spherical(far_field.pgrid[...]).to_cartesian()\n",
    "vgrid = seispy.coords.as_spherical(far_field.vgrid[...]).to_cartesian()\n",
    "uu   = far_field.uu\n",
    "vv   = far_field.vv\n",
    "\n",
    "plt.close('all')\n",
    "fig = plt.figure(figsize=(9, 9))\n",
    "ax = fig.add_subplot(1, 1, 1, projection='3d')\n",
    "pts = ax.scatter(\n",
    "    pgrid[ir, it, ip, 0].flatten(),\n",
    "    pgrid[ir, it, ip, 1].flatten(),\n",
    "    pgrid[ir, it, ip, 2].flatten(),\n",
    "    c=uu[ir, it, ip].flatten(),\n",
    "    cmap=plt.get_cmap('hot_r')\n",
    ")\n",
    "cbar = fig.colorbar(qmesh, ax=ax, orientation='horizontal')\n",
    "cbar.set_label('Travel time [s]')\n",
    "#ax2.scatter(\n",
    "#    pgrid[ir, it, ip, 0],\n",
    "#    pgrid[ir, it, ip, 1],\n",
    "#    s=250,\n",
    "#    marker='*',\n",
    "#    edgecolor='k',\n",
    "#    facecolor='w',\n",
    "#    linewidth=1\n",
    "#)"
   ]
  },
  {
   "cell_type": "code",
   "execution_count": 6,
   "metadata": {},
   "outputs": [],
   "source": [
    "uui = pykonal.LinearInterpolator3D(far_field.pgrid, far_field.uu)"
   ]
  },
  {
   "cell_type": "code",
   "execution_count": 7,
   "metadata": {},
   "outputs": [
    {
     "data": {
      "text/plain": [
       "(107, 49, 47, 3)"
      ]
     },
     "execution_count": 7,
     "metadata": {},
     "output_type": "execute_result"
    }
   ],
   "source": [
    "rtp.shape"
   ]
  },
  {
   "cell_type": "code",
   "execution_count": 8,
   "metadata": {},
   "outputs": [],
   "source": [
    "uu = np.full(rtp.shape[:-1], fill_value=np.inf)\n",
    "for ir in range(rtp.shape[0]):\n",
    "    for it in range(rtp.shape[1]):\n",
    "        for ip in range(rtp.shape[2]):\n",
    "            try:\n",
    "                uu[ir, it, ip] = uui(rtp[ir, it, ip])\n",
    "            except:\n",
    "                continue"
   ]
  },
  {
   "cell_type": "code",
   "execution_count": 9,
   "metadata": {},
   "outputs": [],
   "source": [
    "import itk\n",
    "import itkwidgets"
   ]
  },
  {
   "cell_type": "code",
   "execution_count": 20,
   "metadata": {},
   "outputs": [],
   "source": [
    "uu[np.isinf(uu)] = np.nan\n",
    "img = itk.GetImageFromArray(uu)"
   ]
  },
  {
   "cell_type": "code",
   "execution_count": 27,
   "metadata": {},
   "outputs": [
    {
     "data": {
      "application/vnd.jupyter.widget-view+json": {
       "model_id": "d11577aff5224317940d11158bc04efa",
       "version_major": 2,
       "version_minor": 0
      },
      "text/plain": [
       "Viewer(gradient_opacity=0.22, rendered_image=<itkImagePython.itkImageD3; proxy of <Swig Object of type 'itkIma…"
      ]
     },
     "metadata": {},
     "output_type": "display_data"
    }
   ],
   "source": [
    "itkwidgets.view(img)"
   ]
  },
  {
   "cell_type": "code",
   "execution_count": 28,
   "metadata": {},
   "outputs": [],
   "source": [
    "img.SetSpacing([2, 1, 1])"
   ]
  },
  {
   "cell_type": "code",
   "execution_count": 65,
   "metadata": {},
   "outputs": [
    {
     "data": {
      "text/plain": [
       "\u001b[0;31mInit signature:\u001b[0m \u001b[0mitk\u001b[0m\u001b[0;34m.\u001b[0m\u001b[0mTransform\u001b[0m\u001b[0;34m.\u001b[0m\u001b[0mF2\u001b[0m\u001b[0;34m(\u001b[0m\u001b[0;34m*\u001b[0m\u001b[0margs\u001b[0m\u001b[0;34m,\u001b[0m \u001b[0;34m**\u001b[0m\u001b[0mkwargs\u001b[0m\u001b[0;34m)\u001b[0m\u001b[0;34m\u001b[0m\u001b[0;34m\u001b[0m\u001b[0m\n",
       "\u001b[0;31mDocstring:\u001b[0m     \n",
       "Transform points and vectors from an input space to an output space.\n",
       "\n",
       "This abstract class defines the generic interface for a geometric\n",
       "transformation from one space to another. The class provides methods\n",
       "for mapping points, vectors and covariant vectors from the input space\n",
       "to the output space.\n",
       "\n",
       "Given that transformations are not necessarily invertible, this basic\n",
       "class does not provide the methods for back transformation. Back\n",
       "transform methods are implemented in derived classes where\n",
       "appropriate.\n",
       "\n",
       "Registration Framework Support Typically a Transform class has several\n",
       "methods for setting its parameters. For use in the registration\n",
       "framework, the parameters must also be represented by an array of\n",
       "doubles to allow communication with generic optimizers. The Array of\n",
       "transformation parameters is set using the SetParameters() method.\n",
       "Another requirement of the registration framework is the computation\n",
       "of the transform Jacobian. In general, an ImageToImageMetric requires\n",
       "the knowledge of the Jacobian in order to compute the metric\n",
       "derivatives. The Jacobian is a matrix whose element are the partial\n",
       "derivatives of the output point with respect to the array of\n",
       "parameters that defines the transform.\n",
       "\n",
       "Subclasses must provide implementations for:  virtual OutputPointType\n",
       "TransformPoint(const InputPointType  &) const  virtual\n",
       "OutputVectorType TransformVector(const InputVectorType &) const\n",
       "virtual OutputVnlVectorType TransformVector(const InputVnlVectorType\n",
       "&) const  virtual OutputCovariantVectorType\n",
       "TransformCovariantVector(const InputCovariantVectorType &) const\n",
       "virtual void SetParameters(const ParametersType &)  virtual void\n",
       "SetFixedParameters(const FixedParametersType &)  virtual void\n",
       "ComputeJacobianWithRespectToParameters( const InputPointType &,\n",
       "JacobianType &) const  virtual void\n",
       "ComputeJacobianWithRespectToPosition( const InputPointType & x,\n",
       "JacobianPositionType &jacobian ) const;\n",
       "\n",
       "Since TranformVector and TransformCovariantVector have multiple\n",
       "overloaded methods from the base class, subclasses must specify:\n",
       "using Superclass::TransformVector;  using\n",
       "Superclass::TransformCovariantVector;\n",
       "\n",
       "C++ includes: itkTransform.h \n",
       "\u001b[0;31mFile:\u001b[0m           ~/local/anaconda3/envs/py37/lib/python3.7/site-packages/itk/itkTransformBasePython.py\n",
       "\u001b[0;31mType:\u001b[0m           type\n",
       "\u001b[0;31mSubclasses:\u001b[0m     \n"
      ]
     },
     "metadata": {},
     "output_type": "display_data"
    }
   ],
   "source": [
    "itk.Transform.F2?"
   ]
  },
  {
   "cell_type": "code",
   "execution_count": 47,
   "metadata": {},
   "outputs": [
    {
     "ename": "TemplateTypeError",
     "evalue": "itk.DefaultStaticMeshTraits is not wrapped for input type `itk.UC, int, int`.\n\nTo limit the size of the package, only a limited number of\ntypes are available in ITK Python. To print the supported\ntypes, run the following command in your python environment:\n\n    itk.DefaultStaticMeshTraits.GetTypes()\n\nPossible solutions:\n* If you are an application user:\n** Convert your input image into a supported format (see below).\n** Contact developer to report the issue.\n* If you are an application developer, force input images to be\nloaded in a supported pixel type.\n\n    e.g.: instance = itk.DefaultStaticMeshTraits[itk.SS, int].New(my_input)\n\n* (Advanced) If you are an application developer, build ITK Python yourself and\nturned to `ON` the corresponding CMake option to wrap the pixel type or image\ndimension you need. When configuring ITK with CMake, you can set\n`ITK_WRAP_${type}` (replace ${type} with appropriate pixel type such as\n`double`). If you need to support images with 4 or 5 dimensions, you can add\nthese dimensions to the list of dimensions in the CMake variable\n`ITK_WRAP_IMAGE_DIMS`.\n\nSupported input types:\n\nitk.SS\nitk.UC\nitk.US\nitk.F\nitk.D\nitk.D\nitk.D\nitk.Matrix[itk.D,2,2]\nitk.Vector[itk.F,2]\nitk.UI\nitk.SS\nitk.UC\nitk.US\nitk.F\nitk.D\nitk.D\nitk.D\nitk.Matrix[itk.D,3,3]\nitk.Vector[itk.F,3]\nitk.UI\n",
     "output_type": "error",
     "traceback": [
      "\u001b[0;31m---------------------------------------------------------------------------\u001b[0m",
      "\u001b[0;31mKeyError\u001b[0m                                  Traceback (most recent call last)",
      "\u001b[0;32m~/local/anaconda3/envs/py37/lib/python3.7/site-packages/itkTemplate.py\u001b[0m in \u001b[0;36m__getitem__\u001b[0;34m(self, parameters)\u001b[0m\n\u001b[1;32m    333\u001b[0m         \u001b[0;32mtry\u001b[0m\u001b[0;34m:\u001b[0m\u001b[0;34m\u001b[0m\u001b[0;34m\u001b[0m\u001b[0m\n\u001b[0;32m--> 334\u001b[0;31m             \u001b[0;32mreturn\u001b[0m\u001b[0;34m(\u001b[0m\u001b[0mself\u001b[0m\u001b[0;34m.\u001b[0m\u001b[0m__template__\u001b[0m\u001b[0;34m[\u001b[0m\u001b[0mtuple\u001b[0m\u001b[0;34m(\u001b[0m\u001b[0mcleanParameters\u001b[0m\u001b[0;34m)\u001b[0m\u001b[0;34m]\u001b[0m\u001b[0;34m)\u001b[0m\u001b[0;34m\u001b[0m\u001b[0;34m\u001b[0m\u001b[0m\n\u001b[0m\u001b[1;32m    335\u001b[0m         \u001b[0;32mexcept\u001b[0m\u001b[0;34m:\u001b[0m\u001b[0;34m\u001b[0m\u001b[0;34m\u001b[0m\u001b[0m\n",
      "\u001b[0;31mKeyError\u001b[0m: (<itkCType unsigned char>, 3, 3)",
      "\nDuring handling of the above exception, another exception occurred:\n",
      "\u001b[0;31mKeyError\u001b[0m                                  Traceback (most recent call last)",
      "\u001b[0;32m~/local/anaconda3/envs/py37/lib/python3.7/site-packages/itkTemplate.py\u001b[0m in \u001b[0;36m__getitem__\u001b[0;34m(self, parameters)\u001b[0m\n\u001b[1;32m    337\u001b[0m             \u001b[0;32mtry\u001b[0m\u001b[0;34m:\u001b[0m\u001b[0;34m\u001b[0m\u001b[0;34m\u001b[0m\u001b[0m\n\u001b[0;32m--> 338\u001b[0;31m                 \u001b[0;32mreturn\u001b[0m\u001b[0;34m(\u001b[0m\u001b[0mself\u001b[0m\u001b[0;34m.\u001b[0m\u001b[0m__template__\u001b[0m\u001b[0;34m[\u001b[0m\u001b[0mtuple\u001b[0m\u001b[0;34m(\u001b[0m\u001b[0mcleanParameters\u001b[0m\u001b[0;34m)\u001b[0m\u001b[0;34m]\u001b[0m\u001b[0;34m)\u001b[0m\u001b[0;34m\u001b[0m\u001b[0;34m\u001b[0m\u001b[0m\n\u001b[0m\u001b[1;32m    339\u001b[0m             \u001b[0;32mexcept\u001b[0m\u001b[0;34m:\u001b[0m\u001b[0;34m\u001b[0m\u001b[0;34m\u001b[0m\u001b[0m\n",
      "\u001b[0;31mKeyError\u001b[0m: (<itkCType unsigned char>, 3, 3)",
      "\nDuring handling of the above exception, another exception occurred:\n",
      "\u001b[0;31mTemplateTypeError\u001b[0m                         Traceback (most recent call last)",
      "\u001b[0;32m<ipython-input-47-4888123080e2>\u001b[0m in \u001b[0;36m<module>\u001b[0;34m\u001b[0m\n\u001b[1;32m      3\u001b[0m \u001b[0mDimension\u001b[0m \u001b[0;34m=\u001b[0m \u001b[0;36m3\u001b[0m\u001b[0;34m\u001b[0m\u001b[0;34m\u001b[0m\u001b[0m\n\u001b[1;32m      4\u001b[0m \u001b[0;31m#\u001b[0m\u001b[0;34m\u001b[0m\u001b[0;34m\u001b[0m\u001b[0;34m\u001b[0m\u001b[0m\n\u001b[0;32m----> 5\u001b[0;31m \u001b[0mMeshTraits\u001b[0m \u001b[0;34m=\u001b[0m \u001b[0mitk\u001b[0m\u001b[0;34m.\u001b[0m\u001b[0mDefaultStaticMeshTraits\u001b[0m\u001b[0;34m[\u001b[0m\u001b[0mPixelType\u001b[0m\u001b[0;34m,\u001b[0m \u001b[0mDimension\u001b[0m\u001b[0;34m,\u001b[0m \u001b[0mDimension\u001b[0m\u001b[0;34m]\u001b[0m\u001b[0;34m\u001b[0m\u001b[0;34m\u001b[0m\u001b[0m\n\u001b[0m\u001b[1;32m      6\u001b[0m \u001b[0mPointSetType\u001b[0m \u001b[0;34m=\u001b[0m \u001b[0mitk\u001b[0m\u001b[0;34m.\u001b[0m\u001b[0mPointSet\u001b[0m\u001b[0;34m[\u001b[0m\u001b[0mPixelType\u001b[0m\u001b[0;34m,\u001b[0m \u001b[0mDimension\u001b[0m\u001b[0;34m,\u001b[0m \u001b[0mMeshTraits\u001b[0m\u001b[0;34m]\u001b[0m\u001b[0;34m\u001b[0m\u001b[0;34m\u001b[0m\u001b[0m\n\u001b[1;32m      7\u001b[0m \u001b[0;31m#PointSet = PointSetType.New()\u001b[0m\u001b[0;34m\u001b[0m\u001b[0;34m\u001b[0m\u001b[0;34m\u001b[0m\u001b[0m\n",
      "\u001b[0;32m~/local/anaconda3/envs/py37/lib/python3.7/site-packages/itkTemplate.py\u001b[0m in \u001b[0;36m__getitem__\u001b[0;34m(self, parameters)\u001b[0m\n\u001b[1;32m    338\u001b[0m                 \u001b[0;32mreturn\u001b[0m\u001b[0;34m(\u001b[0m\u001b[0mself\u001b[0m\u001b[0;34m.\u001b[0m\u001b[0m__template__\u001b[0m\u001b[0;34m[\u001b[0m\u001b[0mtuple\u001b[0m\u001b[0;34m(\u001b[0m\u001b[0mcleanParameters\u001b[0m\u001b[0;34m)\u001b[0m\u001b[0;34m]\u001b[0m\u001b[0;34m)\u001b[0m\u001b[0;34m\u001b[0m\u001b[0;34m\u001b[0m\u001b[0m\n\u001b[1;32m    339\u001b[0m             \u001b[0;32mexcept\u001b[0m\u001b[0;34m:\u001b[0m\u001b[0;34m\u001b[0m\u001b[0;34m\u001b[0m\u001b[0m\n\u001b[0;32m--> 340\u001b[0;31m                 \u001b[0;32mraise\u001b[0m \u001b[0mTemplateTypeError\u001b[0m\u001b[0;34m(\u001b[0m\u001b[0mself\u001b[0m\u001b[0;34m,\u001b[0m \u001b[0mtuple\u001b[0m\u001b[0;34m(\u001b[0m\u001b[0mcleanParameters\u001b[0m\u001b[0;34m)\u001b[0m\u001b[0;34m)\u001b[0m\u001b[0;34m\u001b[0m\u001b[0;34m\u001b[0m\u001b[0m\n\u001b[0m\u001b[1;32m    341\u001b[0m \u001b[0;34m\u001b[0m\u001b[0m\n\u001b[1;32m    342\u001b[0m     \u001b[0;32mdef\u001b[0m \u001b[0m__repr__\u001b[0m\u001b[0;34m(\u001b[0m\u001b[0mself\u001b[0m\u001b[0;34m)\u001b[0m\u001b[0;34m:\u001b[0m\u001b[0;34m\u001b[0m\u001b[0;34m\u001b[0m\u001b[0m\n",
      "\u001b[0;31mTemplateTypeError\u001b[0m: itk.DefaultStaticMeshTraits is not wrapped for input type `itk.UC, int, int`.\n\nTo limit the size of the package, only a limited number of\ntypes are available in ITK Python. To print the supported\ntypes, run the following command in your python environment:\n\n    itk.DefaultStaticMeshTraits.GetTypes()\n\nPossible solutions:\n* If you are an application user:\n** Convert your input image into a supported format (see below).\n** Contact developer to report the issue.\n* If you are an application developer, force input images to be\nloaded in a supported pixel type.\n\n    e.g.: instance = itk.DefaultStaticMeshTraits[itk.SS, int].New(my_input)\n\n* (Advanced) If you are an application developer, build ITK Python yourself and\nturned to `ON` the corresponding CMake option to wrap the pixel type or image\ndimension you need. When configuring ITK with CMake, you can set\n`ITK_WRAP_${type}` (replace ${type} with appropriate pixel type such as\n`double`). If you need to support images with 4 or 5 dimensions, you can add\nthese dimensions to the list of dimensions in the CMake variable\n`ITK_WRAP_IMAGE_DIMS`.\n\nSupported input types:\n\nitk.SS\nitk.UC\nitk.US\nitk.F\nitk.D\nitk.D\nitk.D\nitk.Matrix[itk.D,2,2]\nitk.Vector[itk.F,2]\nitk.UI\nitk.SS\nitk.UC\nitk.US\nitk.F\nitk.D\nitk.D\nitk.D\nitk.Matrix[itk.D,3,3]\nitk.Vector[itk.F,3]\nitk.UI\n"
     ]
    }
   ],
   "source": [
    "Pi:q\n",
    "    xelType = itk.UC\n",
    "PixelType = itk.ctype(\"unsigned char\")\n",
    "Dimension = 3\n",
    "#\n",
    "MeshTraits = itk.DefaultStaticMeshTraits[PixelType, Dimension, Dimension]\n",
    "PointSetType = itk.PointSet[PixelType, Dimension, MeshTraits]\n",
    "#PointSet = PointSetType.New()\n",
    "#\n",
    "#points = PointSet.GetPoints()\n",
    "#\n",
    "## Create points\n",
    "#p0 = itk.Point[PixelType, Dimension]()\n",
    "#p1 = itk.Point[PixelType, Dimension]()\n",
    "#p2 = itk.Point[PixelType, Dimension]()\n",
    "#\n",
    "#p0[0] = 0.0\n",
    "#p0[1] = 0.0\n",
    "#p0[2] = 0.0\n",
    "#p1[0] = 0.1\n",
    "#p1[1] = 0.0\n",
    "#p1[2] = 0.0\n",
    "#p2[0] = 0.0\n",
    "#p2[1] = 0.1\n",
    "#p2[2] = 0.0\n",
    "#\n",
    "#points.InsertElement(0, p0)\n",
    "#points.InsertElement(1, p1)\n",
    "#points.InsertElement(2, p2)"
   ]
  },
  {
   "cell_type": "code",
   "execution_count": 33,
   "metadata": {},
   "outputs": [
    {
     "name": "stdout",
     "output_type": "stream",
     "text": [
      "<itkTemplate itk::DefaultStaticMeshTraits>\n",
      "Options:\n",
      "  [<class 'itkMatrixPython.itkMatrixD22'>, 2, 2, <itkCType float>, <itkCType float>, <class 'itkMatrixPython.itkMatrixD22'>]\n",
      "  [<class 'itkMatrixPython.itkMatrixD33'>, 3, 3, <itkCType float>, <itkCType float>, <class 'itkMatrixPython.itkMatrixD33'>]\n",
      "  [<class 'itkVectorPython.itkVectorF2'>, 2, 2, <itkCType float>, <itkCType float>, <class 'itkVectorPython.itkVectorF2'>]\n",
      "  [<class 'itkVectorPython.itkVectorF3'>, 3, 3, <itkCType float>, <itkCType float>, <class 'itkVectorPython.itkVectorF3'>]\n",
      "  [<itkCType double>, 2]\n",
      "  [<itkCType double>, 2, 2, <itkCType double>, <itkCType double>, <itkCType double>]\n",
      "  [<itkCType double>, 2, 2, <itkCType float>, <itkCType float>, <itkCType double>]\n",
      "  [<itkCType double>, 3]\n",
      "  [<itkCType double>, 3, 3, <itkCType double>, <itkCType double>, <itkCType double>]\n",
      "  [<itkCType double>, 3, 3, <itkCType float>, <itkCType float>, <itkCType double>]\n",
      "  [<itkCType float>, 2]\n",
      "  [<itkCType float>, 3]\n",
      "  [<itkCType signed short>, 2]\n",
      "  [<itkCType signed short>, 3]\n",
      "  [<itkCType unsigned char>, 2]\n",
      "  [<itkCType unsigned char>, 3]\n",
      "  [<itkCType unsigned int>, 2, 2, <itkCType float>, <itkCType float>, <itkCType unsigned int>]\n",
      "  [<itkCType unsigned int>, 3, 3, <itkCType float>, <itkCType float>, <itkCType unsigned int>]\n",
      "  [<itkCType unsigned short>, 2]\n",
      "  [<itkCType unsigned short>, 3]\n"
     ]
    }
   ],
   "source": [
    "itk.DefaultStaticMeshTraits.GetTypes()"
   ]
  },
  {
   "cell_type": "code",
   "execution_count": null,
   "metadata": {},
   "outputs": [],
   "source": []
  }
 ],
 "metadata": {
  "kernelspec": {
   "display_name": "Python [conda env:py37]",
   "language": "python",
   "name": "conda-env-py37-py"
  },
  "language_info": {
   "codemirror_mode": {
    "name": "ipython",
    "version": 3
   },
   "file_extension": ".py",
   "mimetype": "text/x-python",
   "name": "python",
   "nbconvert_exporter": "python",
   "pygments_lexer": "ipython3",
   "version": "3.7.3"
  }
 },
 "nbformat": 4,
 "nbformat_minor": 2
}
