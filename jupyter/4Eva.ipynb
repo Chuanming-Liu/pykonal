{
 "cells": [
  {
   "cell_type": "markdown",
   "metadata": {},
   "source": [
    "## Initial setup"
   ]
  },
  {
   "cell_type": "code",
   "execution_count": 6,
   "metadata": {},
   "outputs": [],
   "source": [
    "%matplotlib ipympl\n",
    "\n",
    "from mpl_toolkits.mplot3d import axes3d\n",
    "import matplotlib.pyplot as plt\n",
    "import numpy as np\n",
    "import os\n",
    "import pandas as pd\n",
    "import pykonal\n",
    "# import seispy\n",
    "\n",
    "HOME         = os.environ['HOME']\n",
    "GOOGLE_DRIVE = os.environ['GOOGLE_DRIVE']\n",
    "\n",
    "# Define a utility function to convert geographical coordinates to spherical\n",
    "def geo2sph(lat, lon, depth):\n",
    "    return(\n",
    "        6371 - depth,\n",
    "        np.pi/2 - np.radians(lat),\n",
    "        np.radians(lon)\n",
    "    )"
   ]
  },
  {
   "cell_type": "markdown",
   "metadata": {},
   "source": [
    "### Reformat the velocity model and save as NumPy .npz file for fast I/O\n",
    "\n",
    "This only needs to be done once, but I am leaving it here for you to look at in case you want to reformat a different data set."
   ]
  },
  {
   "cell_type": "code",
   "execution_count": null,
   "metadata": {},
   "outputs": [],
   "source": [
    "import glob\n",
    "\n",
    "with open(os.path.join(GOOGLE_DRIVE, 'malcolm.white@usc.edu', 'data', 'velocity', 'Golos_et_al', 'lon.txt')) as inf:\n",
    "    phi = np.array([float(v) for v in inf.read().split('\\n')[:-1]])\n",
    "    \n",
    "with open(os.path.join(GOOGLE_DRIVE, 'malcolm.white@usc.edu', 'data', 'velocity', 'Golos_et_al', 'lat.txt')) as inf:\n",
    "    lamda = np.array([float(v) for v in inf.read().split('\\n')[:-1]])\n",
    "    \n",
    "velocity = {}\n",
    "for file in sorted(glob.glob(os.path.join(GOOGLE_DRIVE, 'malcolm.white@usc.edu', 'data', 'velocity', 'Golos_et_al', 'Vs*.txt'))):\n",
    "    depth = float(os.path.splitext(os.path.basename(file))[0][2:])\n",
    "    with open(file) as inf:\n",
    "        velocity[depth] = np.array([float(v) for v in inf.read().split('\\n')[:-1]])\n",
    "        \n",
    "df0 = pd.DataFrame()\n",
    "for depth in velocity:\n",
    "    df          =  pd.DataFrame(velocity[depth], columns=('Vs',))\n",
    "    df['theta'] = np.pi/2 - lamda\n",
    "    df['phi']   = phi\n",
    "    df['rho']   = 6371 - depth\n",
    "    df0         = df0.append(df, ignore_index=True)\n",
    "df0 = df0.sort_values(['rho', 'theta', 'phi'])\n",
    "\n",
    "nrho, ntheta, nphi = len(df0['rho'].unique()), len(df0['theta'].unique()), len(df0['phi'].unique())\n",
    "drho               = np.mean(np.diff(df0['rho'].unique()))\n",
    "dtheta             = np.mean(np.diff(df0['theta'].unique()))\n",
    "dphi               = np.mean(np.diff(df0['phi'].unique()))\n",
    "rho0               = df0['rho'].min()\n",
    "theta0             = df0['theta'].min()\n",
    "phi0               = df0['phi'].min()\n",
    "vs = df0['Vs'].values.reshape((nrho, ntheta, nphi))\n",
    "\n",
    "np.savez_compressed(\n",
    "    os.path.join(GOOGLE_DRIVE, 'malcolm.white@usc.edu', 'data', 'velocity', 'Golos_et_al', 'Vs.npz'),\n",
    "    Vs=vs,\n",
    "    min_coords=np.array([rho0, theta0, phi0]),\n",
    "    node_intervals=np.array([drho, dtheta, dphi]),\n",
    "    npts=np.array([nrho, ntheta, nphi])\n",
    ")"
   ]
  },
  {
   "cell_type": "markdown",
   "metadata": {},
   "source": [
    "# Example 1\n",
    "-----\n",
    "### 1.1 Set up and run a simple 3D example\n",
    "This takes ~1.5-2 minutes on my desktop."
   ]
  },
  {
   "cell_type": "code",
   "execution_count": 2,
   "metadata": {},
   "outputs": [
    {
     "name": "stdout",
     "output_type": "stream",
     "text": [
      "CPU times: user 2min 35s, sys: 1.45 s, total: 2min 37s\n",
      "Wall time: 2min 36s\n"
     ]
    }
   ],
   "source": [
    "# This is the index of the grid node that I am treating as the source.\n",
    "# Sources that do not fall exactly on a grid node take a little more set up;\n",
    "# more to come on that later.\n",
    "src_idx                        = (100, 63, 124)\n",
    "\n",
    "# Load the velocity model from the NumPy .npz file\n",
    "npz = np.load(\n",
    "    os.path.join(GOOGLE_DRIVE, 'malcolm.white@usc.edu', 'data', 'velocity', 'Golos_et_al', 'Vs.npz'),\n",
    ")\n",
    "\n",
    "# Instantiate an pykonal.EikonalSolver object.\n",
    "far_field                      = pykonal.EikonalSolver(coord_sys='spherical')\n",
    "# Define the velocity model.\n",
    "far_field.vgrid.min_coords     = npz['min_coords']\n",
    "far_field.vgrid.node_intervals = npz['node_intervals']\n",
    "far_field.vgrid.npts           = npz['npts']\n",
    "far_field.vv                   = npz['Vs']\n",
    "\n",
    "# Set the travel time to zero at the source node\n",
    "far_field.uu[src_idx]     = 0\n",
    "# And update the appropriate state variables.\n",
    "far_field.is_far[src_idx] = False\n",
    "far_field.close.push(*src_idx)\n",
    "\n",
    "# Solve the Eikonal equation.\n",
    "%time far_field.solve()"
   ]
  },
  {
   "cell_type": "markdown",
   "metadata": {},
   "source": [
    "## 1.2 Plot the resulting travel-time field\n",
    "### 1.2.1 Convert spherical coordinates to cartesian for plotting"
   ]
  },
  {
   "cell_type": "code",
   "execution_count": 3,
   "metadata": {},
   "outputs": [],
   "source": [
    "pgrid = far_field.pgrid[...]\n",
    "vgrid = far_field.vgrid[...]\n",
    "uu = far_field.uu\n",
    "vv = far_field.vv\n",
    "xxp  = pgrid[...,0] * np.sin(pgrid[...,1]) * np.cos(pgrid[...,2])\n",
    "yyp  = pgrid[...,0] * np.sin(pgrid[...,1]) * np.sin(pgrid[...,2])\n",
    "zzp  = pgrid[...,0] * np.cos(pgrid[...,1])\n",
    "xxv  = vgrid[...,0] * np.sin(vgrid[...,1]) * np.cos(vgrid[...,2])\n",
    "yyv  = vgrid[...,0] * np.sin(vgrid[...,1]) * np.sin(vgrid[...,2])\n",
    "zzv  = vgrid[...,0] * np.cos(vgrid[...,1])"
   ]
  },
  {
   "cell_type": "markdown",
   "metadata": {},
   "source": [
    "### 1.2.2 Plot the travel time field for constant $\\phi = \\phi_0$"
   ]
  },
  {
   "cell_type": "code",
   "execution_count": 7,
   "metadata": {},
   "outputs": [
    {
     "data": {
      "application/vnd.jupyter.widget-view+json": {
       "model_id": "fc983722d7d2451aaa2ff2500b524199",
       "version_major": 2,
       "version_minor": 0
      },
      "text/plain": [
       "FigureCanvasNbAgg()"
      ]
     },
     "metadata": {},
     "output_type": "display_data"
    },
    {
     "data": {
      "text/plain": [
       "<matplotlib.collections.PathCollection at 0x16b807a58>"
      ]
     },
     "execution_count": 7,
     "metadata": {},
     "output_type": "execute_result"
    }
   ],
   "source": [
    "# Choose the index of phi to plot\n",
    "ip = 0\n",
    "\n",
    "# Plot the velocity model in the first subplot.\n",
    "fig = plt.figure()\n",
    "ax1 = fig.add_subplot(1, 2, 1, aspect=1)\n",
    "qmesh = ax1.pcolormesh(\n",
    "    xxv[:,:,ip],\n",
    "    zzv[:,:,ip],\n",
    "    vv[:,:,ip],\n",
    "    cmap=plt.get_cmap('jet'),\n",
    "    shading='gouraud'\n",
    ")\n",
    "cbar = fig.colorbar(qmesh, ax=ax1, orientation='horizontal')\n",
    "cbar.set_label('Velocity [km/s]')\n",
    "ax1.scatter(\n",
    "    xxv[src_idx],\n",
    "    zzv[src_idx],\n",
    "    s=250,\n",
    "    marker='*',\n",
    "    edgecolor='k',\n",
    "    facecolor='w',\n",
    "    linewidth=1\n",
    ")\n",
    "\n",
    "# Plot the travel-time field in the second subplot.\n",
    "ax2 = fig.add_subplot(1, 2, 2, aspect=1)\n",
    "qmesh = ax2.pcolormesh(\n",
    "    xxp[:,:,ip],\n",
    "    zzp[:,:,ip],\n",
    "    uu[:,:,ip],\n",
    "    cmap=plt.get_cmap('jet_r'),\n",
    "    shading='gouraud',\n",
    "    vmax=2e3\n",
    ")\n",
    "ax2.yaxis.tick_right()\n",
    "cbar = fig.colorbar(qmesh, ax=ax2, orientation='horizontal')\n",
    "cbar.set_label('Travel time [s]')\n",
    "ax2.scatter(\n",
    "    xxp[src_idx],\n",
    "    zzp[src_idx],\n",
    "    s=250,\n",
    "    marker='*',\n",
    "    edgecolor='k',\n",
    "    facecolor='w',\n",
    "    linewidth=1\n",
    ")"
   ]
  },
  {
   "cell_type": "markdown",
   "metadata": {},
   "source": [
    "### 1.2.3 Plot the travel-time field for constant $\\theta = \\theta_0$"
   ]
  },
  {
   "cell_type": "code",
   "execution_count": 8,
   "metadata": {},
   "outputs": [
    {
     "data": {
      "application/vnd.jupyter.widget-view+json": {
       "model_id": "6832df4b98ed488aa813b98a2c70ff85",
       "version_major": 2,
       "version_minor": 0
      },
      "text/plain": [
       "FigureCanvasNbAgg()"
      ]
     },
     "metadata": {},
     "output_type": "display_data"
    },
    {
     "data": {
      "text/plain": [
       "<matplotlib.collections.PathCollection at 0x16bda7128>"
      ]
     },
     "execution_count": 8,
     "metadata": {},
     "output_type": "execute_result"
    }
   ],
   "source": [
    "it = src_idx[1]\n",
    "\n",
    "fig = plt.figure()\n",
    "ax1 = fig.add_subplot(1, 2, 1, aspect=1)\n",
    "qmesh = ax1.pcolormesh(\n",
    "    xxv[:,it,:],\n",
    "    yyv[:,it,:],\n",
    "    vv[:,it,:],\n",
    "    cmap=plt.get_cmap('jet'),\n",
    "    shading='gouraud'\n",
    ")\n",
    "cbar = fig.colorbar(qmesh, ax=ax1, orientation='horizontal')\n",
    "cbar.set_label('Velocity [km/s]')\n",
    "ax1.scatter(\n",
    "    xxv[src_idx],\n",
    "    yyv[src_idx],\n",
    "    s=250,\n",
    "    marker='*',\n",
    "    edgecolor='k',\n",
    "    facecolor='w',\n",
    "    linewidth=1\n",
    ")\n",
    "ax2 = fig.add_subplot(1, 2, 2, aspect=1)\n",
    "qmesh = ax2.pcolormesh(\n",
    "    xxp[:,it,:],\n",
    "    yyp[:,it,:],\n",
    "    uu[:,it,:],\n",
    "    cmap=plt.get_cmap('jet_r'),\n",
    "    shading='gouraud',\n",
    "    vmax=uu[:-1,it,:].max()\n",
    ")\n",
    "ax2.yaxis.tick_right()\n",
    "cbar = fig.colorbar(qmesh, ax=ax2, orientation='horizontal')\n",
    "cbar.set_label('Travel time [s]')\n",
    "ax2.scatter(\n",
    "    xxp[src_idx],\n",
    "    yyp[src_idx],\n",
    "    s=250,\n",
    "    marker='*',\n",
    "    edgecolor='k',\n",
    "    facecolor='w',\n",
    "    linewidth=1\n",
    ")"
   ]
  },
  {
   "cell_type": "markdown",
   "metadata": {},
   "source": [
    "# Example 2\n",
    "-----\n",
    "\n",
    "This example uses a refined grid in the source region to improve accuracy.\n",
    "\n",
    "## 2.1. Set up and run a more involved example\n",
    "### 2.1.1 Define the source location"
   ]
  },
  {
   "cell_type": "code",
   "execution_count": 18,
   "metadata": {},
   "outputs": [],
   "source": [
    "# Specify the source coordinates\n",
    "lat0, lon0, depth0 = 0, 90, 410\n",
    "\n",
    "# Convert the source coordinates to spherical coordinates\n",
    "rho0   = 6371. - depth0\n",
    "theta0 = np.pi/2 - np.radians(lat0)\n",
    "phi0   = np.radians(lon0)"
   ]
  },
  {
   "cell_type": "markdown",
   "metadata": {},
   "source": [
    "### 2.1.2 Set up the far-field grid, but don't solve yet"
   ]
  },
  {
   "cell_type": "code",
   "execution_count": 19,
   "metadata": {},
   "outputs": [],
   "source": [
    "# Full 3D\n",
    "npz = np.load(\n",
    "    os.path.join(GOOGLE_DRIVE, 'malcolm.white@usc.edu', 'data', 'velocity', 'Golos_et_al', 'Vs.npz'),\n",
    ")\n",
    "far_field                      = pykonal.EikonalSolver(coord_sys='spherical')\n",
    "far_field.vgrid.min_coords     = npz['min_coords']\n",
    "far_field.vgrid.node_intervals = npz['node_intervals']\n",
    "far_field.vgrid.npts           = npz['npts']\n",
    "far_field.vv                   = npz['Vs']"
   ]
  },
  {
   "cell_type": "markdown",
   "metadata": {},
   "source": [
    "### 2.1.3 Set up a refined grid in the near-field region\n",
    "This grid is centered on the source"
   ]
  },
  {
   "cell_type": "code",
   "execution_count": 20,
   "metadata": {},
   "outputs": [
    {
     "name": "stdout",
     "output_type": "stream",
     "text": [
      "CPU times: user 1.12 s, sys: 2.21 ms, total: 1.13 s\n",
      "Wall time: 1.13 s\n"
     ]
    }
   ],
   "source": [
    "near_field                      = pykonal.EikonalSolver(coord_sys='spherical')\n",
    "near_field.vgrid.min_coords     = npz['node_intervals'][0] / 5, 0, 0\n",
    "near_field.vgrid.node_intervals = npz['node_intervals'][0] / 5, np.pi/40, np.pi/40\n",
    "near_field.vgrid.npts           = 50, 41, 80\n",
    "\n",
    "near_field.transfer_velocity_from(far_field, (-rho0, theta0, phi0))\n",
    "\n",
    "vvi = pykonal.LinearInterpolator3D(near_field.vgrid, near_field.vv)\n",
    "\n",
    "for it in range(near_field.pgrid.npts[1]):\n",
    "    for ip in range(near_field.pgrid.npts[2]):\n",
    "        idx = (0, it, ip)\n",
    "        near_field.uu[idx]     = near_field.pgrid[idx + (0,)] / vvi(near_field.pgrid[idx])\n",
    "        near_field.is_far[idx] = False\n",
    "        near_field.close.push(*idx)\n",
    "        \n",
    "%time near_field.solve()"
   ]
  },
  {
   "cell_type": "code",
   "execution_count": 21,
   "metadata": {},
   "outputs": [],
   "source": [
    "far_field.transfer_travel_times_from(near_field, (-rho0, theta0, phi0), set_alive=True)"
   ]
  },
  {
   "cell_type": "code",
   "execution_count": 22,
   "metadata": {},
   "outputs": [
    {
     "name": "stdout",
     "output_type": "stream",
     "text": [
      "CPU times: user 2min 45s, sys: 1.2 s, total: 2min 46s\n",
      "Wall time: 2min 46s\n"
     ]
    }
   ],
   "source": [
    "%time far_field.solve()"
   ]
  },
  {
   "cell_type": "markdown",
   "metadata": {},
   "source": [
    "## 1.2 Plot the resulting travel-time field\n",
    "### 1.2.1 Convert spherical coordinates to cartesian for plotting"
   ]
  },
  {
   "cell_type": "code",
   "execution_count": 23,
   "metadata": {},
   "outputs": [],
   "source": [
    "pgrid = far_field.pgrid[...]\n",
    "vgrid = far_field.vgrid[...]\n",
    "uu = far_field.uu\n",
    "vv = far_field.vv\n",
    "if far_field.pgrid.is_periodic[2]:\n",
    "    pgrid = np.append(pgrid, pgrid[:,:,0].reshape(*pgrid.shape[:2], 1, 3), axis=2)\n",
    "    vgrid = np.append(vgrid, vgrid[:,:,0].reshape(*vgrid.shape[:2], 1, 3), axis=2)\n",
    "    uu   = np.append(uu, uu[...,0].reshape(*uu.shape[:2], 1), axis=2)\n",
    "    vv   = np.append(vv, vv[...,0].reshape(*vv.shape[:2], 1), axis=2)\n",
    "xxp  = pgrid[...,0] * np.sin(pgrid[...,1]) * np.cos(pgrid[...,2])\n",
    "yyp  = pgrid[...,0] * np.sin(pgrid[...,1]) * np.sin(pgrid[...,2])\n",
    "zzp  = pgrid[...,0] * np.cos(pgrid[...,1])\n",
    "xxv  = vgrid[...,0] * np.sin(vgrid[...,1]) * np.cos(vgrid[...,2])\n",
    "yyv  = vgrid[...,0] * np.sin(vgrid[...,1]) * np.sin(vgrid[...,2])\n",
    "zzv  = vgrid[...,0] * np.cos(vgrid[...,1])\n"
   ]
  },
  {
   "cell_type": "markdown",
   "metadata": {},
   "source": [
    "### 1.2.3 Plot the travel-time field for constant $\\theta = \\theta_0$"
   ]
  },
  {
   "cell_type": "code",
   "execution_count": 49,
   "metadata": {},
   "outputs": [
    {
     "data": {
      "application/vnd.jupyter.widget-view+json": {
       "model_id": "234787bf393d42bd862e0221875b4e3a",
       "version_major": 2,
       "version_minor": 0
      },
      "text/plain": [
       "FigureCanvasNbAgg()"
      ]
     },
     "metadata": {},
     "output_type": "display_data"
    }
   ],
   "source": [
    "it = 128\n",
    "\n",
    "fig = plt.figure(figsize=(12, 12))\n",
    "ax1 = fig.add_subplot(1, 2, 1, aspect=1)\n",
    "qmesh = ax1.pcolormesh(\n",
    "    xxv[:,it,:],\n",
    "    yyv[:,it,:],\n",
    "    vv[:,it,:],\n",
    "    cmap=plt.get_cmap('jet'),\n",
    "    shading='gouraud'\n",
    ")\n",
    "cbar = fig.colorbar(qmesh, ax=ax1, orientation='horizontal')\n",
    "cbar.set_label('Velocity [km/s]')\n",
    "ax1.scatter(\n",
    "    rho0 * np.sin(theta0) * np.cos(phi0),\n",
    "    rho0 * np.sin(theta0) * np.sin(phi0),\n",
    "    s=250,\n",
    "    marker='*',\n",
    "    edgecolor='k',\n",
    "    facecolor='w',\n",
    "    linewidth=1\n",
    ")\n",
    "ax2 = fig.add_subplot(1, 2, 2, aspect=1)\n",
    "qmesh = ax2.pcolormesh(\n",
    "    xxp[:,it,:],\n",
    "    yyp[:,it,:],\n",
    "    uu[:,it,:],\n",
    "    cmap=plt.get_cmap('jet_r'),\n",
    "    shading='gouraud',\n",
    "    vmax=uu[:-1,it,:].max()\n",
    ")\n",
    "ax2.yaxis.tick_right()\n",
    "cbar = fig.colorbar(qmesh, ax=ax2, orientation='horizontal')\n",
    "cbar.set_label('Travel time [s]')\n",
    "ax2.scatter(\n",
    "    rho0 * np.sin(theta0) * np.cos(phi0),\n",
    "    rho0 * np.sin(theta0) * np.sin(phi0),\n",
    "    s=250,\n",
    "    marker='*',\n",
    "    edgecolor='k',\n",
    "    facecolor='w',\n",
    "    linewidth=1\n",
    ")\n",
    "for dlon in (-89, -80, -70, -60, -50, -40, -30, -20, -10, 10, 20, 30, 40, 50, 60, 70, 80, 90):\n",
    "    try:\n",
    "        ray = far_field.trace_ray(geo2sph(lat0, lon0+dlon, 102))\n",
    "    except:\n",
    "        continue\n",
    "    ax2.plot(\n",
    "        ray[:,0] * np.sin(ray[:,1]) * np.cos(ray[:,2]),\n",
    "        ray[:,0] * np.sin(ray[:,1]) * np.sin(ray[:,2]),\n",
    "        'k',\n",
    "        linewidth=0.5\n",
    "    )"
   ]
  },
  {
   "cell_type": "code",
   "execution_count": 45,
   "metadata": {},
   "outputs": [
    {
     "data": {
      "text/plain": [
       "0.70311945420846467"
      ]
     },
     "execution_count": 45,
     "metadata": {},
     "output_type": "execute_result"
    }
   ],
   "source": [
    "np.degrees(far_field.pgrid.node_intervals[2])"
   ]
  },
  {
   "cell_type": "code",
   "execution_count": null,
   "metadata": {},
   "outputs": [],
   "source": [
    "uui = lambda lat, lon, depth: pykonal.LinearInterpolator3D(far_field.pgrid, far_field.uu)(geo2sph(lat, lon, depth))"
   ]
  },
  {
   "cell_type": "code",
   "execution_count": 36,
   "metadata": {},
   "outputs": [
    {
     "data": {
      "text/plain": [
       "array([  5.79632679e-03,   6.13600000e-03,   3.49079490e+03,\n",
       "         3.51338474e+03,   3.53597459e+03,   3.55856443e+03,\n",
       "         3.58115428e+03,   3.60374412e+03,   3.62633396e+03,\n",
       "         3.64892381e+03,   3.67151365e+03,   3.69410350e+03,\n",
       "         3.71669334e+03,   3.73928319e+03,   3.76187303e+03,\n",
       "         3.78446287e+03,   3.80705272e+03,   3.82964256e+03,\n",
       "         3.85223241e+03,   3.87482225e+03,   3.89741209e+03,\n",
       "         3.92000194e+03,   3.94259178e+03,   3.96518163e+03,\n",
       "         3.98777147e+03,   4.01036131e+03,   4.03295116e+03,\n",
       "         4.05554100e+03,   4.07813085e+03,   4.10072069e+03,\n",
       "         4.12331053e+03,   4.14590038e+03,   4.16849022e+03,\n",
       "         4.19108007e+03,   4.21366991e+03,   4.23625976e+03,\n",
       "         4.25884960e+03,   4.28143944e+03,   4.30402929e+03,\n",
       "         4.32661913e+03,   4.34920898e+03,   4.37179882e+03,\n",
       "         4.39438866e+03,   4.41697851e+03,   4.43956835e+03,\n",
       "         4.46215820e+03,   4.48474804e+03,   4.50733788e+03,\n",
       "         4.52992773e+03,   4.55251757e+03,   4.57510742e+03,\n",
       "         4.59769726e+03,   4.62028710e+03,   4.64287695e+03,\n",
       "         4.66546679e+03,   4.68805664e+03,   4.71064648e+03,\n",
       "         4.73323633e+03,   4.75582617e+03,   4.77841601e+03,\n",
       "         4.80100586e+03,   4.82359570e+03,   4.84618555e+03,\n",
       "         4.86877539e+03,   4.89136523e+03,   4.91395508e+03,\n",
       "         4.93654492e+03,   4.95913477e+03,   4.98172461e+03,\n",
       "         5.00431445e+03,   5.02690430e+03,   5.04949414e+03,\n",
       "         5.07208399e+03,   5.09467383e+03,   5.11726367e+03,\n",
       "         5.13985352e+03,   5.16244336e+03,   5.18503321e+03,\n",
       "         5.20762305e+03,   5.23021290e+03,   5.25280274e+03,\n",
       "         5.27539258e+03,   5.29798243e+03,   5.32057227e+03,\n",
       "         5.34316212e+03,   5.36575196e+03,   5.38834180e+03,\n",
       "         5.41093165e+03,   5.43352149e+03,   5.45611134e+03,\n",
       "         5.47870118e+03,   5.50129102e+03,   5.52388087e+03,\n",
       "         5.54647071e+03,   5.56906056e+03,   5.59165040e+03,\n",
       "         5.61424024e+03,   5.63683009e+03,   5.65941993e+03,\n",
       "         5.68200978e+03,   5.70459962e+03,   5.72718947e+03,\n",
       "         5.74977931e+03,   5.77236915e+03,   5.79495900e+03,\n",
       "         5.81754884e+03,   5.84013869e+03,   5.86272853e+03,\n",
       "         5.88531837e+03,   5.90790822e+03,   5.93049806e+03,\n",
       "         5.95308791e+03,   5.97567775e+03,   5.99826759e+03,\n",
       "         6.02085744e+03,   6.04344728e+03,   6.06603713e+03,\n",
       "         6.08862697e+03,   6.11121681e+03,   6.13380666e+03,\n",
       "         6.15639650e+03,   6.17898635e+03,   6.20157619e+03,\n",
       "         6.22416604e+03,   6.24675588e+03,   6.26934572e+03,\n",
       "         6.29193557e+03,   6.31452541e+03,   6.33711526e+03,\n",
       "         6.35970510e+03])"
      ]
     },
     "execution_count": 36,
     "metadata": {},
     "output_type": "execute_result"
    }
   ],
   "source": [
    "np.unique(far_field.pgrid[:,0,0])"
   ]
  },
  {
   "cell_type": "code",
   "execution_count": null,
   "metadata": {},
   "outputs": [],
   "source": []
  }
 ],
 "metadata": {
  "kernelspec": {
   "display_name": "Python [conda env:py37]",
   "language": "python",
   "name": "conda-env-py37-py"
  },
  "language_info": {
   "codemirror_mode": {
    "name": "ipython",
    "version": 3
   },
   "file_extension": ".py",
   "mimetype": "text/x-python",
   "name": "python",
   "nbconvert_exporter": "python",
   "pygments_lexer": "ipython3",
   "version": "3.7.3"
  }
 },
 "nbformat": 4,
 "nbformat_minor": 2
}
