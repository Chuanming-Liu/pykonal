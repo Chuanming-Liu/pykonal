{
 "cells": [
  {
   "cell_type": "code",
   "execution_count": null,
   "metadata": {},
   "outputs": [],
   "source": [
    "%load_ext Cython\n",
    "import numpy as np\n",
    "import pandas as pd\n",
    "import pykonal\n",
    "\n",
    "EARTH_RADIUS = 6371.\n",
    "DTYPE_REAL = np.float64"
   ]
  },
  {
   "cell_type": "code",
   "execution_count": null,
   "metadata": {},
   "outputs": [],
   "source": [
    "%%cython\n",
    "\n",
    "import numpy as np\n",
    "import scipy.optimize\n",
    "cimport numpy as np\n",
    "\n",
    "\n",
    "ctypedef np.float64_t _REAL_t\n",
    "\n",
    "EARTH_RADIUS = 6371.\n",
    "DTYPE_REAL = np.float64\n",
    "\n",
    "def geo2sph(arr):\n",
    "    \"\"\"\n",
    "    Map Geographical coordinates to spherical coordinates.\n",
    "    \"\"\"\n",
    "    geo = np.array(arr, dtype=DTYPE_REAL)\n",
    "    sph = np.empty_like(geo)\n",
    "    sph[..., 0] = EARTH_RADIUS - geo[..., 2]\n",
    "    sph[..., 1] = np.pi / 2 - np.radians(geo[..., 0])\n",
    "    sph[..., 2] = np.radians(geo[..., 1])\n",
    "    return (sph)\n",
    "\n",
    "\n",
    "def sph2geo(arr):\n",
    "    \"\"\"\n",
    "    Map spherical coordinates to geographic coordinates.\n",
    "    \"\"\"\n",
    "    sph = np.array(arr, dtype=DTYPE_REAL)\n",
    "    geo = np.empty_like(sph)\n",
    "    geo[..., 0] = np.degrees(np.pi / 2 - sph[..., 1])\n",
    "    geo[..., 1] = np.degrees(sph[..., 2])\n",
    "    geo[..., 2] = EARTH_RADIUS - sph[..., 0]\n",
    "    return (geo)\n",
    "\n",
    "\n",
    "cdef class EQLocator(object):\n",
    "    cdef dict _arrivals\n",
    "    cdef dict _tt_calculators\n",
    "    cdef _REAL_t[:,:,:,:] _grid\n",
    "    cdef tuple _bounds\n",
    "    cdef dict _priors\n",
    "    \n",
    "    def __init__(self, arrivals, tt_calculators, grid):\n",
    "        self._arrivals = {key: arrivals[key] for key in tt_calculators}\n",
    "        self._tt_calculators = tt_calculators\n",
    "        self._grid = grid\n",
    "    \n",
    "    @property\n",
    "    def arrivals(self):\n",
    "        return (self._arrivals)\n",
    "    \n",
    "    @arrivals.setter\n",
    "    def arrivals(self, value):\n",
    "        self._arrivals = value\n",
    "    \n",
    "    @property\n",
    "    def grid(self):\n",
    "        return (np.asarray(self._grid))\n",
    "    \n",
    "    @grid.setter\n",
    "    def grid(self, value):\n",
    "        self._grid = value\n",
    "        \n",
    "    @property\n",
    "    def tt_calculators(self):\n",
    "        return (self._tt_calculators)\n",
    "    \n",
    "    @tt_calculators.setter\n",
    "    def tt_calculators(self, value):\n",
    "        self._tt_calculators = value\n",
    "        \n",
    "    cpdef initial_guess(self):\n",
    "        values = [self.arrivals[key]-self.tt_calculators[key].values for key in self.tt_calculators]\n",
    "        values = np.stack(values)\n",
    "        std = values.std(axis=0)\n",
    "        arg_min = np.argmin(std)\n",
    "        idx_min = np.unravel_index(arg_min, std.shape)\n",
    "        geo = sph2geo(self.grid[idx_min])\n",
    "        time = values.mean(axis=0)[idx_min]\n",
    "        return (np.array([*geo, time]))\n",
    "\n",
    "    cpdef cost(self, _REAL_t[:] hypocenter):\n",
    "        cdef tuple key\n",
    "        cdef _REAL_t csum, lat, lon, depth, time\n",
    "        lat = hypocenter[0]\n",
    "        lon = hypocenter[1]\n",
    "        depth = hypocenter[2]\n",
    "        time = hypocenter[3]\n",
    "        for key in self.arrivals:\n",
    "            sph_coords = geo2sph((lat, lon, depth, time))\n",
    "            tt_calculator = self.tt_calculators[key]\n",
    "            csum += np.square(self.arrivals[key]-(time+tt_calculator(sph_coords)))\n",
    "        return (np.sqrt(csum/len(self.arrivals)))\n",
    "    \n",
    "    cpdef locate(self):\n",
    "        cdef _REAL_t[4] h0\n",
    "        h0 = self.initial_guess()\n",
    "        soln = scipy.optimize.differential_evolution(\n",
    "            self.cost,\n",
    "            ((h0[0]-0.25, h0[0]+0.25), (h0[1]-0.25, h0[1]+0.25), (0, 30), (h0[3]-5, h0[3]+5))\n",
    "        )\n",
    "        return (soln.x)"
   ]
  },
  {
   "cell_type": "markdown",
   "metadata": {},
   "source": [
    "# Load a test data set"
   ]
  },
  {
   "cell_type": "code",
   "execution_count": null,
   "metadata": {},
   "outputs": [],
   "source": [
    "class VelocityModel(object):\n",
    "    def __init__(self, velocity, grid):\n",
    "        self.velocity = velocity\n",
    "        self.grid = grid\n",
    "        \n",
    "def geo2sph(arr):\n",
    "    \"\"\"\n",
    "    Map Geographical coordinates to spherical coordinates.\n",
    "    \"\"\"\n",
    "    geo = np.array(arr, dtype=DTYPE_REAL)\n",
    "    sph = np.empty_like(geo)\n",
    "    sph[..., 0] = EARTH_RADIUS - geo[..., 2]\n",
    "    sph[..., 1] = np.pi / 2 - np.radians(geo[..., 0])\n",
    "    sph[..., 2] = np.radians(geo[..., 1])\n",
    "    return (sph)\n",
    "        \n",
    "def init_farfield(vmodel):\n",
    "    \"\"\"\n",
    "    Initialize the far-field EikonalSolver with the given velocity model.\n",
    "    \"\"\"\n",
    "    far_field = pykonal.EikonalSolver(coord_sys='spherical')\n",
    "    far_field.vgrid.min_coords = vmodel.grid.min_coords\n",
    "    far_field.vgrid.node_intervals = vmodel.grid.node_intervals\n",
    "    far_field.vgrid.npts = vmodel.grid.npts\n",
    "    far_field.vv = vmodel.velocity\n",
    "    return (far_field)\n",
    "\n",
    "\n",
    "def init_nearfield(far_field, origin):\n",
    "    \"\"\"\n",
    "    Initialize the near-field EikonalSolver.\n",
    "    :param origin: Station location in spherical coordinates.\n",
    "    :type origin: (float, float, float)\n",
    "    :return: Near-field EikonalSolver\n",
    "    :rtype: pykonal.EikonalSolver\n",
    "    \"\"\"\n",
    "    drho = far_field.vgrid.node_intervals[0] / 5\n",
    "    near_field = pykonal.EikonalSolver(coord_sys='spherical')\n",
    "    near_field.vgrid.min_coords = drho, 0, 0\n",
    "    near_field.vgrid.node_intervals = drho, np.pi / 20, np.pi / 20\n",
    "    near_field.vgrid.npts = 100, 21, 40\n",
    "    near_field.transfer_velocity_from(far_field, origin)\n",
    "    vvi = pykonal.LinearInterpolator3D(near_field.vgrid, near_field.vv)\n",
    "\n",
    "    for it in range(near_field.pgrid.npts[1]):\n",
    "        for ip in range(near_field.pgrid.npts[2]):\n",
    "            idx = (0, it, ip)\n",
    "            near_field.uu[idx] = near_field.pgrid[idx + (0,)] / vvi(near_field.pgrid[idx])\n",
    "            near_field.is_far[idx] = False\n",
    "            near_field.close.push(*idx)\n",
    "    return (near_field)\n",
    "\n",
    "def compute_traveltime_lookup_table(geo_coords, vmodel):\n",
    "    rho0, theta0, phi0 = geo2sph(geo_coords)\n",
    "    far_field = init_farfield(vmodel)\n",
    "    near_field = init_nearfield(far_field, (rho0, theta0, phi0))\n",
    "    near_field.solve()\n",
    "    far_field.transfer_travel_times_from(near_field, (-rho0, theta0, phi0), set_alive=True)\n",
    "    far_field.solve()\n",
    "    return (far_field)"
   ]
  },
  {
   "cell_type": "code",
   "execution_count": null,
   "metadata": {},
   "outputs": [],
   "source": [
    "# Load event data\n",
    "with pd.HDFStore(\"/home/malcolmw/google_drive/malcolm.white@usc.edu/data/events/scedc/h5/scedc_2000-2019.h5\") as store:\n",
    "    df_events = store[\"events\"]\n",
    "    df_arrivals = store[\"arrivals\"].set_index(\"event_id\")\n",
    "    \n",
    "with pd.HDFStore(\"/home/malcolmw/google_drive/malcolm.white@usc.edu/data/networks/scsn.h5\") as store:\n",
    "    df_stations = store[\"stations\"].set_index(\"station_id\")\n",
    "    df_stations[\"depth\"] = -df_stations[\"elev\"]\n",
    "\n",
    "# Load velocity model\n",
    "with np.load(\"/home/malcolmw/google_drive/malcolm.white@usc.edu/proj/tomo_socal/data/scec_cvms.P.smooth.npz\") as npz:\n",
    "    grid = pykonal.Grid3D(coord_sys=\"spherical\")\n",
    "    grid.min_coords = npz[\"min_coords\"]\n",
    "    grid.node_intervals = npz[\"node_intervals\"]\n",
    "    grid.npts = npz[\"npts\"]\n",
    "    vp = VelocityModel(npz[\"vv\"], grid)\n",
    "\n",
    "with np.load(\"/home/malcolmw/google_drive/malcolm.white@usc.edu/proj/tomo_socal/data/scec_cvms.S.smooth.npz\") as npz:\n",
    "    grid = pykonal.Grid3D(coord_sys=\"spherical\")\n",
    "    grid.min_coords = npz[\"min_coords\"]\n",
    "    grid.node_intervals = npz[\"node_intervals\"]\n",
    "    grid.npts = npz[\"npts\"]\n",
    "    vs = VelocityModel(npz[\"vv\"], grid)\n",
    "    "
   ]
  },
  {
   "cell_type": "code",
   "execution_count": null,
   "metadata": {},
   "outputs": [],
   "source": [
    "event_id = 38924903\n",
    "arrivals = df_arrivals.loc[event_id].set_index([\"station_id\", \"phase\"]).to_dict()[\"time\"]"
   ]
  },
  {
   "cell_type": "code",
   "execution_count": null,
   "metadata": {},
   "outputs": [],
   "source": [
    "tt_calculators = dict()\n",
    "\n",
    "for arrival_id in arrivals.keys():\n",
    "    station_id, phase = arrival_id\n",
    "    if station_id not in df_stations.index:\n",
    "        print(f\"No metadata for {station_id}\")\n",
    "        continue\n",
    "    solver = compute_traveltime_lookup_table(\n",
    "        df_stations.loc[station_id, [\"lat\", \"lon\", \"depth\"]].values, \n",
    "        vp if phase is \"P\" else vs\n",
    "    )\n",
    "    tt_calculators[arrival_id] = pykonal.LinearInterpolator3D(\n",
    "        solver.pgrid,\n",
    "        solver.uu\n",
    "    )"
   ]
  },
  {
   "cell_type": "code",
   "execution_count": null,
   "metadata": {},
   "outputs": [],
   "source": [
    "locator = EQLocator(\n",
    "    arrivals=arrivals,\n",
    "    tt_calculators=tt_calculators,\n",
    "    grid=solver.pgrid.nodes\n",
    ")\n",
    "locator.locate()"
   ]
  },
  {
   "cell_type": "code",
   "execution_count": null,
   "metadata": {},
   "outputs": [],
   "source": [
    "locator.cost(np.array([33.4861667, -116.414667,  4.97000000,  1572537117.73]))"
   ]
  },
  {
   "cell_type": "code",
   "execution_count": null,
   "metadata": {},
   "outputs": [],
   "source": [
    "locator.cost(h0)"
   ]
  },
  {
   "cell_type": "code",
   "execution_count": null,
   "metadata": {},
   "outputs": [],
   "source": [
    "import scipy.optimize"
   ]
  },
  {
   "cell_type": "code",
   "execution_count": null,
   "metadata": {},
   "outputs": [],
   "source": [
    "h0"
   ]
  },
  {
   "cell_type": "code",
   "execution_count": null,
   "metadata": {},
   "outputs": [],
   "source": [
    "%%time\n",
    "soln = scipy.optimize.differential_evolution(\n",
    "    locator.cost,\n",
    "    ((h0[0]-0.25, h0[0]+0.25), (h0[1]-0.25, h0[1]+0.25), (0, 30), (h0[3]-5, h0[3]+5))\n",
    ")"
   ]
  },
  {
   "cell_type": "code",
   "execution_count": null,
   "metadata": {},
   "outputs": [],
   "source": [
    "locator.cost(soln.x)"
   ]
  },
  {
   "cell_type": "code",
   "execution_count": null,
   "metadata": {},
   "outputs": [],
   "source": [
    "h0, values, idx = locator.initial_guess()"
   ]
  },
  {
   "cell_type": "code",
   "execution_count": null,
   "metadata": {},
   "outputs": [],
   "source": []
  },
  {
   "cell_type": "code",
   "execution_count": null,
   "metadata": {},
   "outputs": [],
   "source": [
    "df_events.set_index(\"event_id\").loc[event_id, \"time\"]"
   ]
  },
  {
   "cell_type": "code",
   "execution_count": null,
   "metadata": {},
   "outputs": [],
   "source": []
  }
 ],
 "metadata": {
  "kernelspec": {
   "display_name": "Python [conda env:py37]",
   "language": "python",
   "name": "conda-env-py37-py"
  },
  "language_info": {
   "codemirror_mode": {
    "name": "ipython",
    "version": 3
   },
   "file_extension": ".py",
   "mimetype": "text/x-python",
   "name": "python",
   "nbconvert_exporter": "python",
   "pygments_lexer": "ipython3",
   "version": "3.7.4"
  }
 },
 "nbformat": 4,
 "nbformat_minor": 4
}
