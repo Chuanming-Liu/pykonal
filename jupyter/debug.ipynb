{
 "cells": [
  {
   "cell_type": "code",
   "execution_count": 1,
   "metadata": {},
   "outputs": [],
   "source": [
    "import matplotlib.pyplot as plt\n",
    "from mpl_toolkits.mplot3d import axes3d\n",
    "import numpy as np\n",
    "import os\n",
    "import pandas as pd\n",
    "from pykonal import EikonalSolver, LinearInterpolator3D, Grid3D\n",
    "from pykonal import transform\n",
    "import seispy\n",
    "\n",
    "EARTH_RADIUS = 6371.\n",
    "GOOGLE_DRIVE = os.environ['GOOGLE_DRIVE']\n",
    "VMODEL_PATH  = os.path.join(GOOGLE_DRIVE, 'malcolm.white@usc.edu', 'data', 'velocity', 'White_et_al_2019a', 'White_et_al_2019a.regular.npz')\n",
    "DB_PATH      = os.path.join(GOOGLE_DRIVE, 'malcolm.white@usc.edu', 'data', 'events', 'malcolmw', 'SJFZ_catalog_2008-2016.h5')"
   ]
  },
  {
   "cell_type": "code",
   "execution_count": 2,
   "metadata": {},
   "outputs": [],
   "source": [
    "%matplotlib widget"
   ]
  },
  {
   "cell_type": "markdown",
   "metadata": {},
   "source": [
    "Define convenience class to compute traveltimes using a source-centered coordinate system in the near field."
   ]
  },
  {
   "cell_type": "code",
   "execution_count": 24,
   "metadata": {},
   "outputs": [],
   "source": [
    "class TwoStageSolver(object):\n",
    "    \n",
    "    def __init__(self, coord_sys='spherical'):\n",
    "        '''\n",
    "        A convenience class to compute traveltimes using a\n",
    "        source-centered coordinate system in the near field.\n",
    "        '''\n",
    "        self.coord_sys = coord_sys\n",
    "\n",
    "\n",
    "    @property\n",
    "    def near_field(self):\n",
    "        '''\n",
    "        The source-centered EikonalSolver for the near field.\n",
    "        '''\n",
    "        if not hasattr(self, '_near_field'):\n",
    "            self._near_field = EikonalSolver(coord_sys='spherical')\n",
    "        return (self._near_field)\n",
    "    \n",
    "    @property\n",
    "    def far_field(self):\n",
    "        '''\n",
    "        The EikonalSolver for the far field.\n",
    "        '''\n",
    "        if not hasattr(self, '_far_field'):\n",
    "            self._far_field = EikonalSolver(coord_sys=self.coord_sys)\n",
    "        return (self._far_field)\n",
    "    \n",
    "    @property\n",
    "    def src_loc(self):\n",
    "        '''\n",
    "        The coordinates of the source.\n",
    "        '''\n",
    "        return (self._src_loc)\n",
    "    \n",
    "    @src_loc.setter\n",
    "    def src_loc(self, value):\n",
    "        value = np.array(value)\n",
    "        if np.any(value < self.far_field.vgrid.min_coords)\\\n",
    "                or np.any(value > self.far_field.vgrid.max_coords):\n",
    "            raise(ValueError('Source location must lie inside far-field grid.'))\n",
    "        self._src_loc = value\n",
    "\n",
    "    def solve(self):\n",
    "        self._init_near_field()\n",
    "        self.near_field.solve()\n",
    "        self.far_field.transfer_travel_times_from(\n",
    "            self.near_field,\n",
    "            self.src_loc  * [-1, 1, 1],\n",
    "            set_alive=True\n",
    "        )\n",
    "        self.far_field.solve()\n",
    "    \n",
    "    def _init_near_field(self):\n",
    "        if self.coord_sys == 'cartesian':\n",
    "            drho = np.min(self.far_field.pgrid.min_coords) / 5\n",
    "        else:\n",
    "            drho = self.far_field.pgrid.node_intervals[0] / 5\n",
    "        self.near_field.vgrid.min_coords     = drho, 0, 0\n",
    "        self.near_field.vgrid.node_intervals = drho, np.pi/20, np.pi/20\n",
    "        self.near_field.vgrid.npts           = 100, 21, 40\n",
    "        self.near_field.transfer_velocity_from(self.far_field, self.src_loc)\n",
    "        for it in range(self.near_field.vgrid.npts[1]):\n",
    "            for ip in range(self.near_field.vgrid.npts[2]):\n",
    "                idx = (0, it, ip)\n",
    "                self.near_field.uu[idx]     = drho / self.near_field.vvp[idx]\n",
    "                self.near_field.is_far[idx] = False\n",
    "                self.near_field.close.push(*idx)"
   ]
  },
  {
   "cell_type": "markdown",
   "metadata": {},
   "source": [
    "# Synthetic data\n",
    "\n",
    "This example tests the location algorithm for the simplest and most ideal case: Homogeneous velocity structure and station coverage\n",
    "\n",
    "## Generate synthetic data\n",
    "\n",
    "### Define the computational grid"
   ]
  },
  {
   "cell_type": "code",
   "execution_count": 52,
   "metadata": {},
   "outputs": [],
   "source": [
    "TAG            = 'homogeneous_0.0'\n",
    "lat0, lon0, z0 = 44, 44, -1     # homogeneous_0.0\n",
    "dlat, dlon, dz = 0.01, 0.01, 1 # homogeneous_0.0\n",
    "nlat, nlon, nz = 201, 201, 26  # homogeneous_0.0\n",
    "latmax         = lat0 + (nlat-1)*dlat\n",
    "lonmax         = lon0 + (nlon-1)*dlon\n",
    "zmax           = z0 + (nz-1)*dz\n",
    "\n",
    "rho0, theta0, phi0 = EARTH_RADIUS-zmax, np.pi/2-np.radians(latmax), np.radians(lon0)\n",
    "drho, dtheta, dphi = dz, np.radians(dlat), np.radians(dlon)\n",
    "nrho, ntheta, nphi = nz, nlat, nlon"
   ]
  },
  {
   "cell_type": "markdown",
   "metadata": {},
   "source": [
    "### Define the station locations"
   ]
  },
  {
   "cell_type": "code",
   "execution_count": 53,
   "metadata": {
    "jupyter": {
     "source_hidden": true
    }
   },
   "outputs": [],
   "source": [
    "def init_stations(lat0, latmax, lon0, lonmax):\n",
    "    stations = pd.DataFrame(columns=['sta_code', 'lat', 'lon', 'depth'])\n",
    "    dlat, dlon = 0.25, 0.25 # homogeneous_0.0\n",
    "    ilat = 0\n",
    "    lat  = lat0\n",
    "    while lat <= latmax:\n",
    "        ilon, lon  = 0, lon0\n",
    "        while lon <= lonmax:\n",
    "            sta_code = f'{chr(ord(\"A\") + ilat//26)}{chr(ord(\"A\") + ilat%26)}{ilon:02d}'\n",
    "            stations = stations.append(\n",
    "                pd.DataFrame(\n",
    "                    [[sta_code, lat, lon, 0]],\n",
    "                    columns=['sta_code', 'lat', 'lon', 'depth']\n",
    "                ),\n",
    "                ignore_index=True\n",
    "            )\n",
    "            ilon += 1\n",
    "            lon  += dlon\n",
    "        ilat += 1\n",
    "        lat  += dlat\n",
    "    return(stations)\n",
    "\n",
    "def init_events(lat0, latmax, lon0, lonmax, z0, zmax):\n",
    "    events         = pd.DataFrame(columns=['lat', 'lon', 'depth', 'event_id'])\n",
    "    lat_avg        = (lat0+latmax) / 2\n",
    "    lon_avg        = (lon0+lonmax) / 2\n",
    "    z_avg          = (z0+zmax) / 2\n",
    "    dlat, dlon, dz = 0.1, 0.1, 1 # homogeneous_0.0\n",
    "    ilat           = 0\n",
    "    lat, lon, z    = lat0, lon0, z0\n",
    "    while lat <= latmax:\n",
    "        events = events.append(\n",
    "                pd.DataFrame(\n",
    "                    [[lat, lon_avg, z_avg, -1]],\n",
    "                    columns=['lat', 'lon', 'depth', 'event_id']\n",
    "                ),\n",
    "                ignore_index=True\n",
    "        )\n",
    "        lat += dlat\n",
    "    while lon <= lonmax:\n",
    "        events = events.append(\n",
    "                pd.DataFrame(\n",
    "                    [[lat_avg, lon, z_avg, -1]],\n",
    "                    columns=['lat', 'lon', 'depth', 'event_id']\n",
    "                ),\n",
    "                ignore_index=True\n",
    "        )\n",
    "        lon += dlon\n",
    "    while z <= zmax:\n",
    "        events = events.append(\n",
    "                pd.DataFrame(\n",
    "                    [[lat_avg, lon_avg, z, -1]],\n",
    "                    columns=['lat', 'lon', 'depth', 'event_id']\n",
    "                ),\n",
    "                ignore_index=True\n",
    "        )\n",
    "        z += dz\n",
    "    events['event_id'] = events.index.values\n",
    "    return (events)\n",
    "\n",
    "stations = init_stations(lat0, latmax, lon0, lonmax)\n",
    "events = init_events(lat0, latmax, lon0, lonmax, z0, zmax)"
   ]
  },
  {
   "cell_type": "code",
   "execution_count": 55,
   "metadata": {},
   "outputs": [
    {
     "name": "stdout",
     "output_type": "stream",
     "text": [
      "lat         44.8\n",
      "lon           45\n",
      "depth       11.5\n",
      "event_id       8\n",
      "Name: 8, dtype: object sta_code     AB05\n",
      "lat         44.25\n",
      "lon         45.25\n",
      "depth           0\n",
      "Name: 14, dtype: object\n"
     ]
    }
   ],
   "source": [
    "# event   = events.iloc[52]\n",
    "# station = stations.iloc[39]\n",
    "event   = events.iloc[np.random.randint(0, len(events))]\n",
    "station = stations.iloc[np.random.randint(0, len(stations))]\n",
    "print(event, station)"
   ]
  },
  {
   "cell_type": "code",
   "execution_count": 56,
   "metadata": {},
   "outputs": [
    {
     "name": "stdout",
     "output_type": "stream",
     "text": [
      "CPU times: user 10.8 s, sys: 189 ms, total: 10.9 s\n",
      "Wall time: 10.9 s\n"
     ]
    }
   ],
   "source": [
    "# Event\n",
    "event_solver = TwoStageSolver(coord_sys='spherical')\n",
    "event_solver.far_field.vgrid.min_coords      = rho0, theta0, phi0\n",
    "event_solver.far_field.vgrid.node_intervals  = drho, dtheta, dphi\n",
    "event_solver.far_field.vgrid.npts            = nrho, ntheta, nphi\n",
    "event_solver.far_field.vv                    = np.ones(event_solver.far_field.vgrid.npts)\n",
    "event_solver.src_loc                         = seispy.coords.as_geographic(\n",
    "    event[['lat', 'lon', 'depth']]\n",
    ").to_spherical()\n",
    "\n",
    "%time event_solver.solve()\n",
    "uui_es = LinearInterpolator3D(event_solver.far_field.pgrid, event_solver.far_field.uu)\n",
    "\n",
    "# event_solver._init_near_field()\n",
    "# station_solver.near_field.solve()"
   ]
  },
  {
   "cell_type": "code",
   "execution_count": 57,
   "metadata": {},
   "outputs": [
    {
     "name": "stdout",
     "output_type": "stream",
     "text": [
      "CPU times: user 12 s, sys: 205 ms, total: 12.2 s\n",
      "Wall time: 12.1 s\n"
     ]
    }
   ],
   "source": [
    "station_solver = TwoStageSolver(coord_sys='spherical')\n",
    "station_solver.far_field.vgrid.min_coords      = rho0, theta0, phi0\n",
    "station_solver.far_field.vgrid.node_intervals  = drho, dtheta, dphi\n",
    "station_solver.far_field.vgrid.npts            = nrho, ntheta, nphi\n",
    "station_solver.far_field.vv                    = np.ones(station_solver.far_field.vgrid.npts)\n",
    "station_solver.src_loc                         = seispy.coords.as_geographic(\n",
    "    station[['lat', 'lon', 'depth']]\n",
    ").to_spherical()\n",
    "\n",
    "%time station_solver.solve()\n",
    "uui_se = LinearInterpolator3D(station_solver.far_field.pgrid, station_solver.far_field.uu)\n",
    "\n",
    "# station_solver._init_near_field()\n",
    "# station_solver.near_field.solve()"
   ]
  },
  {
   "cell_type": "code",
   "execution_count": 58,
   "metadata": {},
   "outputs": [
    {
     "data": {
      "text/plain": [
       "(65.24345544856102, 65.24009319582828)"
      ]
     },
     "execution_count": 58,
     "metadata": {},
     "output_type": "execute_result"
    }
   ],
   "source": [
    "(\n",
    "    uui_es(seispy.coords.as_geographic(station[['lat', 'lon', 'depth']]).to_spherical()),\n",
    "    uui_se(seispy.coords.as_geographic(event[['lat', 'lon', 'depth']]).to_spherical())\n",
    ")"
   ]
  },
  {
   "cell_type": "code",
   "execution_count": 59,
   "metadata": {},
   "outputs": [
    {
     "data": {
      "application/vnd.jupyter.widget-view+json": {
       "model_id": "18a307dc999042749eabc429ebc4c68a",
       "version_major": 2,
       "version_minor": 0
      },
      "text/plain": [
       "Canvas(toolbar=Toolbar(toolitems=[('Home', 'Reset original view', 'home', 'home'), ('Back', 'Back to previous …"
      ]
     },
     "metadata": {},
     "output_type": "display_data"
    },
    {
     "data": {
      "text/plain": [
       "(6261, 6461)"
      ]
     },
     "execution_count": 59,
     "metadata": {},
     "output_type": "execute_result"
    }
   ],
   "source": [
    "solver = event_solver\n",
    "\n",
    "nodes = seispy.coords.as_spherical(solver.far_field.pgrid.nodes).to_cartesian()\n",
    "src   = seispy.coords.as_spherical(solver.src_loc).to_cartesian()\n",
    "err = np.sqrt(np.sum(np.square(nodes-src), axis=-1)) - solver.far_field.uu\n",
    "nodes = nodes.rotate(phi0 + dphi*nphi/2, theta0 + dtheta*ntheta/2, 0)\n",
    "\n",
    "event_nf   = seispy.coords.as_spherical(\n",
    "    transform.sph2sph(\n",
    "        solver.near_field.pgrid.nodes, \n",
    "        solver.src_loc\n",
    "    )\n",
    ").to_cartesian(\n",
    ").rotate(\n",
    "   phi0 + dphi*nphi/2, theta0 + dtheta*ntheta/2, 0\n",
    ")\n",
    "\n",
    "station_nf   = seispy.coords.as_spherical(\n",
    "    transform.sph2sph(\n",
    "        station_solver.near_field.pgrid.nodes, \n",
    "        station_solver.src_loc\n",
    "    )\n",
    ").to_cartesian(\n",
    ").rotate(\n",
    "   phi0 + dphi*nphi/2, theta0 + dtheta*ntheta/2, 0\n",
    ")\n",
    "\n",
    "\n",
    "plt.close('all')\n",
    "fig = plt.figure()\n",
    "ax  = fig.add_subplot(1, 1, 1, projection='3d')\n",
    "i1, i2, i3 = slice(None,None,2), slice(None,None,2), slice(None,None,2)\n",
    "ax.scatter(\n",
    "    nodes[i1,i2,i3,0].flatten(), \n",
    "    nodes[i1,i2,i3,1].flatten(),\n",
    "    nodes[i1,i2,i3,2].flatten(),\n",
    "    s=1\n",
    ")\n",
    "ax.scatter(\n",
    "    event_nf[i1,i2,i3,0].flatten(), \n",
    "    event_nf[i1,i2,i3,1].flatten(),\n",
    "    event_nf[i1,i2,i3,2].flatten(),\n",
    "    s=1\n",
    ")\n",
    "ax.scatter(\n",
    "    station_nf[i1,i2,i3,0].flatten(), \n",
    "    station_nf[i1,i2,i3,1].flatten(),\n",
    "    station_nf[i1,i2,i3,2].flatten(),\n",
    "    s=1\n",
    ")\n",
    "ax.set_zlim(6261, 6461)"
   ]
  },
  {
   "cell_type": "markdown",
   "metadata": {},
   "source": [
    "# END TEST"
   ]
  },
  {
   "cell_type": "markdown",
   "metadata": {},
   "source": [
    "### Plot traveltime field"
   ]
  },
  {
   "cell_type": "code",
   "execution_count": null,
   "metadata": {},
   "outputs": [],
   "source": [
    "nodes   = solver_p.near_field.pgrid.mesh\n",
    "xx_near = nodes[...,0] * np.sin(nodes[...,1]) * np.cos(nodes[...,2])\n",
    "yy_near = nodes[...,0] * np.sin(nodes[...,1]) * np.sin(nodes[...,2])\n",
    "zz_near = nodes[...,0] * np.cos(nodes[...,1])\n",
    "\n",
    "nodes   = solver_p.far_field.pgrid.mesh\n",
    "xx_far  = nodes[...,0] * np.sin(nodes[...,1]) * np.cos(nodes[...,2])\n",
    "yy_far  = nodes[...,0] * np.sin(nodes[...,1]) * np.sin(nodes[...,2])\n",
    "zz_far  = nodes[...,0] * np.cos(nodes[...,1])\n",
    "\n",
    "\n",
    "plt.close('all')\n",
    "fig = plt.figure()\n",
    "ax  = fig.add_subplot(1, 1, 1, projection='3d')\n",
    "# ax.scatter(\n",
    "#     xx_far.flatten(), yy_far.flatten(), zz_far.flatten(),\n",
    "#     c=solver_p.far_field.uu.flatten(),\n",
    "#     cmap=plt.get_cmap('jet_r')\n",
    "# )\n",
    "ax.scatter(\n",
    "    xx_near.flatten(), yy_near.flatten(), zz_near.flatten(),\n",
    "    c=solver_p.near_field.uu.flatten(),\n",
    "    cmap=plt.get_cmap('jet_r'),\n",
    "    s=1\n",
    ")"
   ]
  },
  {
   "cell_type": "markdown",
   "metadata": {},
   "source": [
    "# Real data"
   ]
  },
  {
   "cell_type": "markdown",
   "metadata": {},
   "source": [
    "Read velocity model"
   ]
  },
  {
   "cell_type": "code",
   "execution_count": null,
   "metadata": {},
   "outputs": [],
   "source": [
    "vmod = seispy.velocity.VelocityModel(VMODEL_PATH, fmt='npz')"
   ]
  },
  {
   "cell_type": "markdown",
   "metadata": {},
   "source": [
    "Read network geometry"
   ]
  },
  {
   "cell_type": "code",
   "execution_count": null,
   "metadata": {},
   "outputs": [],
   "source": [
    "db = seispy.pandas.catalog.Catalog(DB_PATH, fmt='hdf5', tables=['site'])"
   ]
  },
  {
   "cell_type": "code",
   "execution_count": null,
   "metadata": {},
   "outputs": [],
   "source": [
    "solver_p = TwoStageSolver()\n",
    "solver_p.far_field.vgrid.min_coords      = vmod.rho0, vmod.theta0, vmod.phi0\n",
    "solver_p.far_field.vgrid.node_intervals  = vmod.drho, vmod.dtheta, vmod.dphi\n",
    "solver_p.far_field.vgrid.npts            = vmod.nrho, vmod.ntheta, vmod.nphi\n",
    "solver_p.far_field.vv                    = vmod._vp"
   ]
  },
  {
   "cell_type": "code",
   "execution_count": null,
   "metadata": {},
   "outputs": [],
   "source": [
    "%time solver_p.solve()"
   ]
  },
  {
   "cell_type": "code",
   "execution_count": null,
   "metadata": {},
   "outputs": [],
   "source": [
    "np.savez('/Users/malcolmwhite/Desktop/test.npz', uu=solver_p.far_field.uu)"
   ]
  },
  {
   "cell_type": "code",
   "execution_count": null,
   "metadata": {},
   "outputs": [],
   "source": [
    "ir, it, ip = slice(None), slice(None), 0"
   ]
  },
  {
   "cell_type": "code",
   "execution_count": null,
   "metadata": {},
   "outputs": [],
   "source": [
    "ir, it, ip = slice(None), slice(None), 0\n",
    "\n",
    "nodes = solver_p.far_field.pgrid.mesh\n",
    "nodes_x = nodes[...,0] * np.sin(nodes[...,1]) * np.cos(nodes[...,2])\n",
    "nodes_y = nodes[...,0] * np.sin(nodes[...,1]) * np.sin(nodes[...,2])\n",
    "nodes_z = nodes[...,0] * np.cos(nodes[...,1])\n",
    "\n",
    "fig = plt.figure()\n",
    "ax  = fig.add_subplot(1, 1, 1)\n",
    "ax.pcolormesh(\n",
    "    nodes_y[ir, it, ip],\n",
    "    nodes_z[ir, it, ip],\n",
    "    solver_p.far_field.uu[ir, it, ip],\n",
    "    cmap=plt.get_cmap('jet_r'),\n",
    "    shading='gouraud'\n",
    ")"
   ]
  },
  {
   "cell_type": "code",
   "execution_count": null,
   "metadata": {},
   "outputs": [],
   "source": [
    "solver_p.far_field.uu[ir, it, ip].shape"
   ]
  },
  {
   "cell_type": "code",
   "execution_count": null,
   "metadata": {},
   "outputs": [],
   "source": [
    "%time solver_p.near_field.solve()"
   ]
  },
  {
   "cell_type": "code",
   "execution_count": null,
   "metadata": {},
   "outputs": [],
   "source": [
    "solver_p.near_field.uu"
   ]
  },
  {
   "cell_type": "code",
   "execution_count": null,
   "metadata": {},
   "outputs": [],
   "source": [
    "solver_p.src_loc = 6365, 0.98, -2.03"
   ]
  },
  {
   "cell_type": "code",
   "execution_count": null,
   "metadata": {},
   "outputs": [],
   "source": [
    "solver_p.src_loc"
   ]
  }
 ],
 "metadata": {
  "kernelspec": {
   "display_name": "Python [conda env:py37]",
   "language": "python",
   "name": "conda-env-py37-py"
  },
  "language_info": {
   "codemirror_mode": {
    "name": "ipython",
    "version": 3
   },
   "file_extension": ".py",
   "mimetype": "text/x-python",
   "name": "python",
   "nbconvert_exporter": "python",
   "pygments_lexer": "ipython3",
   "version": "3.7.3"
  }
 },
 "nbformat": 4,
 "nbformat_minor": 4
}
