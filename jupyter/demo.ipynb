{
 "cells": [
  {
   "cell_type": "markdown",
   "metadata": {},
   "source": [
    "# Example notebook using the Pykonal solver for the 3D Eikonal equation"
   ]
  },
  {
   "cell_type": "markdown",
   "metadata": {},
   "source": [
    "### Import modules"
   ]
  },
  {
   "cell_type": "code",
   "execution_count": null,
   "metadata": {},
   "outputs": [],
   "source": [
    "%matplotlib ipympl\n",
    "import matplotlib.gridspec\n",
    "import matplotlib.pyplot as plt\n",
    "import numpy as np\n",
    "import pykonal"
   ]
  },
  {
   "cell_type": "markdown",
   "metadata": {},
   "source": [
    "### Define function to plot results"
   ]
  },
  {
   "cell_type": "code",
   "execution_count": null,
   "metadata": {},
   "outputs": [],
   "source": [
    "def tt_head(xs, ys, zs, xr, yr, zr, y1, v1, v2):\n",
    "    theta = np.arcsin(v1/v2)\n",
    "    l1    = (y1 - ys) / np.cos(theta)\n",
    "    l2    = np.sqrt((xr-xs)**2 + (zr-zs)**2) - np.tan(theta) * (2 * y1 - ys - yr)\n",
    "    l3    = (y1 - yr) / np.cos(theta)\n",
    "    return ((l1 + l3) / v1 + l2 / v2)\n",
    "\n",
    "def tt_direct(xs, ys, zs, xr, yr, zr, v1):\n",
    "    return (np.sqrt((xr-xs)**2 + (yr-ys)**2 + (zr-zs)**2) / v1)\n",
    "\n",
    "def plot(solver, ix=None, iy=None, iz=None, attr='uu', rays=None, cbar_label='Travel-time [s]'):\n",
    "    if ix is None:\n",
    "        ix = int(solver.pgrid.npts[0] / 2)\n",
    "    if iy is None:\n",
    "        iy = int(solver.pgrid.npts[1] / 2)\n",
    "    if iz is None:\n",
    "        iz = int(solver.pgrid.npts[2] / 2)\n",
    "    data = getattr(solver, attr)\n",
    "    data_xy = data[:, :, iz]\n",
    "    data_xz = data[:, iy, :]\n",
    "    data_yz = data[ix, :, :]\n",
    "    vmin = np.min(np.concatenate([data_xy.flatten(), data_xz.flatten(), data_yz.flatten()]))\n",
    "    vmax = np.max(np.concatenate([data_xy.flatten(), data_xz.flatten(), data_yz.flatten()]))\n",
    "    dx, dy, dz = solver.pgrid.max_coords - solver.pgrid.min_coords\n",
    "    dmax = np.max([dx, dy, dz])\n",
    "    aspect = (dx + dy) / (dz + dy)\n",
    "    gs = matplotlib.gridspec.GridSpec(2, 2,\n",
    "                           width_ratios=[dx/dmax, dy/dmax],\n",
    "                           height_ratios=[dz/dmax, dy/dmax]\n",
    "                           )\n",
    "    fig = plt.figure(figsize=(aspect*8+0.3, aspect*8))\n",
    "    ax1 = plt.subplot(gs[0], aspect=1)\n",
    "    ax2 = plt.subplot(gs[1], aspect=1)\n",
    "    ax3 = plt.subplot(gs[2], aspect=1)\n",
    "    \n",
    "    gs = matplotlib.gridspec.GridSpecFromSubplotSpec(2, 1, subplot_spec=gs[3], height_ratios=[1, 10])\n",
    "    cax = plt.subplot(gs[0])\n",
    "\n",
    "    kwargs = dict(\n",
    "        cmap=plt.get_cmap('jet_r'),\n",
    "        vmin=vmin,\n",
    "        vmax=vmax\n",
    "    )\n",
    "    qmesh = ax1.pcolormesh(solver.pgrid[:, iy, :, 0], solver.pgrid[:, iy, :, 2], data_xz, **kwargs)\n",
    "    ax1.axhline(solver.pgrid[0, 0, iz, 2], color='w')\n",
    "    ax1.axvline(solver.pgrid[ix, 0, 0, 0], color='w')\n",
    "    if rays is not None:\n",
    "        for ray in rays:\n",
    "            ax1.plot(ray[:, 0], ray[:, 2], 'k--')\n",
    "    ax1.xaxis.tick_top()\n",
    "    ax1.xaxis.set_label_position('top')\n",
    "    ax1.set_xlabel('X')\n",
    "    ax1.set_ylabel('Z')\n",
    "\n",
    "    ax2.pcolormesh(solver.pgrid[ix, :, :, 1], solver.pgrid[ix, :, :, 2], data_yz, **kwargs)\n",
    "    ax2.axvline(solver.pgrid[0, iy, 0, 1], color='w')\n",
    "    if rays is not None:\n",
    "        for ray in rays:\n",
    "            ax2.plot(ray[:, 1], ray[:, 2], 'k--')\n",
    "    ax2.xaxis.tick_top()\n",
    "    ax2.xaxis.set_label_position('top')\n",
    "    ax2.yaxis.tick_right()\n",
    "    ax2.yaxis.set_label_position('right')\n",
    "    ax2.set_xlabel('Y')\n",
    "    ax2.set_ylabel('Z')\n",
    "\n",
    "    qmesh = ax3.pcolormesh(solver.pgrid[:, :, iz, 0], solver.pgrid[:, :, iz, 1], data_xy, **kwargs)\n",
    "    ax3.axhline(solver.pgrid[0, iy, 0, 1], color='w')\n",
    "    if rays is not None:\n",
    "        for ray in rays:\n",
    "            ax3.plot(ray[:, 0], ray[:, 1], 'k--')\n",
    "    ax3.invert_yaxis()\n",
    "    ax3.set_xlabel('X')\n",
    "    ax3.set_ylabel('Y')\n",
    "    \n",
    "    cbar = fig.colorbar(qmesh, cax=cax, orientation='horizontal')\n",
    "    cbar.set_label(cbar_label)\n",
    "\n",
    "    fig.tight_layout()"
   ]
  },
  {
   "cell_type": "code",
   "execution_count": null,
   "metadata": {},
   "outputs": [],
   "source": [
    "solver = pykonal.EikonalSolver()\n",
    "solver.vgrid.min_coords     = 0, 0, 0\n",
    "solver.vgrid.node_intervals = 1, 1, 1\n",
    "solver.vgrid.npts           = 11, 11, 11\n",
    "solver.pgrid.min_coords     = solver.vgrid.min_coords\n",
    "solver.pgrid.node_intervals = solver.vgrid.node_intervals\n",
    "solver.pgrid.npts           = solver.vgrid.npts\n",
    "solver.vv                   = np.ones(solver.vgrid.npts)\n",
    "src = (0, 0, 0)\n",
    "solver.add_source(src)\n",
    "solver.solve()"
   ]
  },
  {
   "cell_type": "code",
   "execution_count": null,
   "metadata": {},
   "outputs": [],
   "source": [
    "plt.close('all')\n",
    "plot(solver)"
   ]
  },
  {
   "cell_type": "code",
   "execution_count": null,
   "metadata": {},
   "outputs": [],
   "source": [
    "solver.pgrid.min_coords     = solver.vgrid.min_coords\n",
    "solver.pgrid.node_intervals = solver.vgrid.node_intervals / 2\n",
    "solver.pgrid.npts           = solver.vgrid.npts * 2 - 1\n",
    "solver.solve()\n",
    "plot(solver)"
   ]
  },
  {
   "cell_type": "code",
   "execution_count": null,
   "metadata": {},
   "outputs": [],
   "source": [
    "solver.pgrid.min_coords     = solver.vgrid.min_coords\n",
    "solver.pgrid.node_intervals = solver.vgrid.node_intervals / 4\n",
    "solver.pgrid.npts           = solver.vgrid.npts * 4 - 5\n",
    "solver.solve()\n",
    "plot(solver)"
   ]
  },
  {
   "cell_type": "code",
   "execution_count": null,
   "metadata": {},
   "outputs": [],
   "source": []
  }
 ],
 "metadata": {
  "kernelspec": {
   "display_name": "Python [conda env:py37]",
   "language": "python",
   "name": "conda-env-py37-py"
  },
  "language_info": {
   "codemirror_mode": {
    "name": "ipython",
    "version": 3
   },
   "file_extension": ".py",
   "mimetype": "text/x-python",
   "name": "python",
   "nbconvert_exporter": "python",
   "pygments_lexer": "ipython3",
   "version": "3.7.3"
  }
 },
 "nbformat": 4,
 "nbformat_minor": 2
}
