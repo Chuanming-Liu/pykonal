{
 "cells": [
  {
   "cell_type": "markdown",
   "metadata": {},
   "source": [
    "# Example notebook using the Pykonal solver for the 3D Eikonal equation"
   ]
  },
  {
   "cell_type": "markdown",
   "metadata": {},
   "source": [
    "### Import modules"
   ]
  },
  {
   "cell_type": "code",
   "execution_count": null,
   "metadata": {},
   "outputs": [],
   "source": [
    "%matplotlib ipympl\n",
    "import matplotlib.gridspec\n",
    "import matplotlib.pyplot as plt\n",
    "import numpy as np\n",
    "import pykonal"
   ]
  },
  {
   "cell_type": "markdown",
   "metadata": {},
   "source": [
    "### Define function to plot results"
   ]
  },
  {
   "cell_type": "code",
   "execution_count": null,
   "metadata": {},
   "outputs": [],
   "source": [
    "def plot(solver, ix=None, iy=None, iz=None, attr='uu', rays=None, cbar_label='Travel-time [s]'):\n",
    "    grid                = pykonal.GridND(ndim=3)\n",
    "    grid.min_coords     = solver.pgrid.min_coords\n",
    "    grid.node_intervals = solver.pgrid.node_intervals\n",
    "    grid.npts           = solver.pgrid.npts + 1\n",
    "    if ix is None:\n",
    "        ix = int(grid.npts[0] / 2) - 1\n",
    "    if iy is None:\n",
    "        iy = int(grid.npts[1] / 2) - 1\n",
    "    if iz is None:\n",
    "        iz = int(grid.npts[2] / 2) - 1\n",
    "    data = getattr(solver, attr)\n",
    "    data_xy = data[:, :, iz]\n",
    "    data_xz = data[:, iy, :]\n",
    "    data_yz = data[ix, :, :]\n",
    "    vmin = np.min(np.concatenate([data_xy.flatten(), data_xz.flatten(), data_yz.flatten()]))\n",
    "    vmax = np.max(np.concatenate([data_xy.flatten(), data_xz.flatten(), data_yz.flatten()]))\n",
    "    dx, dy, dz = grid.max_coords - grid.min_coords\n",
    "    dmax = np.max([dx, dy, dz])\n",
    "    aspect = (dx + dy) / (dz + dy)\n",
    "    gs = matplotlib.gridspec.GridSpec(2, 2,\n",
    "                           width_ratios=[dx/dmax, dy/dmax],\n",
    "                           height_ratios=[dz/dmax, dy/dmax]\n",
    "                           )\n",
    "    fig = plt.figure(figsize=(aspect*8+0.3, aspect*8))\n",
    "    ax1 = plt.subplot(gs[0], aspect=1)\n",
    "    ax2 = plt.subplot(gs[1], aspect=1)\n",
    "    ax3 = plt.subplot(gs[2], aspect=1)\n",
    "    \n",
    "    gs = matplotlib.gridspec.GridSpecFromSubplotSpec(2, 1, subplot_spec=gs[3], height_ratios=[1, 10])\n",
    "    cax = plt.subplot(gs[0])\n",
    "\n",
    "    kwargs = dict(\n",
    "        cmap=plt.get_cmap('jet_r'),\n",
    "        vmin=vmin,\n",
    "        vmax=vmax\n",
    "    )\n",
    "    qmesh = ax1.pcolormesh(\n",
    "        grid[:, iy, :, 0] - grid.node_intervals[0] / 2, \n",
    "        grid[:, iy, :, 2] - grid.node_intervals[2] / 2,\n",
    "        data_xz, \n",
    "        **kwargs\n",
    "    )\n",
    "    ax1.axhline(grid[0, 0, iz, 2], color='w')\n",
    "    ax1.axvline(grid[ix, 0, 0, 0], color='w')\n",
    "    if rays is not None:\n",
    "        for ray in rays:\n",
    "            ax1.plot(ray[:, 0], ray[:, 2], 'k--')\n",
    "    ax1.xaxis.tick_top()\n",
    "    ax1.xaxis.set_label_position('top')\n",
    "    ax1.set_xlabel('X')\n",
    "    ax1.set_ylabel('Z')\n",
    "\n",
    "    ax2.pcolormesh(\n",
    "        grid[ix, :, :, 1] - grid.node_intervals[1] / 2, \n",
    "        grid[ix, :, :, 2] - grid.node_intervals[2] / 2,\n",
    "        data_yz, \n",
    "        **kwargs\n",
    "    )\n",
    "    ax2.axvline(grid[0, iy, 0, 1], color='w')\n",
    "    if rays is not None:\n",
    "        for ray in rays:\n",
    "            ax2.plot(ray[:, 1], ray[:, 2], 'k--')\n",
    "    ax2.xaxis.tick_top()\n",
    "    ax2.xaxis.set_label_position('top')\n",
    "    ax2.yaxis.tick_right()\n",
    "    ax2.yaxis.set_label_position('right')\n",
    "    ax2.set_xlabel('Y')\n",
    "    ax2.set_ylabel('Z')\n",
    "\n",
    "    qmesh = ax3.pcolormesh(\n",
    "        grid[:, :, iz, 0] - grid.node_intervals[0] / 2, \n",
    "        grid[:, :, iz, 1] - grid.node_intervals[1] / 2, \n",
    "        data_xy, \n",
    "        **kwargs\n",
    "    )\n",
    "    ax3.axhline(grid[0, iy, 0, 1], color='w')\n",
    "    if rays is not None:\n",
    "        for ray in rays:\n",
    "            ax3.plot(ray[:, 0], ray[:, 1], 'k--')\n",
    "    ax3.invert_yaxis()\n",
    "    ax3.set_xlabel('X')\n",
    "    ax3.set_ylabel('Y')\n",
    "    \n",
    "    cbar = fig.colorbar(qmesh, cax=cax, orientation='horizontal')\n",
    "    cbar.set_label(cbar_label)\n",
    "\n",
    "    fig.tight_layout()"
   ]
  },
  {
   "cell_type": "markdown",
   "metadata": {},
   "source": [
    "### Define function to instantiate EikonalSolver with uniform velocity model"
   ]
  },
  {
   "cell_type": "code",
   "execution_count": null,
   "metadata": {},
   "outputs": [],
   "source": [
    "def init_solver():\n",
    "    # Initialize the solver\n",
    "    solver = pykonal.EikonalSolver()\n",
    "\n",
    "    # Initialize the velocity grid with a uniform velocity model.\n",
    "    # EikonalSolver.vgrid.min_coords specifies the minimum coordinates of the velocity grid\n",
    "    solver.vgrid.min_coords     = 0, 0, 0    # xmin, ymin, zmin\n",
    "    # EikonalSolver.vgrid.node_intervals specifies the spacing between velocity grid nodes\n",
    "    solver.vgrid.node_intervals = 1, 1, 1    # dx, dy, dz\n",
    "    # EikonalSolver.vgrid.npts specifies the number of grid nodes along each axis\n",
    "    solver.vgrid.npts           = 11, 11, 11 # nx, ny, nz\n",
    "    # EikonalSolver.vv holds the velocity at each grid node and should be a numpy.ndarray\n",
    "    # with shape == EikonalSolver.vgrid.npts.\n",
    "    solver.vv                   = np.ones(solver.vgrid.npts)\n",
    "    return (solver)"
   ]
  },
  {
   "cell_type": "markdown",
   "metadata": {},
   "source": [
    "## Simplest case"
   ]
  },
  {
   "cell_type": "code",
   "execution_count": null,
   "metadata": {},
   "outputs": [],
   "source": [
    "# Initialize the solver\n",
    "solver = init_solver()\n",
    "\n",
    "# Add a source in the center of the computational domain.\n",
    "src_idx = (5, 5, 5)            # The source location as an array index\n",
    "solver.uu[src_idx]     = 0     # Set the traveltime at the source location to zero\n",
    "solver.is_far[src_idx] = False # Set the is_far flag to False for the source node\n",
    "solver.close.push(*src_idx)    # Push the source index onto the close heap\n",
    "\n",
    "# Solve the Eikonal equation.\n",
    "solver.solve()\n",
    "\n",
    "# Plot the resulting travel-time field.\n",
    "plot(solver)"
   ]
  },
  {
   "cell_type": "markdown",
   "metadata": {},
   "source": [
    "## The propagation grid does not have to coincide with the velocity grid\n",
    "You may want to make it denser for more accurate solutions. Just make sure the boundaries of the propagation grid fall within the boundaries of the velocity grid, otherwise the EikonalSolver will raise an *OutOfBoundsError* because it needs to interpolate the velocity at each node of the propagation grid."
   ]
  },
  {
   "cell_type": "code",
   "execution_count": null,
   "metadata": {},
   "outputs": [],
   "source": [
    "# Initialize the solver\n",
    "solver = init_solver()\n",
    "# Decrease the node interval by a factor of 2\n",
    "solver.pgrid.node_intervals = solver.vgrid.node_intervals / 2\n",
    "# And increase the number of points by a factor of 2, making sure to not go beyond the\n",
    "# boundaries of the velocity grid\n",
    "solver.pgrid.npts           = solver.vgrid.npts * 2 - 1\n",
    "\n",
    "\n",
    "# Add a source in the center of the computational domain.\n",
    "src_idx = (10, 10, 10)            # The source location as an array index\n",
    "solver.uu[src_idx]     = 0     # Set the traveltime at the source location to zero\n",
    "solver.is_far[src_idx] = False # Set the is_far flag to False for the source node\n",
    "solver.close.push(*src_idx)    # Push the source index onto the close heap\n",
    "\n",
    "# Solve the Eikonal equation again.\n",
    "solver.solve()\n",
    "\n",
    "# And plot the results.\n",
    "plot(solver)"
   ]
  },
  {
   "cell_type": "markdown",
   "metadata": {},
   "source": [
    "## There is no real limit to how dense you can make the propagation grid...\n",
    "...if you're willing to be patient."
   ]
  },
  {
   "cell_type": "code",
   "execution_count": null,
   "metadata": {},
   "outputs": [],
   "source": [
    "solver = init_solver()\n",
    "solver.pgrid.node_intervals = solver.vgrid.node_intervals / 10\n",
    "solver.pgrid.npts           = solver.vgrid.npts * 10 - 9\n",
    "\n",
    "# Add a source in the center of the computational domain.\n",
    "src_idx = (50, 50, 50)            # The source location as an array index\n",
    "solver.uu[src_idx]     = 0     # Set the traveltime at the source location to zero\n",
    "solver.is_far[src_idx] = False # Set the is_far flag to False for the source node\n",
    "solver.close.push(*src_idx)    # Push the source index onto the close heap\n",
    "\n",
    "solver.solve()\n",
    "plot(solver)"
   ]
  },
  {
   "cell_type": "markdown",
   "metadata": {},
   "source": [
    "## And you can move the source if you would like"
   ]
  },
  {
   "cell_type": "code",
   "execution_count": null,
   "metadata": {},
   "outputs": [],
   "source": [
    "solver = init_solver()\n",
    "solver.pgrid.node_intervals = solver.vgrid.node_intervals / 10\n",
    "solver.pgrid.npts           = solver.vgrid.npts * 10 - 9\n",
    "\n",
    "src_idx = (25, 50, 75)            # The source location as an array index\n",
    "solver.uu[src_idx]     = 0     # Set the traveltime at the source location to zero\n",
    "solver.is_far[src_idx] = False # Set the is_far flag to False for the source node\n",
    "solver.close.push(*src_idx)    # Push the source index onto the close heap\n",
    "\n",
    "solver.solve()\n",
    "plot(solver)"
   ]
  },
  {
   "cell_type": "markdown",
   "metadata": {},
   "source": [
    "## Or add multiple sources"
   ]
  },
  {
   "cell_type": "code",
   "execution_count": null,
   "metadata": {},
   "outputs": [],
   "source": [
    "solver = init_solver()\n",
    "solver.pgrid.node_intervals = solver.vgrid.node_intervals / 10\n",
    "solver.pgrid.npts           = solver.vgrid.npts * 10 - 9\n",
    "\n",
    "for src_idx in ((25, 50, 75), (75, 50, 25)):\n",
    "    solver.uu[src_idx]     = 0     # Set the traveltime at the source location to zero\n",
    "    solver.is_far[src_idx] = False # Set the is_far flag to False for the source node\n",
    "    solver.close.push(*src_idx)    # Push the source index onto the close heap\n",
    "\n",
    "solver.solve()\n",
    "plot(solver)"
   ]
  },
  {
   "cell_type": "markdown",
   "metadata": {},
   "source": [
    "## And sources at non-zero times"
   ]
  },
  {
   "cell_type": "code",
   "execution_count": null,
   "metadata": {},
   "outputs": [],
   "source": [
    "solver = init_solver()\n",
    "solver.pgrid.node_intervals = solver.vgrid.node_intervals / 10\n",
    "solver.pgrid.npts           = solver.vgrid.npts * 10 - 9\n",
    "\n",
    "for src_idx, t0 in (((25, 50, 75), 0), ((75, 50, 25), 2.5)):\n",
    "    solver.uu[src_idx]     = t0     # Set the traveltime at the source location to t0\n",
    "    solver.is_far[src_idx] = False # Set the is_far flag to False for the source node\n",
    "    solver.close.push(*src_idx)    # Push the source index onto the close heap\n",
    "\n",
    "solver.solve()\n",
    "plot(solver)\n",
    "solver.solve()\n",
    "plot(solver)"
   ]
  },
  {
   "cell_type": "markdown",
   "metadata": {},
   "source": [
    "## You can use more interesting velocity models"
   ]
  },
  {
   "cell_type": "code",
   "execution_count": null,
   "metadata": {},
   "outputs": [],
   "source": [
    "solver = init_solver()\n",
    "\n",
    "vy = np.linspace(1, 5, solver.vgrid.npts[1])\n",
    "for iy in range(len(vy)):\n",
    "    solver.vv[:,iy] = vy[iy]\n",
    "    \n",
    "solver.pgrid.node_intervals = solver.vgrid.node_intervals / 10\n",
    "solver.pgrid.npts           = solver.vgrid.npts * 10 - 9\n",
    "\n",
    "src_idx = (25, 50, 75)\n",
    "solver.uu[src_idx]     = 0     # Set the traveltime at the source location to zero\n",
    "solver.is_far[src_idx] = False # Set the is_far flag to False for the source node\n",
    "solver.close.push(*src_idx)    # Push the source index onto the close heap\n",
    "\n",
    "solver.solve()\n",
    "\n",
    "# This will plot the velocity model\n",
    "plot(solver, attr='vvp', cbar_label='Velocity [km/s]')\n",
    "plot(solver)"
   ]
  },
  {
   "cell_type": "markdown",
   "metadata": {},
   "source": [
    "## And you can trace rays too"
   ]
  },
  {
   "cell_type": "code",
   "execution_count": null,
   "metadata": {},
   "outputs": [],
   "source": [
    "ray = solver.trace_ray((9.5, 0, 9.5))\n",
    "plot(solver,rays=[ray])"
   ]
  },
  {
   "cell_type": "markdown",
   "metadata": {},
   "source": [
    "## Use the pykonal.LinearInterpolator3D class to interpolate the velocity field at arbitrary locations"
   ]
  },
  {
   "cell_type": "code",
   "execution_count": null,
   "metadata": {},
   "outputs": [],
   "source": [
    "ui = pykonal.LinearInterpolator3D(solver.pgrid, solver.uu)\n",
    "ui((4.25, 3.1, 2.98))"
   ]
  },
  {
   "cell_type": "code",
   "execution_count": null,
   "metadata": {},
   "outputs": [],
   "source": []
  }
 ],
 "metadata": {
  "kernelspec": {
   "display_name": "Python [conda env:py37]",
   "language": "python",
   "name": "conda-env-py37-py"
  },
  "language_info": {
   "codemirror_mode": {
    "name": "ipython",
    "version": 3
   },
   "file_extension": ".py",
   "mimetype": "text/x-python",
   "name": "python",
   "nbconvert_exporter": "python",
   "pygments_lexer": "ipython3",
   "version": "3.7.3"
  }
 },
 "nbformat": 4,
 "nbformat_minor": 4
}
