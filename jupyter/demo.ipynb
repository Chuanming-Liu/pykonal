{
 "cells": [
  {
   "cell_type": "markdown",
   "metadata": {},
   "source": [
    "# Example notebook using the Pykonal solver"
   ]
  },
  {
   "cell_type": "markdown",
   "metadata": {},
   "source": [
    "## Import modules"
   ]
  },
  {
   "cell_type": "code",
   "execution_count": null,
   "metadata": {},
   "outputs": [],
   "source": [
    "%matplotlib ipympl\n",
    "import matplotlib.pyplot as plt\n",
    "import numpy as np\n",
    "import pykonal"
   ]
  },
  {
   "cell_type": "markdown",
   "metadata": {},
   "source": [
    "## Define function to plot results"
   ]
  },
  {
   "cell_type": "code",
   "execution_count": null,
   "metadata": {},
   "outputs": [],
   "source": [
    "def plot(vv, uu):\n",
    "    nx, ny = uu.shape\n",
    "    fig = plt.figure(figsize=(9, 4))\n",
    "    ax1 = fig.add_subplot(1, 2, 1)\n",
    "    ax1.set_title('Velocity')\n",
    "    im = ax1.imshow(vv.T)\n",
    "    cbar = fig.colorbar(im, ax=ax1, orientation='horizontal')\n",
    "    cbar.set_label('Velocity [m/s]')\n",
    "    ax2 = fig.add_subplot(1, 2, 2)\n",
    "    ax2.set_title('Travel time')\n",
    "    im = ax2.imshow(uu.T)\n",
    "    cbar = fig.colorbar(im, ax=ax2, orientation='horizontal')\n",
    "    cbar.set_label('Travel time [s]')\n",
    "    for ax in (ax1, ax2):\n",
    "        ax.set_xlim(0, nx-1)\n",
    "        ax.set_ylim(ny-1, 0)"
   ]
  },
  {
   "cell_type": "markdown",
   "metadata": {},
   "source": [
    "## Define extent of computational domain"
   ]
  },
  {
   "cell_type": "code",
   "execution_count": null,
   "metadata": {},
   "outputs": [],
   "source": [
    "nx, ny = 150, 100"
   ]
  },
  {
   "cell_type": "markdown",
   "metadata": {},
   "source": [
    "## Solve the trivial case"
   ]
  },
  {
   "cell_type": "code",
   "execution_count": null,
   "metadata": {},
   "outputs": [],
   "source": [
    "vv = np.ones((nx, ny), dtype=np.float32)\n",
    "uu = pykonal.pykonal(vv)\n",
    "plot(vv, uu)"
   ]
  },
  {
   "cell_type": "markdown",
   "metadata": {},
   "source": [
    "## Solve a slightly more intersting two-layer case"
   ]
  },
  {
   "cell_type": "code",
   "execution_count": null,
   "metadata": {},
   "outputs": [],
   "source": [
    "vv = np.ones((nx, ny), dtype=np.float32)\n",
    "vv[:, 50:] = 3.5\n",
    "uu = pykonal.pykonal(vv)\n",
    "plot(vv, uu)"
   ]
  },
  {
   "cell_type": "markdown",
   "metadata": {},
   "source": [
    "## Solve for a linear-gradient velocity field"
   ]
  },
  {
   "cell_type": "code",
   "execution_count": null,
   "metadata": {},
   "outputs": [],
   "source": [
    "vv = np.ones((nx, ny), dtype=np.float32)\n",
    "vy = np.linspace(1, 5, ny)\n",
    "for iy in range(ny):\n",
    "    vv[:, iy] = vy[iy]\n",
    "uu = pykonal.pykonal(vv)\n",
    "plot(vv, uu)"
   ]
  },
  {
   "cell_type": "markdown",
   "metadata": {},
   "source": [
    "## Solve for a linear-gradient with random noise"
   ]
  },
  {
   "cell_type": "code",
   "execution_count": null,
   "metadata": {},
   "outputs": [],
   "source": [
    "vv = np.ones((nx, ny), dtype=np.float32)\n",
    "vy = np.linspace(1, 5, ny)\n",
    "for iy in range(ny):\n",
    "    vv[:, iy] = vy[iy]\n",
    "vv += np.random.rand(nx, ny)\n",
    "uu = pykonal.pykonal(vv)\n",
    "plot(vv, uu)"
   ]
  },
  {
   "cell_type": "markdown",
   "metadata": {},
   "source": [
    "## Solve for a checkerboard velocty field"
   ]
  },
  {
   "cell_type": "code",
   "execution_count": null,
   "metadata": {},
   "outputs": [],
   "source": [
    "vv = np.ones((nx, ny), dtype=np.float32)\n",
    "vy = 2 + np.sin(np.linspace(0, 10*np.pi, ny))\n",
    "vx = 2 + np.cos(np.linspace(0, 10*np.pi, nx))\n",
    "for ix in range(nx):\n",
    "    vv[ix] = vx[ix] * vy\n",
    "uu = pykonal.pykonal(vv)\n",
    "plot(vv, uu)"
   ]
  }
 ],
 "metadata": {
  "kernelspec": {
   "display_name": "Python [conda env:dummy]",
   "language": "python",
   "name": "conda-env-dummy-py"
  },
  "language_info": {
   "codemirror_mode": {
    "name": "ipython",
    "version": 3
   },
   "file_extension": ".py",
   "mimetype": "text/x-python",
   "name": "python",
   "nbconvert_exporter": "python",
   "pygments_lexer": "ipython3",
   "version": "3.7.3"
  }
 },
 "nbformat": 4,
 "nbformat_minor": 2
}
