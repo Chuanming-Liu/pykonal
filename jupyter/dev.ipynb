{
 "cells": [
  {
   "cell_type": "code",
   "execution_count": null,
   "metadata": {},
   "outputs": [],
   "source": [
    "%matplotlib ipympl\n",
    "\n",
    "from mpl_toolkits.mplot3d import Axes3D\n",
    "import matplotlib.pyplot as plt\n",
    "import numpy as np\n",
    "import os\n",
    "import pykonal\n",
    "import seispy\n",
    "\n",
    "GOOGLE_DRIVE = os.environ['GOOGLE_DRIVE']"
   ]
  },
  {
   "cell_type": "code",
   "execution_count": null,
   "metadata": {},
   "outputs": [],
   "source": [
    "vm = seispy.velocity.VelocityModel(\n",
    "    os.path.join(\n",
    "        GOOGLE_DRIVE,\n",
    "        'malcolm.white@usc.edu',\n",
    "        'data',\n",
    "        'velocity',\n",
    "        'White_et_al_2019a',\n",
    "        'White_et_al_2019a.regular.npz'\n",
    "    ),\n",
    "    fmt='npz'\n",
    ")"
   ]
  },
  {
   "cell_type": "code",
   "execution_count": null,
   "metadata": {},
   "outputs": [],
   "source": [
    "solver = pykonal.EikonalSolver()\n",
    "solver.mode = 'hybrid-spherical'\n",
    "solver.vgrid.min_coords     = 1000, np.pi/2, 0\n",
    "solver.vgrid.node_intervals = 200, np.pi/10, np.pi/40\n",
    "solver.vgrid.npts           = 20, 1, 21\n",
    "solver.vv                   = np.ones(solver.vgrid.npts)\n",
    "# for ir in range(solver.vgrid.npts[0]):\n",
    "#     solver.vv[ir] *= (ir + 1)\n",
    "solver.pgrid.min_coords     = solver.vgrid.min_coords\n",
    "solver.pgrid.node_intervals = solver.vgrid.node_intervals\n",
    "solver.pgrid.npts           = solver.vgrid.npts \n",
    "solver.src_loc              = 3525, np.pi/2, np.pi/6\n",
    "# solver._solve_near_field()\n",
    "solver._solve_hybrid()"
   ]
  },
  {
   "cell_type": "code",
   "execution_count": null,
   "metadata": {},
   "outputs": [],
   "source": [
    "# vmin, vmax = near_field.uu.min(), near_field.uu.max()\n",
    "vmin, vmax = solver.uu.min(), solver.uu.max()\n",
    "\n",
    "vfar    = solver.vgrid[...]\n",
    "xx_far  = vfar[:,:,:,0] * np.sin(vfar[:,:,:,1]) * np.cos(vfar[:,:,:,2])\n",
    "yy_far  = vfar[:,:,:,0] * np.sin(vfar[:,:,:,1]) * np.sin(vfar[:,:,:,2])\n",
    "zz_far  = vfar[:,:,:,0] * np.cos(vfar[:,:,:,1])\n",
    "\n",
    "vnear = solver.near_field.vgrid\n",
    "xx_near = vnear[:,:,:,0] * np.sin(vnear[:,:,:,1]) * np.cos(vnear[:,:,:,2]) + solver.src_xyz[0]\n",
    "yy_near = vnear[:,:,:,0] * np.sin(vnear[:,:,:,1]) * np.sin(vnear[:,:,:,2]) + solver.src_xyz[1]\n",
    "zz_near = vnear[:,:,:,0] * np.cos(vnear[:,:,:,1]) + solver.src_xyz[2]\n",
    "\n",
    "plt.close('all')\n",
    "fig = plt.figure()\n",
    "ax = fig.add_subplot(1, 1, 1, aspect=1)\n",
    "# ax.scatter(\n",
    "#     xx_far, \n",
    "#     yy_far,\n",
    "#     s=20,\n",
    "#     c='w',\n",
    "#     edgecolor='k'\n",
    "# )\n",
    "ax.scatter(\n",
    "    xx_far, \n",
    "    yy_far,\n",
    "    s=20,\n",
    "    c=solver.uu, \n",
    "    cmap=plt.get_cmap('rainbow'),\n",
    "    edgecolor='k',\n",
    "    vmin=vmin,\n",
    "    vmax=vmax\n",
    ")\n",
    "# ax.scatter(\n",
    "#     xx_near, \n",
    "#     yy_near,\n",
    "#     s=5,\n",
    "#     c=near_field.uu,\n",
    "#     cmap=plt.get_cmap('jet_r'),\n",
    "#     vmin=vmin,\n",
    "#     vmax=vmax\n",
    "# )\n",
    "ax.scatter(solver.src_xyz[0], solver.src_xyz[1], marker='*', c='r', edgecolor='k', s=200)"
   ]
  },
  {
   "cell_type": "code",
   "execution_count": null,
   "metadata": {},
   "outputs": [],
   "source": [
    "solver.norm.shape"
   ]
  },
  {
   "cell_type": "code",
   "execution_count": null,
   "metadata": {},
   "outputs": [],
   "source": [
    "solver = pykonal.EikonalSolver()\n",
    "solver.mode = 'hybrid-cartesian'\n",
    "solver.vgrid.min_coords     = 0, 0, 0\n",
    "solver.vgrid.node_intervals = 1, 1, 1\n",
    "solver.vgrid.npts           = 100, 100, 50\n",
    "solver.vv                   = np.ones(solver.vgrid.npts)\n",
    "solver.src_loc              = 50, 50, 25\n",
    "solver.solve()\n",
    "src_solver                  = solver.src_solver\n",
    "\n",
    "uu0 = np.sqrt(np.sum(np.square(solver.pgrid[...] - solver.src_loc), axis=-1))\n",
    "# np.any(np.isnan(solver.uu)), np.any(np.isinf(solver.uu))"
   ]
  },
  {
   "cell_type": "code",
   "execution_count": null,
   "metadata": {},
   "outputs": [],
   "source": [
    "vmin, vmax = -0.2, 0.2\n",
    "plt.close('all')\n",
    "fig = plt.figure()\n",
    "ax = fig.add_subplot(1, 1, 1, aspect=1)\n",
    "\n",
    "xx = src_solver.pgrid[..., 0] * np.sin(src_solver.pgrid[..., 1]) * np.cos(src_solver.pgrid[..., 2]) + solver.src_loc[0]\n",
    "yy = src_solver.pgrid[..., 0] * np.sin(src_solver.pgrid[..., 1]) * np.sin(src_solver.pgrid[..., 2]) + solver.src_loc[1]\n",
    "zz = src_solver.pgrid[..., 0] * np.cos(src_solver.pgrid[..., 1]) + solver.src_loc[2]\n",
    "uu0 = np.sqrt(np.square(xx-solver.src_loc[0]) + np.square(yy-solver.src_loc[1]) + np.square(zz-solver.src_loc[2]))\n",
    "# qmesh = ax.pcolormesh(xx[:,0,:], yy[:,0,:], \n",
    "#     (src_solver.uu[:,0,:]-uu0[:,0,:])/uu0[:,0,:],\n",
    "#     vmin=vmin,\n",
    "#     vmax=vmax,\n",
    "#     cmap=plt.get_cmap('jet_r')\n",
    "# )\n",
    "\n",
    "xx = solver.pgrid[..., 0]\n",
    "yy = solver.pgrid[..., 1]\n",
    "zz = solver.pgrid[..., 2]\n",
    "\n",
    "uu0 = np.sqrt(np.square(xx-solver.src_loc[0]) + np.square(yy-solver.src_loc[1]) + np.square(zz-solver.src_loc[2]))\n",
    "qmesh = ax.pcolormesh(xx[:,:,0], yy[:,:,0],\n",
    "    ((solver.uu[:,:,0]-uu0[:,:,0])/uu0[:,:,0])*100,\n",
    "    vmin=vmin,\n",
    "    vmax=vmax,\n",
    "    cmap=plt.get_cmap('jet_r')\n",
    ")\n",
    "ax.scatter(solver.src_loc[0], solver.src_loc[1], marker='x', color='k')\n",
    "\n",
    "cbar = fig.colorbar(qmesh, ax=ax)"
   ]
  },
  {
   "cell_type": "code",
   "execution_count": null,
   "metadata": {},
   "outputs": [],
   "source": [
    "vmin, vmax = 0, np.max(np.abs(solver.uu))\n",
    "\n",
    "plt.close('all')\n",
    "fig = plt.figure()\n",
    "ax = fig.add_subplot(1, 1, 1, aspect=1)\n",
    "\n",
    "xx = solver.pgrid[..., 0]\n",
    "yy = solver.pgrid[..., 1]\n",
    "zz = solver.pgrid[..., 2]\n",
    "qmesh = ax.pcolormesh(\n",
    "    xx[:,:,0]-solver.pgrid.node_intervals[0]/2, \n",
    "    yy[:,:,0]-solver.pgrid.node_intervals[1]/2,\n",
    "    solver.uu[:,:,0],\n",
    "    vmin=vmin,\n",
    "    vmax=vmax,\n",
    "    cmap=plt.get_cmap('jet_r'),\n",
    ")\n",
    "\n",
    "xx = src_solver.pgrid[..., 0] * np.sin(src_solver.pgrid[..., 1]) * np.cos(src_solver.pgrid[..., 2]) + solver.src_loc[0]\n",
    "yy = src_solver.pgrid[..., 0] * np.sin(src_solver.pgrid[..., 1]) * np.sin(src_solver.pgrid[..., 2]) + solver.src_loc[1]\n",
    "zz = src_solver.pgrid[..., 0] * np.cos(src_solver.pgrid[..., 1]) + solver.src_loc[2]\n",
    "qmesh = ax.scatter(xx[:,0,:], yy[:,0,:], \n",
    "    c=src_solver.uu[:,0,:],\n",
    "    vmin=vmin,\n",
    "    vmax=vmax,\n",
    "    cmap=plt.get_cmap('jet_r'),\n",
    "    edgecolor='k'\n",
    ")\n",
    "\n",
    "cbar = fig.colorbar(qmesh, ax=ax)"
   ]
  },
  {
   "cell_type": "code",
   "execution_count": null,
   "metadata": {},
   "outputs": [],
   "source": [
    "img = itk.GetImageFromArray(solver.uu)"
   ]
  },
  {
   "cell_type": "code",
   "execution_count": null,
   "metadata": {},
   "outputs": [],
   "source": [
    "image = itk.imread(file_name)\n",
    "view(img)"
   ]
  },
  {
   "cell_type": "code",
   "execution_count": null,
   "metadata": {},
   "outputs": [],
   "source": [
    "solver.uu.max()"
   ]
  },
  {
   "cell_type": "code",
   "execution_count": null,
   "metadata": {},
   "outputs": [],
   "source": []
  }
 ],
 "metadata": {
  "kernelspec": {
   "display_name": "Python [conda env:py37]",
   "language": "python",
   "name": "conda-env-py37-py"
  },
  "language_info": {
   "codemirror_mode": {
    "name": "ipython",
    "version": 3
   },
   "file_extension": ".py",
   "mimetype": "text/x-python",
   "name": "python",
   "nbconvert_exporter": "python",
   "pygments_lexer": "ipython3",
   "version": "3.7.3"
  }
 },
 "nbformat": 4,
 "nbformat_minor": 2
}
