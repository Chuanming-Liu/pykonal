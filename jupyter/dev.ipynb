{
 "cells": [
  {
   "cell_type": "code",
   "execution_count": null,
   "metadata": {},
   "outputs": [],
   "source": [
    "%matplotlib ipympl\n",
    "\n",
    "from mpl_toolkits.mplot3d import Axes3D\n",
    "import matplotlib.pyplot as plt\n",
    "import numpy as np\n",
    "import pykonal"
   ]
  },
  {
   "cell_type": "code",
   "execution_count": null,
   "metadata": {},
   "outputs": [],
   "source": [
    "solver = pykonal.EikonalSolver()\n",
    "solver.mode = 'hybrid-cartesian'\n",
    "solver.vgrid.min_coords     = 0, 0, 0\n",
    "solver.vgrid.node_intervals = 1, 1, 1\n",
    "solver.vgrid.npts           = 100, 100, 1\n",
    "solver.vv                   = np.ones(solver.vgrid.npts)\n",
    "solver.src_loc              = 50, 50, 0\n",
    "solver.solve()\n",
    "src_solver                  = solver.src_solver\n",
    "\n",
    "uu0 = np.sqrt(np.sum(np.square(solver.pgrid[...] - solver.src_loc), axis=-1))\n",
    "# np.any(np.isnan(solver.uu)), np.any(np.isinf(solver.uu))"
   ]
  },
  {
   "cell_type": "code",
   "execution_count": null,
   "metadata": {},
   "outputs": [],
   "source": [
    "old = np.seterr(divide='ignore')"
   ]
  },
  {
   "cell_type": "code",
   "execution_count": null,
   "metadata": {},
   "outputs": [],
   "source": [
    "np.seterr(**old)"
   ]
  },
  {
   "cell_type": "code",
   "execution_count": null,
   "metadata": {},
   "outputs": [],
   "source": [
    "1 / np.array([1, 0])"
   ]
  },
  {
   "cell_type": "code",
   "execution_count": null,
   "metadata": {},
   "outputs": [],
   "source": [
    "vmin, vmax = -0.2, 0.2\n",
    "plt.close('all')\n",
    "fig = plt.figure()\n",
    "ax = fig.add_subplot(1, 1, 1, aspect=1)\n",
    "\n",
    "xx = src_solver.pgrid[..., 0] * np.sin(src_solver.pgrid[..., 1]) * np.cos(src_solver.pgrid[..., 2]) + solver.src_loc[0]\n",
    "yy = src_solver.pgrid[..., 0] * np.sin(src_solver.pgrid[..., 1]) * np.sin(src_solver.pgrid[..., 2]) + solver.src_loc[1]\n",
    "zz = src_solver.pgrid[..., 0] * np.cos(src_solver.pgrid[..., 1]) + solver.src_loc[2]\n",
    "uu0 = np.sqrt(np.square(xx-solver.src_loc[0]) + np.square(yy-solver.src_loc[1]) + np.square(zz-solver.src_loc[2]))\n",
    "# qmesh = ax.pcolormesh(xx[:,0,:], yy[:,0,:], \n",
    "#     (src_solver.uu[:,0,:]-uu0[:,0,:])/uu0[:,0,:],\n",
    "#     vmin=vmin,\n",
    "#     vmax=vmax,\n",
    "#     cmap=plt.get_cmap('jet_r')\n",
    "# )\n",
    "\n",
    "xx = solver.pgrid[..., 0]\n",
    "yy = solver.pgrid[..., 1]\n",
    "zz = solver.pgrid[..., 2]\n",
    "\n",
    "uu0 = np.sqrt(np.square(xx-solver.src_loc[0]) + np.square(yy-solver.src_loc[1]) + np.square(zz-solver.src_loc[2]))\n",
    "qmesh = ax.pcolormesh(xx[:,:,0], yy[:,:,0],\n",
    "    ((solver.uu[:,:,0]-uu0[:,:,0])/uu0[:,:,0])*100,\n",
    "    vmin=vmin,\n",
    "    vmax=vmax,\n",
    "    cmap=plt.get_cmap('jet_r')\n",
    ")\n",
    "ax.scatter(solver.src_loc[0], solver.src_loc[1], marker='x', color='k')\n",
    "\n",
    "cbar = fig.colorbar(qmesh, ax=ax)"
   ]
  },
  {
   "cell_type": "code",
   "execution_count": null,
   "metadata": {},
   "outputs": [],
   "source": [
    "vmin, vmax = 0, np.max(np.abs(solver.uu))\n",
    "\n",
    "plt.close('all')\n",
    "fig = plt.figure()\n",
    "ax = fig.add_subplot(1, 1, 1, aspect=1)\n",
    "\n",
    "xx = solver.pgrid[..., 0]\n",
    "yy = solver.pgrid[..., 1]\n",
    "zz = solver.pgrid[..., 2]\n",
    "qmesh = ax.pcolormesh(\n",
    "    xx[:,:,0]-solver.pgrid.node_intervals[0]/2, \n",
    "    yy[:,:,0]-solver.pgrid.node_intervals[1]/2,\n",
    "    solver.uu[:,:,0],\n",
    "    vmin=vmin,\n",
    "    vmax=vmax,\n",
    "    cmap=plt.get_cmap('jet_r'),\n",
    ")\n",
    "\n",
    "xx = src_solver.pgrid[..., 0] * np.sin(src_solver.pgrid[..., 1]) * np.cos(src_solver.pgrid[..., 2]) + solver.src_loc[0]\n",
    "yy = src_solver.pgrid[..., 0] * np.sin(src_solver.pgrid[..., 1]) * np.sin(src_solver.pgrid[..., 2]) + solver.src_loc[1]\n",
    "zz = src_solver.pgrid[..., 0] * np.cos(src_solver.pgrid[..., 1]) + solver.src_loc[2]\n",
    "qmesh = ax.scatter(xx[:,0,:], yy[:,0,:], \n",
    "    c=src_solver.uu[:,0,:],\n",
    "    vmin=vmin,\n",
    "    vmax=vmax,\n",
    "    cmap=plt.get_cmap('jet_r'),\n",
    "    edgecolor='k'\n",
    ")\n",
    "\n",
    "cbar = fig.colorbar(qmesh, ax=ax)"
   ]
  },
  {
   "cell_type": "code",
   "execution_count": null,
   "metadata": {},
   "outputs": [],
   "source": [
    "np.argwhere(dd < 2)"
   ]
  },
  {
   "cell_type": "code",
   "execution_count": null,
   "metadata": {},
   "outputs": [],
   "source": [
    "src_solver.pgrid[np.unravel_index(np.argmin(src_solver.uu), src_solver.uu.shape)]"
   ]
  },
  {
   "cell_type": "code",
   "execution_count": null,
   "metadata": {},
   "outputs": [],
   "source": [
    "np.any(np.isnan(solver.uu)), np.any(np.isinf(solver.uu))"
   ]
  },
  {
   "cell_type": "code",
   "execution_count": null,
   "metadata": {},
   "outputs": [],
   "source": [
    "solver.uu - np.sqrt(np.sum(np.square(solver.pgrid[...] - solver.src_loc), axis=-1))"
   ]
  },
  {
   "cell_type": "code",
   "execution_count": null,
   "metadata": {},
   "outputs": [],
   "source": [
    "np.argwhere(solver.uu < 1.419)"
   ]
  },
  {
   "cell_type": "code",
   "execution_count": null,
   "metadata": {},
   "outputs": [],
   "source": []
  }
 ],
 "metadata": {
  "kernelspec": {
   "display_name": "Python [conda env:py37]",
   "language": "python",
   "name": "conda-env-py37-py"
  },
  "language_info": {
   "codemirror_mode": {
    "name": "ipython",
    "version": 3
   },
   "file_extension": ".py",
   "mimetype": "text/x-python",
   "name": "python",
   "nbconvert_exporter": "python",
   "pygments_lexer": "ipython3",
   "version": "3.7.3"
  }
 },
 "nbformat": 4,
 "nbformat_minor": 2
}
