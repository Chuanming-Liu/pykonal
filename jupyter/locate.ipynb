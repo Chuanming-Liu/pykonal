{
 "cells": [
  {
   "cell_type": "code",
   "execution_count": 2,
   "metadata": {},
   "outputs": [],
   "source": [
    "import matplotlib.pyplot as plt\n",
    "from mpl_toolkits.mplot3d import axes3d\n",
    "import numpy as np\n",
    "import os\n",
    "import pandas as pd\n",
    "from pykonal import EikonalSolver, LinearInterpolator3D, GridND\n",
    "import seispy\n",
    "\n",
    "EARTH_RADIUS = 6371.\n",
    "GOOGLE_DRIVE = os.environ['GOOGLE_DRIVE']\n",
    "VMODEL_PATH  = os.path.join(GOOGLE_DRIVE, 'malcolm.white@usc.edu', 'data', 'velocity', 'White_et_al_2019a', 'White_et_al_2019a.regular.npz')\n",
    "DB_PATH      = os.path.join(GOOGLE_DRIVE, 'malcolm.white@usc.edu', 'data', 'events', 'malcolmw', 'SJFZ_catalog_2008-2016.h5')"
   ]
  },
  {
   "cell_type": "code",
   "execution_count": 3,
   "metadata": {},
   "outputs": [],
   "source": [
    "%matplotlib widget"
   ]
  },
  {
   "cell_type": "markdown",
   "metadata": {},
   "source": [
    "Define convenience class to compute traveltimes using a source-centered coordinate system in the near field."
   ]
  },
  {
   "cell_type": "code",
   "execution_count": 4,
   "metadata": {},
   "outputs": [],
   "source": [
    "class TwoStageSolver(object):\n",
    "    \n",
    "    def __init__(self, coord_sys='spherical'):\n",
    "        '''\n",
    "        A convenience class to compute traveltimes using a\n",
    "        source-centered coordinate system in the near field.\n",
    "        '''\n",
    "        self.coord_sys = coord_sys\n",
    "\n",
    "\n",
    "    @property\n",
    "    def near_field(self):\n",
    "        '''\n",
    "        The source-centered EikonalSolver for the near field.\n",
    "        '''\n",
    "        if not hasattr(self, '_near_field'):\n",
    "            self._near_field = EikonalSolver(coord_sys='spherical')\n",
    "        return (self._near_field)\n",
    "    \n",
    "    @property\n",
    "    def far_field(self):\n",
    "        '''\n",
    "        The EikonalSolver for the far field.\n",
    "        '''\n",
    "        if not hasattr(self, '_far_field'):\n",
    "            self._far_field = EikonalSolver(coord_sys=self.coord_sys)\n",
    "        return (self._far_field)\n",
    "    \n",
    "    @property\n",
    "    def src_loc(self):\n",
    "        '''\n",
    "        The coordinates of the source.\n",
    "        '''\n",
    "        return (self._src_loc)\n",
    "    \n",
    "    @src_loc.setter\n",
    "    def src_loc(self, value):\n",
    "        value = np.array(value)\n",
    "        if np.any(value < self.far_field.vgrid.min_coords)\\\n",
    "                or np.any(value > self.far_field.vgrid.max_coords):\n",
    "            raise(ValueError('Source location must lie inside far-field grid.'))\n",
    "        self._src_loc = value\n",
    "\n",
    "    def solve(self):\n",
    "        self._init_near_field()\n",
    "        self.near_field.solve()\n",
    "        self.far_field.transfer_travel_times_from(\n",
    "            self.near_field,\n",
    "            self.src_loc  * [-1, 1, 1],\n",
    "            set_alive=True\n",
    "        )\n",
    "        self.far_field.solve()\n",
    "    \n",
    "    def _init_near_field(self):\n",
    "        if self.coord_sys == 'cartesian':\n",
    "            drho = np.min(self.far_field.pgrid.min_coords) / 10\n",
    "        else:\n",
    "            drho = self.far_field.pgrid.node_intervals[0] / 10\n",
    "        self.near_field.vgrid.min_coords     = drho, 0, 0\n",
    "        self.near_field.vgrid.node_intervals = drho, np.pi/20, np.pi/20\n",
    "        self.near_field.vgrid.npts           = 100, 21, 40\n",
    "        self.near_field.transfer_velocity_from(self.far_field, self.src_loc)\n",
    "        for it in range(self.near_field.vgrid.npts[1]):\n",
    "            for ip in range(self.near_field.vgrid.npts[2]):\n",
    "                idx = (0, it, ip)\n",
    "                self.near_field.uu[idx]     = drho / self.near_field.vvp[idx]\n",
    "                self.near_field.is_far[idx] = False\n",
    "                self.near_field.close.push(*idx)"
   ]
  },
  {
   "cell_type": "markdown",
   "metadata": {},
   "source": [
    "# Synthetic data\n",
    "\n",
    "This example tests the location algorithm for the simplest and most ideal case: Homogeneous velocity structure and station coverage\n",
    "\n",
    "## Generate synthetic data\n",
    "\n",
    "### Define the computational grid"
   ]
  },
  {
   "cell_type": "code",
   "execution_count": 5,
   "metadata": {},
   "outputs": [],
   "source": [
    "TAG            = 'homogeneous_0.0'\n",
    "lat0, lon0, z0 = 44, 44, -5     # homogeneous_0.0\n",
    "dlat, dlon, dz = 0.01, 0.01, 1 # homogeneous_0.0\n",
    "nlat, nlon, nz = 201, 201, 26  # homogeneous_0.0\n",
    "latmax         = lat0 + (nlat-1)*dlat\n",
    "lonmax         = lon0 + (nlon-1)*dlon\n",
    "zmax           = z0 + (nz-1)*dz\n",
    "\n",
    "rho0, theta0, phi0 = EARTH_RADIUS-zmax, np.pi/2-np.radians(latmax), np.radians(lon0)\n",
    "drho, dtheta, dphi = dz, np.radians(dlat), np.radians(dlon)\n",
    "nrho, ntheta, nphi = nz, nlat, nlon"
   ]
  },
  {
   "cell_type": "markdown",
   "metadata": {},
   "source": [
    "### Define the station locations"
   ]
  },
  {
   "cell_type": "code",
   "execution_count": 6,
   "metadata": {},
   "outputs": [],
   "source": [
    "def init_stations(lat0, latmax, lon0, lonmax):\n",
    "    stations = pd.DataFrame(columns=['sta_code', 'lat', 'lon', 'depth'])\n",
    "    dlat, dlon = 0.25, 0.25 # homogeneous_0.0\n",
    "    ilat = 0\n",
    "    lat  = lat0\n",
    "    while lat <= latmax:\n",
    "        ilon, lon  = 0, lon0\n",
    "        while lon <= lonmax:\n",
    "            sta_code = f'{chr(ord(\"A\") + ilat//26)}{chr(ord(\"A\") + ilat%26)}{ilon:02d}'\n",
    "            stations = stations.append(\n",
    "                pd.DataFrame(\n",
    "                    [[sta_code, lat, lon, 0]],\n",
    "                    columns=['sta_code', 'lat', 'lon', 'depth']\n",
    "                ),\n",
    "                ignore_index=True\n",
    "            )\n",
    "            ilon += 1\n",
    "            lon  += dlon\n",
    "        ilat += 1\n",
    "        lat  += dlat\n",
    "    return(stations)\n",
    "\n",
    "stations = init_stations(lat0, latmax, lon0, lonmax)"
   ]
  },
  {
   "cell_type": "markdown",
   "metadata": {},
   "source": [
    "### Compute and store traveltime field for each station"
   ]
  },
  {
   "cell_type": "code",
   "execution_count": null,
   "metadata": {},
   "outputs": [],
   "source": [
    "tt = dict()\n",
    "for idx, station in stations.iloc[20:].iterrows():\n",
    "    print(station['sta_code'])\n",
    "    solver = TwoStageSolver(coord_sys='spherical')\n",
    "    solver.far_field.vgrid.min_coords      = rho0, theta0, phi0\n",
    "    solver.far_field.vgrid.node_intervals  = drho, dtheta, dphi\n",
    "    solver.far_field.vgrid.npts            = nrho, ntheta, nphi\n",
    "    solver.far_field.vv                    = np.ones(solver.far_field.vgrid.npts)\n",
    "    solver.src_loc                         = seispy.coords.as_geographic(\n",
    "        station[['lat', 'lon', 'depth']]\n",
    "    ).to_spherical()\n",
    "    solver.solve()\n",
    "    break\n",
    "#     tt[station['sta_code']] = solver_p.far_field.uu"
   ]
  },
  {
   "cell_type": "markdown",
   "metadata": {},
   "source": [
    "### Save the traveltime fields"
   ]
  },
  {
   "cell_type": "code",
   "execution_count": null,
   "metadata": {},
   "outputs": [],
   "source": [
    "np.savez(f'/Users/malcolmwhite/Desktop/ttlookup_{TAG}.npz', **tt)"
   ]
  },
  {
   "cell_type": "markdown",
   "metadata": {},
   "source": [
    "### Define event locations"
   ]
  },
  {
   "cell_type": "code",
   "execution_count": 7,
   "metadata": {},
   "outputs": [],
   "source": [
    "def init_events(lat0, latmax, lon0, lonmax, z0, zmax):\n",
    "    events         = pd.DataFrame(columns=['lat', 'lon', 'depth', 'event_id'])\n",
    "    lat_avg        = (lat0+latmax) / 2\n",
    "    lon_avg        = (lon0+lonmax) / 2\n",
    "    z_avg          = (z0+zmax) / 2\n",
    "    dlat, dlon, dz = 0.1, 0.1, 1 # homogeneous_0.0\n",
    "    ilat           = 0\n",
    "    lat, lon, z    = lat0, lon0, z0\n",
    "    while lat <= latmax:\n",
    "        events = events.append(\n",
    "                pd.DataFrame(\n",
    "                    [[lat, lon_avg, z_avg, -1]],\n",
    "                    columns=['lat', 'lon', 'depth', 'event_id']\n",
    "                ),\n",
    "                ignore_index=True\n",
    "        )\n",
    "        lat += dlat\n",
    "    while lon <= lonmax:\n",
    "        events = events.append(\n",
    "                pd.DataFrame(\n",
    "                    [[lat_avg, lon, z_avg, -1]],\n",
    "                    columns=['lat', 'lon', 'depth', 'event_id']\n",
    "                ),\n",
    "                ignore_index=True\n",
    "        )\n",
    "        lon += dlon\n",
    "    while z <= zmax:\n",
    "        events = events.append(\n",
    "                pd.DataFrame(\n",
    "                    [[lat_avg, lon_avg, z, -1]],\n",
    "                    columns=['lat', 'lon', 'depth', 'event_id']\n",
    "                ),\n",
    "                ignore_index=True\n",
    "        )\n",
    "        z += dz\n",
    "    events['event_id'] = events.index.values\n",
    "    return (events)\n",
    "\n",
    "events = init_events(lat0, latmax, lon0, lonmax, z0, zmax)"
   ]
  },
  {
   "cell_type": "markdown",
   "metadata": {},
   "source": [
    "### Compute synthetic travel times for events"
   ]
  },
  {
   "cell_type": "code",
   "execution_count": null,
   "metadata": {},
   "outputs": [],
   "source": [
    "arrivals = pd.DataFrame(columns=['event_id', 'sta_code', 'tt', 'phase'])\n",
    "for event_id, event in events.iterrows():\n",
    "    print(f'Event #{event_id}')\n",
    "    solver = TwoStageSolver(coord_sys='spherical')\n",
    "    solver.far_field.vgrid.min_coords      = rho0, theta0, phi0\n",
    "    solver.far_field.vgrid.node_intervals  = drho, dtheta, dphi\n",
    "    solver.far_field.vgrid.npts            = nrho, ntheta, nphi\n",
    "    solver.far_field.vv                    = np.ones(solver.far_field.vgrid.npts)\n",
    "    solver.src_loc                         = seispy.coords.as_geographic(\n",
    "        event[['lat', 'lon', 'depth']]\n",
    "    ).to_spherical()\n",
    "    solver.solve()\n",
    "    uui = LinearInterpolator3D(solver.far_field.pgrid, solver.far_field.uu)\n",
    "    for sta_idx, station in stations.iterrows():\n",
    "        tt = uui(\n",
    "            seispy.coords.as_geographic(\n",
    "                station[['lat', 'lon', 'elev']] * [1, 1, -1]\n",
    "            ).to_spherical()\n",
    "        )\n",
    "        arrivals = arrivals.append(\n",
    "            pd.DataFrame(\n",
    "                [[event_id, station['sta_code'], tt, 'P']],\n",
    "                columns=['event_id', 'sta_code', 'tt', 'phase']\n",
    "            ),\n",
    "            ignore_index=True\n",
    "        )"
   ]
  },
  {
   "cell_type": "markdown",
   "metadata": {},
   "source": [
    "### Save event data"
   ]
  },
  {
   "cell_type": "code",
   "execution_count": null,
   "metadata": {},
   "outputs": [],
   "source": [
    "with pd.HDFStore(f'/Users/malcolmwhite/Desktop/db_{TAG}.h5') as store:\n",
    "    store['events'] = events\n",
    "    store['arrivals'] = arrivals"
   ]
  },
  {
   "cell_type": "markdown",
   "metadata": {},
   "source": [
    "### Create dictionary of traveltime field interpolators"
   ]
  },
  {
   "cell_type": "code",
   "execution_count": null,
   "metadata": {},
   "outputs": [],
   "source": [
    "grid                 = GridND()\n",
    "grid.min_coords      = rho0, theta0, phi0\n",
    "grid.node_intervals  = drho, dtheta, dphi\n",
    "grid.npts            = nrho, ntheta, nphi\n",
    "\n",
    "tti = dict()\n",
    "\n",
    "npz = np.load(os.path.join(GOOGLE_DRIVE, 'malcolm.white@usc.edu', 'proj', 'pykonal', 'data', 'locate', TAG, f'ttlookup_{TAG}.npz'))\n",
    "for sta_code in npz.keys():\n",
    "    tti[sta_code] = LinearInterpolator3D(grid, npz[sta_code])"
   ]
  },
  {
   "cell_type": "markdown",
   "metadata": {},
   "source": [
    "### Define an objective function"
   ]
  },
  {
   "cell_type": "code",
   "execution_count": null,
   "metadata": {},
   "outputs": [],
   "source": [
    "def objective(hypo, arrivals, tti):\n",
    "    residuals = []\n",
    "    for idx, arrival in arrivals.iterrows():\n",
    "        residuals.append(tti[arrival['sta_code']]([6371, 1.58824962, 0]) - arrival['tt'])\n",
    "    return (np.mean(np.abs(np.array(residuals))))"
   ]
  },
  {
   "cell_type": "code",
   "execution_count": null,
   "metadata": {},
   "outputs": [],
   "source": [
    "objective(\n",
    "#     seispy.coords.as_geographic(events.loc[0][['lat', 'lon', 'depth']]).to_spherical(),\n",
    "    [ 6.36956586e+03,  1.58804003e+00, -2.00484042e-03],\n",
    "    arrivals.set_index('event_id').loc[0],\n",
    "    tti\n",
    ")"
   ]
  },
  {
   "cell_type": "code",
   "execution_count": null,
   "metadata": {},
   "outputs": [],
   "source": [
    "from  scipy.optimize import differential_evolution as optimize"
   ]
  },
  {
   "cell_type": "code",
   "execution_count": null,
   "metadata": {},
   "outputs": [],
   "source": [
    "%%time\n",
    "optimize(\n",
    "    objective, \n",
    "    (\n",
    "        (rho0, rho0+(nrho-1)*drho), \n",
    "        (theta0, theta0+(ntheta-1)*dtheta), \n",
    "        (phi0, phi0+(nphi-1)*dphi)\n",
    "    ),\n",
    "    args=(arrivals.set_index('event_id').loc[0], tti)\n",
    ")"
   ]
  },
  {
   "cell_type": "code",
   "execution_count": null,
   "metadata": {},
   "outputs": [],
   "source": [
    "seispy.coords.as_geographic(events.loc[0][['lat', 'lon', 'depth']]).to_spherical()"
   ]
  },
  {
   "cell_type": "markdown",
   "metadata": {},
   "source": [
    "# START TEST"
   ]
  },
  {
   "cell_type": "code",
   "execution_count": 8,
   "metadata": {},
   "outputs": [
    {
     "name": "stdout",
     "output_type": "stream",
     "text": [
      "lat         45\n",
      "lon         45\n",
      "depth        7\n",
      "event_id    52\n",
      "Name: 52, dtype: object sta_code     AF02\n",
      "lat         45.25\n",
      "lon          44.5\n",
      "depth           0\n",
      "Name: 47, dtype: object\n"
     ]
    }
   ],
   "source": [
    "event   = events.iloc[52]\n",
    "station = stations.iloc[47]\n",
    "print(event, station)"
   ]
  },
  {
   "cell_type": "code",
   "execution_count": 9,
   "metadata": {},
   "outputs": [
    {
     "name": "stderr",
     "output_type": "stream",
     "text": [
      "/Users/malcolmwhite/local/anaconda3/envs/py37/lib/python3.7/site-packages/ipykernel_launcher.py:50: RuntimeWarning: invalid value encountered in greater\n",
      "/Users/malcolmwhite/local/anaconda3/envs/py37/lib/python3.7/site-packages/ipykernel_launcher.py:50: RuntimeWarning: invalid value encountered in less\n"
     ]
    },
    {
     "name": "stdout",
     "output_type": "stream",
     "text": [
      "CPU times: user 10.7 s, sys: 87.8 ms, total: 10.8 s\n",
      "Wall time: 10.7 s\n"
     ]
    }
   ],
   "source": [
    "# Event\n",
    "event_solver = TwoStageSolver(coord_sys='spherical')\n",
    "event_solver.far_field.vgrid.min_coords      = rho0, theta0, phi0\n",
    "event_solver.far_field.vgrid.node_intervals  = drho, dtheta, dphi\n",
    "event_solver.far_field.vgrid.npts            = nrho, ntheta, nphi\n",
    "event_solver.far_field.vv                    = np.ones(event_solver.far_field.vgrid.npts)\n",
    "event_solver.src_loc                         = seispy.coords.as_geographic(\n",
    "    event[['lat', 'lon', 'depth']]\n",
    ").to_spherical()\n",
    "%time event_solver.solve()\n",
    "uui_es = LinearInterpolator3D(event_solver.far_field.pgrid, event_solver.far_field.uu)"
   ]
  },
  {
   "cell_type": "code",
   "execution_count": 10,
   "metadata": {},
   "outputs": [
    {
     "name": "stderr",
     "output_type": "stream",
     "text": [
      "/Users/malcolmwhite/local/anaconda3/envs/py37/lib/python3.7/site-packages/ipykernel_launcher.py:50: RuntimeWarning: invalid value encountered in greater\n",
      "/Users/malcolmwhite/local/anaconda3/envs/py37/lib/python3.7/site-packages/ipykernel_launcher.py:50: RuntimeWarning: invalid value encountered in less\n"
     ]
    },
    {
     "name": "stdout",
     "output_type": "stream",
     "text": [
      "CPU times: user 11.3 s, sys: 148 ms, total: 11.5 s\n",
      "Wall time: 11.4 s\n"
     ]
    }
   ],
   "source": [
    "station_solver = TwoStageSolver(coord_sys='spherical')\n",
    "station_solver.far_field.vgrid.min_coords      = rho0, theta0, phi0\n",
    "station_solver.far_field.vgrid.node_intervals  = drho, dtheta, dphi\n",
    "station_solver.far_field.vgrid.npts            = nrho, ntheta, nphi\n",
    "station_solver.far_field.vv                    = np.ones(station_solver.far_field.vgrid.npts)\n",
    "station_solver.src_loc                         = seispy.coords.as_geographic(\n",
    "    station[['lat', 'lon', 'depth']]\n",
    ").to_spherical()\n",
    "%time station_solver.solve()\n",
    "uui_se = LinearInterpolator3D(station_solver.far_field.pgrid, station_solver.far_field.uu)"
   ]
  },
  {
   "cell_type": "code",
   "execution_count": 11,
   "metadata": {},
   "outputs": [
    {
     "data": {
      "text/plain": [
       "(48.53406473573391, 48.533038860332546)"
      ]
     },
     "execution_count": 11,
     "metadata": {},
     "output_type": "execute_result"
    }
   ],
   "source": [
    "(\n",
    "    uui_es(seispy.coords.as_geographic(station[['lat', 'lon', 'depth']]).to_spherical()),\n",
    "    uui_se(seispy.coords.as_geographic(event[['lat', 'lon', 'depth']]).to_spherical())\n",
    ")"
   ]
  },
  {
   "cell_type": "code",
   "execution_count": null,
   "metadata": {},
   "outputs": [],
   "source": [
    "np.any(station_solver.far_field.uu == event_solver.far_field.uu)"
   ]
  },
  {
   "cell_type": "code",
   "execution_count": null,
   "metadata": {},
   "outputs": [],
   "source": [
    "# solver = event_solver\n",
    "nodes   = solver.near_field.pgrid.nodes\n",
    "x0      = solver.src_loc[0] * np.sin(solver.src_loc[1]) * np.cos(solver.src_loc[2])\n",
    "y0      = solver.src_loc[0] * np.sin(solver.src_loc[1]) * np.sin(solver.src_loc[2])\n",
    "z0      = solver.src_loc[0] * np.cos(solver.src_loc[1])\n",
    "xx_near = nodes[...,0] * np.sin(nodes[...,1]) * np.cos(nodes[...,2]) + x0\n",
    "yy_near = nodes[...,0] * np.sin(nodes[...,1]) * np.sin(nodes[...,2]) + y0\n",
    "zz_near = nodes[...,0] * np.cos(nodes[...,1]) + z0\n",
    "\n",
    "nodes   = solver.far_field.pgrid.nodes\n",
    "xx_far  = nodes[...,0] * np.sin(nodes[...,1]) * np.cos(nodes[...,2])\n",
    "yy_far  = nodes[...,0] * np.sin(nodes[...,1]) * np.sin(nodes[...,2])\n",
    "zz_far  = nodes[...,0] * np.cos(nodes[...,1])\n",
    "\n",
    "\n",
    "plt.close('all')\n",
    "fig = plt.figure()\n",
    "ax  = fig.add_subplot(1, 2, 1, projection='3d')\n",
    "# i1, i2, i3 = slice(None, None, 4), slice(None, None, 2), slice(None, None, 2)\n",
    "i1, i2, i3 = slice(None), slice(None), slice(None)\n",
    "ax.scatter(\n",
    "    xx_far[i1,i2,i3].flatten(), \n",
    "    yy_far[i1,i2,i3].flatten(),\n",
    "    zz_far[i1,i2,i3].flatten(),\n",
    "    c=solver.far_field.uu[i1,i2,i3].flatten(),\n",
    "#     xx_far[idxs].flatten(), \n",
    "#     yy_far[idxs].flatten(),\n",
    "#     zz_far[idxs].flatten(),\n",
    "#     c=solver.far_field.uu[idxs].flatten(),\n",
    "    cmap=plt.get_cmap('jet_r'),\n",
    "    s=1\n",
    ")\n",
    "\n",
    "ax  = fig.add_subplot(1, 2, 2, projection='3d')\n",
    "i1, i2, i3 = slice(None,None,2), slice(None), slice(None)\n",
    "ax.scatter(\n",
    "    xx_near[i1,i2,i3].flatten(), \n",
    "    yy_near[i1,i2,i3].flatten(),\n",
    "    zz_near[i1,i2,i3].flatten(),\n",
    "    c=solver.near_field.uu[i1,i2,i3].flatten(),\n",
    "    cmap=plt.get_cmap('jet_r'),\n",
    "#     vmin=solver.far_field.uu.min(),\n",
    "#     vmax=solver.far_field.uu[~np.isinf(solver.far_field.uu)].max(),\n",
    "    s=1\n",
    ")"
   ]
  },
  {
   "cell_type": "markdown",
   "metadata": {},
   "source": [
    "# END TEST"
   ]
  },
  {
   "cell_type": "markdown",
   "metadata": {},
   "source": [
    "### Plot traveltime field"
   ]
  },
  {
   "cell_type": "code",
   "execution_count": null,
   "metadata": {},
   "outputs": [],
   "source": [
    "nodes   = solver_p.near_field.pgrid.mesh\n",
    "xx_near = nodes[...,0] * np.sin(nodes[...,1]) * np.cos(nodes[...,2])\n",
    "yy_near = nodes[...,0] * np.sin(nodes[...,1]) * np.sin(nodes[...,2])\n",
    "zz_near = nodes[...,0] * np.cos(nodes[...,1])\n",
    "\n",
    "nodes   = solver_p.far_field.pgrid.mesh\n",
    "xx_far  = nodes[...,0] * np.sin(nodes[...,1]) * np.cos(nodes[...,2])\n",
    "yy_far  = nodes[...,0] * np.sin(nodes[...,1]) * np.sin(nodes[...,2])\n",
    "zz_far  = nodes[...,0] * np.cos(nodes[...,1])\n",
    "\n",
    "\n",
    "plt.close('all')\n",
    "fig = plt.figure()\n",
    "ax  = fig.add_subplot(1, 1, 1, projection='3d')\n",
    "# ax.scatter(\n",
    "#     xx_far.flatten(), yy_far.flatten(), zz_far.flatten(),\n",
    "#     c=solver_p.far_field.uu.flatten(),\n",
    "#     cmap=plt.get_cmap('jet_r')\n",
    "# )\n",
    "ax.scatter(\n",
    "    xx_near.flatten(), yy_near.flatten(), zz_near.flatten(),\n",
    "    c=solver_p.near_field.uu.flatten(),\n",
    "    cmap=plt.get_cmap('jet_r'),\n",
    "    s=1\n",
    ")"
   ]
  },
  {
   "cell_type": "markdown",
   "metadata": {},
   "source": [
    "# Real data"
   ]
  },
  {
   "cell_type": "markdown",
   "metadata": {},
   "source": [
    "Read velocity model"
   ]
  },
  {
   "cell_type": "code",
   "execution_count": null,
   "metadata": {},
   "outputs": [],
   "source": [
    "vmod = seispy.velocity.VelocityModel(VMODEL_PATH, fmt='npz')"
   ]
  },
  {
   "cell_type": "markdown",
   "metadata": {},
   "source": [
    "Read network geometry"
   ]
  },
  {
   "cell_type": "code",
   "execution_count": null,
   "metadata": {},
   "outputs": [],
   "source": [
    "db = seispy.pandas.catalog.Catalog(DB_PATH, fmt='hdf5', tables=['site'])"
   ]
  },
  {
   "cell_type": "code",
   "execution_count": null,
   "metadata": {},
   "outputs": [],
   "source": [
    "solver_p = TwoStageSolver()\n",
    "solver_p.far_field.vgrid.min_coords      = vmod.rho0, vmod.theta0, vmod.phi0\n",
    "solver_p.far_field.vgrid.node_intervals  = vmod.drho, vmod.dtheta, vmod.dphi\n",
    "solver_p.far_field.vgrid.npts            = vmod.nrho, vmod.ntheta, vmod.nphi\n",
    "solver_p.far_field.vv                    = vmod._vp"
   ]
  },
  {
   "cell_type": "code",
   "execution_count": null,
   "metadata": {},
   "outputs": [],
   "source": [
    "%time solver_p.solve()"
   ]
  },
  {
   "cell_type": "code",
   "execution_count": null,
   "metadata": {},
   "outputs": [],
   "source": [
    "np.savez('/Users/malcolmwhite/Desktop/test.npz', uu=solver_p.far_field.uu)"
   ]
  },
  {
   "cell_type": "code",
   "execution_count": null,
   "metadata": {},
   "outputs": [],
   "source": [
    "ir, it, ip = slice(None), slice(None), 0"
   ]
  },
  {
   "cell_type": "code",
   "execution_count": null,
   "metadata": {},
   "outputs": [],
   "source": [
    "ir, it, ip = slice(None), slice(None), 0\n",
    "\n",
    "nodes = solver_p.far_field.pgrid.mesh\n",
    "nodes_x = nodes[...,0] * np.sin(nodes[...,1]) * np.cos(nodes[...,2])\n",
    "nodes_y = nodes[...,0] * np.sin(nodes[...,1]) * np.sin(nodes[...,2])\n",
    "nodes_z = nodes[...,0] * np.cos(nodes[...,1])\n",
    "\n",
    "fig = plt.figure()\n",
    "ax  = fig.add_subplot(1, 1, 1)\n",
    "ax.pcolormesh(\n",
    "    nodes_y[ir, it, ip],\n",
    "    nodes_z[ir, it, ip],\n",
    "    solver_p.far_field.uu[ir, it, ip],\n",
    "    cmap=plt.get_cmap('jet_r'),\n",
    "    shading='gouraud'\n",
    ")"
   ]
  },
  {
   "cell_type": "code",
   "execution_count": null,
   "metadata": {},
   "outputs": [],
   "source": [
    "solver_p.far_field.uu[ir, it, ip].shape"
   ]
  },
  {
   "cell_type": "code",
   "execution_count": null,
   "metadata": {},
   "outputs": [],
   "source": [
    "%time solver_p.near_field.solve()"
   ]
  },
  {
   "cell_type": "code",
   "execution_count": null,
   "metadata": {},
   "outputs": [],
   "source": [
    "solver_p.near_field.uu"
   ]
  },
  {
   "cell_type": "code",
   "execution_count": null,
   "metadata": {},
   "outputs": [],
   "source": [
    "solver_p.src_loc = 6365, 0.98, -2.03"
   ]
  },
  {
   "cell_type": "code",
   "execution_count": null,
   "metadata": {},
   "outputs": [],
   "source": [
    "solver_p.src_loc"
   ]
  }
 ],
 "metadata": {
  "kernelspec": {
   "display_name": "Python [conda env:py37]",
   "language": "python",
   "name": "conda-env-py37-py"
  },
  "language_info": {
   "codemirror_mode": {
    "name": "ipython",
    "version": 3
   },
   "file_extension": ".py",
   "mimetype": "text/x-python",
   "name": "python",
   "nbconvert_exporter": "python",
   "pygments_lexer": "ipython3",
   "version": "3.7.3"
  }
 },
 "nbformat": 4,
 "nbformat_minor": 4
}
