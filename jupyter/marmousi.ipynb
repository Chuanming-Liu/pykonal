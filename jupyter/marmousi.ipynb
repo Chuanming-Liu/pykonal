{
 "cells": [
  {
   "cell_type": "code",
   "execution_count": null,
   "metadata": {},
   "outputs": [],
   "source": [
    "%matplotlib ipympl\n",
    "import matplotlib\n",
    "import matplotlib.pyplot as plt\n",
    "import numpy as np\n",
    "import pykonal"
   ]
  },
  {
   "cell_type": "code",
   "execution_count": null,
   "metadata": {},
   "outputs": [],
   "source": [
    "with np.load('../data/marmousi.npz') as infile:\n",
    "    vv = infile['vv']\n",
    "    xx = infile['xx']\n",
    "    yy = infile['yy']"
   ]
  },
  {
   "cell_type": "code",
   "execution_count": null,
   "metadata": {},
   "outputs": [],
   "source": [
    "with np.load('../data/marmousi.npz') as infile:\n",
    "    vv = infile['vv']\n",
    "    xx = infile['xx']\n",
    "    yy = infile['yy']\n",
    "\n",
    "solver = pykonal.EikonalSolver()\n",
    "solver.vgrid.min_coords     = 0, 0, 0\n",
    "solver.vgrid.npts           = 2301, 751, 1\n",
    "solver.vgrid.node_intervals = 0.004, 0.004, 1\n",
    "solver.vv                   = vv.reshape(2301, 751, 1)\n",
    "solver.pgrid.min_coords     = solver.vgrid.min_coords\n",
    "solver.pgrid.node_intervals = solver.vgrid.node_intervals\n",
    "solver.pgrid.npts           = solver.vgrid.npts\n",
    "\n",
    "solver.add_source((4.5, 0, 0))"
   ]
  },
  {
   "cell_type": "code",
   "execution_count": null,
   "metadata": {},
   "outputs": [],
   "source": [
    "%%time\n",
    "solver.solve()"
   ]
  },
  {
   "cell_type": "code",
   "execution_count": null,
   "metadata": {},
   "outputs": [],
   "source": [
    "plt.close('all')\n",
    "fig = plt.figure(figsize=(9, 4))\n",
    "fig.suptitle('Marmousi 2D')\n",
    "ax = fig.add_subplot(2, 1, 1, aspect=1)\n",
    "qmesh = ax.pcolormesh(xx, yy, vv, cmap=plt.get_cmap('jet_r'))\n",
    "ax.invert_yaxis()\n",
    "fig.colorbar(qmesh, ax=ax)\n",
    "\n",
    "ax = fig.add_subplot(2, 1, 2, aspect=1)\n",
    "qmesh = ax.pcolormesh(xx, yy, solver.uu[:, :, 0], cmap=plt.get_cmap('jet_r'))\n",
    "# for x in np.linspace(1, 9, 20):\n",
    "#     ray = solver.trace_ray((x, 0, 0))\n",
    "#     ax.plot(ray[:, 0], ray[:, 1], 'k')\n",
    "ax.invert_yaxis()\n",
    "fig.colorbar(qmesh, ax=ax)"
   ]
  },
  {
   "cell_type": "code",
   "execution_count": null,
   "metadata": {},
   "outputs": [],
   "source": [
    "vv"
   ]
  },
  {
   "cell_type": "code",
   "execution_count": null,
   "metadata": {},
   "outputs": [],
   "source": []
  }
 ],
 "metadata": {
  "kernelspec": {
   "display_name": "Python [conda env:py37]",
   "language": "python",
   "name": "conda-env-py37-py"
  },
  "language_info": {
   "codemirror_mode": {
    "name": "ipython",
    "version": 3
   },
   "file_extension": ".py",
   "mimetype": "text/x-python",
   "name": "python",
   "nbconvert_exporter": "python",
   "pygments_lexer": "ipython3",
   "version": "3.7.3"
  }
 },
 "nbformat": 4,
 "nbformat_minor": 2
}
