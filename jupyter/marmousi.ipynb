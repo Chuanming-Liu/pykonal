{
 "cells": [
  {
   "cell_type": "code",
   "execution_count": 1,
   "metadata": {},
   "outputs": [],
   "source": [
    "%matplotlib ipympl\n",
    "import matplotlib\n",
    "import matplotlib.pyplot as plt\n",
    "import numpy as np\n",
    "import os\n",
    "import pkg_resources\n",
    "import pykonal"
   ]
  },
  {
   "cell_type": "code",
   "execution_count": 2,
   "metadata": {},
   "outputs": [],
   "source": [
    "fname = pkg_resources.resource_filename(\n",
    "    'pykonal',\n",
    "    os.path.join('pykonal', 'data', 'marmousi_2d.npz')\n",
    ")"
   ]
  },
  {
   "cell_type": "code",
   "execution_count": 3,
   "metadata": {},
   "outputs": [],
   "source": [
    "solver = pykonal.EikonalSolver()\n",
    "with np.load(fname) as infile:\n",
    "    solver.vgrid.min_coords     = infile['min_coords']\n",
    "    solver.vgrid.node_intervals = infile['node_intervals']\n",
    "    solver.vgrid.npts           = infile['vv'].shape\n",
    "    solver.vv                   = infile['vv']\n",
    "\n",
    "solver.pgrid.min_coords     = solver.vgrid.min_coords\n",
    "solver.pgrid.node_intervals = solver.vgrid.node_intervals\n",
    "solver.pgrid.npts           = solver.vgrid.npts\n",
    "solver.add_source((1,1,0))\n",
    "solver.solve()\n",
    "solver.determinant_errors, solver.denominator_errors"
   ]
  },
  {
   "cell_type": "code",
   "execution_count": null,
   "metadata": {},
   "outputs": [],
   "source": [
    "vxy = np.moveaxis(\n",
    "    np.stack(\n",
    "        np.meshgrid(\n",
    "            np.linspace(\n",
    "                solver.vgrid.min_coords[0],\n",
    "                solver.vgrid.max_coords[0]+solver.vgrid.node_intervals[0],\n",
    "                solver.vgrid.npts[0]+1\n",
    "            ),\n",
    "            np.linspace(\n",
    "                solver.vgrid.min_coords[1],\n",
    "                solver.vgrid.max_coords[1]+solver.vgrid.node_intervals[1],\n",
    "                solver.vgrid.npts[1]+1\n",
    "            ),\n",
    "            indexing='ij'\n",
    "        ),\n",
    "    ),\n",
    "    0, -1\n",
    ") - solver.vgrid.node_intervals[:2] / 2\n",
    "\n",
    "pxy = np.moveaxis(\n",
    "    np.stack(\n",
    "        np.meshgrid(\n",
    "            np.linspace(\n",
    "                solver.pgrid.min_coords[0],\n",
    "                solver.pgrid.max_coords[0]+solver.pgrid.node_intervals[0],\n",
    "                solver.pgrid.npts[0]+1\n",
    "            ),\n",
    "            np.linspace(\n",
    "                solver.pgrid.min_coords[1],\n",
    "                solver.pgrid.max_coords[1]+solver.pgrid.node_intervals[1],\n",
    "                solver.pgrid.npts[1]+1\n",
    "            ),\n",
    "            indexing='ij'\n",
    "        ),\n",
    "    ),\n",
    "    0, -1\n",
    ") - solver.pgrid.node_intervals[:2] / 2"
   ]
  },
  {
   "cell_type": "code",
   "execution_count": null,
   "metadata": {},
   "outputs": [],
   "source": [
    "plt.close('all')\n",
    "fig = plt.figure(figsize=(8, 4))\n",
    "ax = fig.add_subplot(2, 1, 1, aspect=1)\n",
    "ax.pcolormesh(\n",
    "    vxy[:,:,0],\n",
    "    vxy[:,:,1],\n",
    "    solver.vv[:,:,0],\n",
    "    cmap=plt.get_cmap('jet_r')\n",
    ")\n",
    "ax.invert_yaxis()\n",
    "ax = fig.add_subplot(2, 1, 2, aspect=1)\n",
    "ax.pcolormesh(pxy[:,:,0], pxy[:,:,1], solver.uu[:,:,0], cmap=plt.get_cmap('jet_r'))\n",
    "ax.invert_yaxis()"
   ]
  }
 ],
 "metadata": {
  "kernelspec": {
   "display_name": "Python [conda env:py37]",
   "language": "python",
   "name": "conda-env-py37-py"
  },
  "language_info": {
   "codemirror_mode": {
    "name": "ipython",
    "version": 3
   },
   "file_extension": ".py",
   "mimetype": "text/x-python",
   "name": "python",
   "nbconvert_exporter": "python",
   "pygments_lexer": "ipython3",
   "version": "3.7.1"
  }
 },
 "nbformat": 4,
 "nbformat_minor": 2
}
