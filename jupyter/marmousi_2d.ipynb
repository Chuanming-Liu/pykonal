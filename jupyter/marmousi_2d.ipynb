{
 "cells": [
  {
   "cell_type": "markdown",
   "metadata": {},
   "source": [
    "# Marmousi 2D Example\n",
    "### Import modules"
   ]
  },
  {
   "cell_type": "code",
   "execution_count": null,
   "metadata": {},
   "outputs": [],
   "source": [
    "%matplotlib ipympl\n",
    "import matplotlib\n",
    "import matplotlib.pyplot as plt\n",
    "import numpy as np\n",
    "import os\n",
    "import pkg_resources\n",
    "import pykonal"
   ]
  },
  {
   "cell_type": "markdown",
   "metadata": {},
   "source": [
    "### Load Marmousi 2D velocity model"
   ]
  },
  {
   "cell_type": "code",
   "execution_count": null,
   "metadata": {},
   "outputs": [],
   "source": [
    "fname = pkg_resources.resource_filename(\n",
    "    'pykonal',\n",
    "    os.path.join('pykonal', 'data', 'marmousi_2d.npz')\n",
    ")\n",
    "with np.load(fname) as infile:\n",
    "    vv = infile['vv']"
   ]
  },
  {
   "cell_type": "markdown",
   "metadata": {},
   "source": [
    "### Initialize the EikonalSolver"
   ]
  },
  {
   "cell_type": "code",
   "execution_count": null,
   "metadata": {},
   "outputs": [],
   "source": [
    "solver = pykonal.EikonalSolver()\n",
    "\n",
    "solver.vgrid.min_coords     = 0, 0, 0\n",
    "solver.vgrid.node_intervals = 0.004, 0.004, 1\n",
    "solver.vgrid.npts           = vv.shape\n",
    "solver.vv                   = vv\n",
    "\n",
    "solver.pgrid.min_coords     = solver.vgrid.min_coords\n",
    "solver.pgrid.node_intervals = solver.vgrid.node_intervals\n",
    "solver.pgrid.npts           = solver.vgrid.npts"
   ]
  },
  {
   "cell_type": "markdown",
   "metadata": {},
   "source": [
    "### Add a source\n",
    "The source is at $\\left\\langle x, y, z \\right\\rangle = \\left\\langle 2, 1, 0\\right\\rangle \\left[km\\right]$"
   ]
  },
  {
   "cell_type": "code",
   "execution_count": null,
   "metadata": {},
   "outputs": [],
   "source": [
    "solver.add_source((2,1,0))"
   ]
  },
  {
   "cell_type": "markdown",
   "metadata": {},
   "source": [
    "### Solve the Eikonal equation"
   ]
  },
  {
   "cell_type": "code",
   "execution_count": null,
   "metadata": {},
   "outputs": [],
   "source": [
    "solver.solve()"
   ]
  },
  {
   "cell_type": "markdown",
   "metadata": {},
   "source": [
    "### Plot the results"
   ]
  },
  {
   "cell_type": "code",
   "execution_count": null,
   "metadata": {},
   "outputs": [],
   "source": [
    "plt.close('all')\n",
    "fig = plt.figure(figsize=(8, 5))\n",
    "fig.suptitle('Marmousi 2D Example')\n",
    "ax = fig.add_subplot(2, 1, 1, aspect=1)\n",
    "qmesh = ax.pcolormesh(\n",
    "    solver.vgrid[:,:,0,0],\n",
    "    solver.vgrid[:,:,0,1],\n",
    "    solver.vv[:,:,0],\n",
    "    cmap=plt.get_cmap('jet_r')\n",
    ")\n",
    "ax.set_xlabel('Offset [km]')\n",
    "ax.set_ylabel('Depth [km]')\n",
    "cbar = fig.colorbar(qmesh, ax=ax, shrink=0.75)\n",
    "cbar.set_label('Velocity [km/s]')\n",
    "ax.invert_yaxis()\n",
    "ax = fig.add_subplot(2, 1, 2, aspect=1)\n",
    "qmesh = ax.pcolormesh(\n",
    "    solver.pgrid[:,:,0,0], \n",
    "    solver.pgrid[:,:,0,1], \n",
    "    solver.uu[:,:,0], \n",
    "    cmap=plt.get_cmap('jet_r')\n",
    ")\n",
    "ax.set_xlabel('Offset [km]')\n",
    "ax.set_ylabel('Depth [km]')\n",
    "cbar = fig.colorbar(qmesh, ax=ax, shrink=0.75)\n",
    "cbar.set_label('Travel time [s]')\n",
    "ax.invert_yaxis()"
   ]
  }
 ],
 "metadata": {
  "kernelspec": {
   "display_name": "Python [conda env:py37]",
   "language": "python",
   "name": "conda-env-py37-py"
  },
  "language_info": {
   "codemirror_mode": {
    "name": "ipython",
    "version": 3
   },
   "file_extension": ".py",
   "mimetype": "text/x-python",
   "name": "python",
   "nbconvert_exporter": "python",
   "pygments_lexer": "ipython3",
   "version": "3.7.1"
  }
 },
 "nbformat": 4,
 "nbformat_minor": 2
}
