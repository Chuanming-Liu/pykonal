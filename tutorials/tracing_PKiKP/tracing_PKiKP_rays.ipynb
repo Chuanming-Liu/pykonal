{
 "cells": [
  {
   "cell_type": "markdown",
   "metadata": {},
   "source": [
    "# Teleseismic ray tracing: PKiKP\n",
    "\n",
    "## Malcolm C. A. White\n",
    "### 17 December 2020\n",
    "\n",
    "This notebook presents a brief tutorial on how to trace raypaths for teleseismic PKiKP phases. The examples shown are 2D examples to simplify plotting and improve efficiency, but the basic procedure is identical for the 3D case."
   ]
  },
  {
   "cell_type": "markdown",
   "metadata": {},
   "source": [
    "# 1. Preliminary setup"
   ]
  },
  {
   "cell_type": "markdown",
   "metadata": {},
   "source": [
    "## 1.1. Imports and constants"
   ]
  },
  {
   "cell_type": "code",
   "execution_count": null,
   "metadata": {},
   "outputs": [],
   "source": [
    "%matplotlib ipympl\n",
    "\n",
    "import matplotlib.pyplot as plt\n",
    "import numpy as np\n",
    "import pandas as pd\n",
    "import pykonal\n",
    "\n",
    "EARTH_RADIUS = 6371 # Earth radius in km.\n",
    "CMB = 3480 # Core-mantle boundary radius in km.\n",
    "ICB = 1220 # Inner-core outer-core boundary radius in km."
   ]
  },
  {
   "cell_type": "markdown",
   "metadata": {},
   "source": [
    "## 1.2. Define some convenient plotting functions"
   ]
  },
  {
   "cell_type": "code",
   "execution_count": null,
   "metadata": {},
   "outputs": [],
   "source": [
    "def plot_field(field, ax, irho=slice(None), itheta=slice(None), iphi=slice(None), cmap=plt.get_cmap(\"hot\"), boundaries=[ICB, CMB, EARTH_RADIUS], vmin=None, vmax=None):\n",
    "    nodes = field.nodes[irho, itheta, iphi]\n",
    "    xx = nodes[...,0] * np.sin(nodes[...,1]) * np.cos(nodes[...,2])\n",
    "    yy = nodes[...,0] * np.sin(nodes[...,1]) * np.sin(nodes[...,2])\n",
    "\n",
    "    qmesh = ax.pcolormesh(\n",
    "        xx, \n",
    "        yy, \n",
    "        field.values[irho, itheta, iphi], \n",
    "        cmap=cmap,\n",
    "        vmin=vmin,\n",
    "        vmax=vmax,\n",
    "        shading=\"gouraud\"\n",
    "    )\n",
    "\n",
    "    theta = np.linspace(field.min_coords[2], field.max_coords[2], 64)\n",
    "    for boundary in boundaries:\n",
    "        ax.plot(\n",
    "            boundary * np.cos(theta),\n",
    "            boundary * np.sin(theta),\n",
    "            color=\"k\",\n",
    "            linewidth=1\n",
    "        )\n",
    "\n",
    "    return (qmesh)"
   ]
  },
  {
   "cell_type": "markdown",
   "metadata": {},
   "source": [
    "## 1.3. Load the IASP91 velocity model"
   ]
  },
  {
   "cell_type": "code",
   "execution_count": null,
   "metadata": {},
   "outputs": [],
   "source": [
    "iasp91 = pd.read_csv(\n",
    "    \"IASP91.csv\",\n",
    "    header=None,\n",
    "    names=[\"depth\", \"radius\", \"Vp\", \"Vs\"]\n",
    ")"
   ]
  },
  {
   "cell_type": "markdown",
   "metadata": {},
   "source": [
    "# 2. Tracing PKiKP reflections\n",
    "\n",
    "## 2.1. Propagating the wavefront\n",
    "This section consists of a loop to propagate the wavefront along different segments of the propagation path. First, the wavefront propagates from the source to the inner-core boundary. Then, the wavefront is propagated from the inner-core boundary back to the surface."
   ]
  },
  {
   "cell_type": "code",
   "execution_count": null,
   "metadata": {},
   "outputs": [],
   "source": [
    "# Define how many nodes to use in the radial and azimuthal directions.\n",
    "nrho, nphi = 256, 256\n",
    "\n",
    "# An empty list to hold solvers for different segments of the propagation.\n",
    "solvers = []\n",
    "\n",
    "# Define the source location.\n",
    "src_loc = 5971, np.pi/2, np.pi/2\n",
    "\n",
    "# This parameter defines segments of the propagation path. The wavefronts go\n",
    "# from the source to the inner core boundary, then from the inner-core boundary\n",
    "# to the Earth's surface.\n",
    "path = (\n",
    "    (EARTH_RADIUS, ICB), # This defines the first segment of the path.\n",
    "    (ICB, EARTH_RADIUS) # This defines the second segment.\n",
    ")\n",
    "\n",
    "plt.close(\"all\")\n",
    "\n",
    "for ipath in range(len(path)):\n",
    "    path_seg = path[ipath]\n",
    "\n",
    "    if ipath == 0:\n",
    "        # If this is the first segment of the propagation path, then use a\n",
    "        # PointSourceSolver.\n",
    "        solver = pykonal.solver.PointSourceSolver(coord_sys=\"spherical\") \n",
    "    else:\n",
    "        # Otherwise use an ordinary EikonalSolver.\n",
    "        solver = pykonal.EikonalSolver(coord_sys=\"spherical\")\n",
    "\n",
    "    solvers.append(solver)\n",
    "\n",
    "    # Define the computational domain.\n",
    "    solver.vv.min_coords = min(path_seg), np.pi / 2, 0 \n",
    "    solver.vv.node_intervals = (\n",
    "        (max(path_seg) - min(path_seg)) / (nrho - 1), \n",
    "        1, \n",
    "        np.pi / (nphi - 1)\n",
    "    )\n",
    "    solver.vv.npts = nrho, 1, nphi\n",
    "\n",
    "    # Interpolate IASP91 onto the computational grid.\n",
    "    solver.vv.values = np.interp(\n",
    "        solver.vv.nodes[..., 0],\n",
    "        iasp91[\"radius\"].values[-1::-1],\n",
    "        iasp91[\"Vp\"].values[-1::-1]\n",
    "    )\n",
    "\n",
    "    if ipath == 0:\n",
    "        # If this is the first segment of the propagation path, set the source\n",
    "        # location.\n",
    "        solver.src_loc = src_loc\n",
    "    else:\n",
    "        # Otherwise interpolate the traveltime field of the previous segment of\n",
    "        # of the propagation path onto the boundary of the current segment.\n",
    "        if path_seg[0] < path_seg[1]:\n",
    "            # If this is a upgoing wavefront, then interpolate onto the lower\n",
    "            # boundary.\n",
    "            irho = 0\n",
    "        else:\n",
    "            # Otherwise interpolate onto the upper boundary.\n",
    "            irho = nrho - 1\n",
    "        # Set the traveltime at each node along the boundary of the current\n",
    "        # segment of the propagation path equal to the value at that position\n",
    "        # from the previous segment.\n",
    "        for iphi in range(nphi):\n",
    "            idx = (irho, 0, iphi)\n",
    "            node = solver.tt.nodes[idx]\n",
    "            solver.tt.values[idx] = solvers[ipath-1].tt.resample(node.reshape(1, 3))\n",
    "            solver.unknown[idx] = False\n",
    "            solver.trial.push(*idx)\n",
    "\n",
    "    # Finally, solve the eikonal equation for the traveltime field.\n",
    "    print(\"Solving the eikonal equation...\")\n",
    "    %time solver.solve()"
   ]
  },
  {
   "cell_type": "markdown",
   "metadata": {},
   "source": [
    "## 2.2. Plot the results"
   ]
  },
  {
   "cell_type": "code",
   "execution_count": null,
   "metadata": {},
   "outputs": [],
   "source": [
    "plt.close(\"all\")\n",
    "fig, axes = plt.subplots(figsize=(12, 6), nrows=1, ncols=3)\n",
    "for ax in axes:\n",
    "    ax.set_aspect(1)\n",
    "    \n",
    "axes[0].set_title(\"Velocity\")\n",
    "qmesh = plot_field(solvers[0].vv, axes[0], itheta=0)\n",
    "cbar = fig.colorbar(qmesh, ax=axes[0], orientation=\"horizontal\")\n",
    "cbar.set_label(\"$v_P$ (km s$^{-1}$)\")\n",
    "xx = src_loc[0] * np.cos(src_loc[2])\n",
    "yy = src_loc[0] * np.sin(src_loc[2])\n",
    "axes[0].scatter(xx, yy, marker=\"*\", facecolor=\"w\", edgecolor=\"k\", linewidth=1, s=256, zorder=100)\n",
    "\n",
    "axes[1].set_title(\"Downgoing wavefront\")\n",
    "qmesh = plot_field(solvers[0].tt, axes[1], itheta=0, cmap=plt.get_cmap(\"nipy_spectral_r\"), vmin=0, vmax=solvers[-1].tt.values.max())\n",
    "cbar = fig.colorbar(qmesh, ax=axes[1], orientation=\"horizontal\")\n",
    "cbar.set_label(\"Traveltime (s)\")\n",
    "axes[1].set_yticklabels([])\n",
    "\n",
    "axes[2].set_title(\"Upgoing (reflected) wavefront\")\n",
    "qmesh = plot_field(solvers[1].tt, axes[2], itheta=0, cmap=plt.get_cmap(\"nipy_spectral_r\"), vmin=0, vmax=solvers[-1].tt.values.max())\n",
    "cbar = fig.colorbar(qmesh, ax=axes[2], orientation=\"horizontal\")\n",
    "cbar.set_label(\"Traveltime (s)\")\n",
    "axes[2].yaxis.tick_right()\n",
    "\n",
    "for ax in axes:\n",
    "    ax.tick_params(axis=\"y\", left=True, right=True)"
   ]
  },
  {
   "cell_type": "markdown",
   "metadata": {},
   "source": [
    "## 2.3. Trace some reflected rays"
   ]
  },
  {
   "cell_type": "code",
   "execution_count": null,
   "metadata": {},
   "outputs": [],
   "source": [
    "rx_loc = (6371, np.pi/2, src_loc[2] - np.pi/4)\n",
    "\n",
    "for rx_phi in src_loc[2] + np.array([7, 5, 3, 1, -2, -4, -6]) * np.pi/16:\n",
    "    # Define a receiver location.\n",
    "    rx_loc = (6371, np.pi/2, rx_phi)\n",
    "\n",
    "    # Create an empty raypath.\n",
    "    ray = np.empty((0, 3))\n",
    "\n",
    "    # Trace the ray from the receiver to the inner-core-boundary.\n",
    "    ipath = len(solvers) - 1 # Start with the last segment of the propagation path.\n",
    "    path_seg = path[ipath]\n",
    "    solver = solvers[ipath]\n",
    "    ray_seg = solver.trace_ray(np.array(rx_loc))\n",
    "    \n",
    "    # The ray refracts along the lower (i.e., inner-core) boundary, so this is\n",
    "    # a hack to drop the refracted part of the raypath.\n",
    "    idx = np.where( (ray_seg[...,0] - path_seg[0]) < solver.tt.step_size * 3 )[0][-1]\n",
    "    ray = np.vstack([ray, ray_seg[idx:]])\n",
    "\n",
    "    # Trace the ray from the inner-core boundary to the source.\n",
    "    ipath -= 1\n",
    "    solver = solvers[ipath]\n",
    "    ray_seg = solver.trace_ray(ray[0])\n",
    "    ray = np.vstack([ray_seg, ray])\n",
    "    \n",
    "    \n",
    "    # Plot the raypath on the velocity model.\n",
    "    xx = ray[..., 0] * np.cos(ray[..., 2])\n",
    "    yy = ray[..., 0] * np.sin(ray[..., 2])\n",
    "    axes[0].plot(xx, yy, color=\"k\", linewidth=0.5)"
   ]
  },
  {
   "cell_type": "code",
   "execution_count": null,
   "metadata": {},
   "outputs": [],
   "source": []
  }
 ],
 "metadata": {
  "kernelspec": {
   "display_name": "Python [conda env:py38]",
   "language": "python",
   "name": "conda-env-py38-py"
  },
  "language_info": {
   "codemirror_mode": {
    "name": "ipython",
    "version": 3
   },
   "file_extension": ".py",
   "mimetype": "text/x-python",
   "name": "python",
   "nbconvert_exporter": "python",
   "pygments_lexer": "ipython3",
   "version": "3.8.6"
  }
 },
 "nbformat": 4,
 "nbformat_minor": 4
}
